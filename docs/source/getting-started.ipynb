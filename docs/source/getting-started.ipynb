{
 "cells": [
  {
   "cell_type": "markdown",
   "metadata": {},
   "source": [
    "# Getting Started"
   ]
  },
  {
   "cell_type": "markdown",
   "metadata": {},
   "source": [
    "This notebook demonstrates data catalog functionality provided by `intake-cesm`. Let's begin by importing intake:"
   ]
  },
  {
   "cell_type": "code",
   "execution_count": 1,
   "metadata": {},
   "outputs": [],
   "source": [
    "import intake"
   ]
  },
  {
   "cell_type": "markdown",
   "metadata": {},
   "source": [
    "## Open a Collection\n",
    "\n",
    "So far, `intake-cesm` supports data sets from 3 CESM collections:\n",
    "\n",
    "- `cesm_dple`: DPLE | Decadal Prediction Large Ensemble Project\n",
    "- `cesm2_runs`: CESM runs\n",
    "- `cesm1_le`: LE | Large Ensemble Community Project\n",
    "\n",
    "\n",
    "\n",
    "To use `intake-cesm`, we instatiate a `cesm_metadatastore` class with the name of the collection we want to use.\n",
    "\n",
    "Since the class is in the top-level of the package i.e `__init__.py`, and the package name starts with `intake_`, it will be scanned when Intake is imported. Now the plugin automatically appears in the set of known plugins in the Intake registry, and an associated `intake.open_cesm_metadatastore` function is created at import time."
   ]
  },
  {
   "cell_type": "code",
   "execution_count": 2,
   "metadata": {},
   "outputs": [
    {
     "data": {
      "text/plain": [
       "{'yaml_file_cat': intake.catalog.local.YAMLFileCatalog,\n",
       " 'yaml_files_cat': intake.catalog.local.YAMLFilesCatalog,\n",
       " 'remote-xarray': intake_xarray.xarray_container.RemoteXarray,\n",
       " 'xarray_image': intake_xarray.image.ImageSource,\n",
       " 'netcdf': intake_xarray.netcdf.NetCDFSource,\n",
       " 'opendap': intake_xarray.opendap.OpenDapSource,\n",
       " 'rasterio': intake_xarray.raster.RasterIOSource,\n",
       " 'zarr': intake_xarray.xzarr.ZarrSource,\n",
       " 'cesm_metadatastore': intake_cesm.core.CesmMetadataStoreCatalog,\n",
       " 'cesm': intake_cesm.core.CesmSource,\n",
       " 'csv': intake.source.csv.CSVSource,\n",
       " 'textfiles': intake.source.textfiles.TextFilesSource,\n",
       " 'catalog': intake.catalog.base.Catalog,\n",
       " 'intake_remote': intake.catalog.base.RemoteCatalog,\n",
       " 'numpy': intake.source.npy.NPySource}"
      ]
     },
     "execution_count": 2,
     "metadata": {},
     "output_type": "execute_result"
    }
   ],
   "source": [
    "intake.registry"
   ]
  },
  {
   "cell_type": "code",
   "execution_count": 3,
   "metadata": {},
   "outputs": [
    {
     "name": "stdout",
     "output_type": "stream",
     "text": [
      "Active collection: cesm_dple\n"
     ]
    }
   ],
   "source": [
    "collection = intake.open_cesm_metadatastore('cesm_dple')"
   ]
  },
  {
   "cell_type": "code",
   "execution_count": 4,
   "metadata": {},
   "outputs": [
    {
     "data": {
      "text/html": [
       "<div>\n",
       "<style scoped>\n",
       "    .dataframe tbody tr th:only-of-type {\n",
       "        vertical-align: middle;\n",
       "    }\n",
       "\n",
       "    .dataframe tbody tr th {\n",
       "        vertical-align: top;\n",
       "    }\n",
       "\n",
       "    .dataframe thead th {\n",
       "        text-align: right;\n",
       "    }\n",
       "</style>\n",
       "<table border=\"1\" class=\"dataframe\">\n",
       "  <thead>\n",
       "    <tr style=\"text-align: right;\">\n",
       "      <th></th>\n",
       "      <th>case</th>\n",
       "      <th>component</th>\n",
       "      <th>date_range</th>\n",
       "      <th>ensemble</th>\n",
       "      <th>experiment</th>\n",
       "      <th>file_basename</th>\n",
       "      <th>files</th>\n",
       "      <th>grid</th>\n",
       "      <th>sequence_order</th>\n",
       "      <th>stream</th>\n",
       "      <th>variable</th>\n",
       "      <th>year_offset</th>\n",
       "      <th>ctrl_branch_year</th>\n",
       "      <th>has_ocean_bgc</th>\n",
       "    </tr>\n",
       "  </thead>\n",
       "  <tbody>\n",
       "    <tr>\n",
       "      <th>0</th>\n",
       "      <td>g.e11_LENS.GECOIAF.T62_g16.009</td>\n",
       "      <td>ocn</td>\n",
       "      <td>['024901', '031612']</td>\n",
       "      <td>0</td>\n",
       "      <td>hindcast_sigma_coord</td>\n",
       "      <td>g.e11_LENS.GECOIAF.T62_g16.009.pop.h.sigma.NO3...</td>\n",
       "      <td>/glade/p/cgd/oce/projects/DPLE_O2/sigma_coord/...</td>\n",
       "      <td>POP_gx1v6</td>\n",
       "      <td>0</td>\n",
       "      <td>pop.h.sigma</td>\n",
       "      <td>NO3</td>\n",
       "      <td>1699</td>\n",
       "      <td>NaN</td>\n",
       "      <td>NaN</td>\n",
       "    </tr>\n",
       "    <tr>\n",
       "      <th>1</th>\n",
       "      <td>g.e11_LENS.GECOIAF.T62_g16.009</td>\n",
       "      <td>ocn</td>\n",
       "      <td>['024901', '031612']</td>\n",
       "      <td>0</td>\n",
       "      <td>hindcast_sigma_coord</td>\n",
       "      <td>g.e11_LENS.GECOIAF.T62_g16.009.pop.h.sigma.O2....</td>\n",
       "      <td>/glade/p/cgd/oce/projects/DPLE_O2/sigma_coord/...</td>\n",
       "      <td>POP_gx1v6</td>\n",
       "      <td>0</td>\n",
       "      <td>pop.h.sigma</td>\n",
       "      <td>O2</td>\n",
       "      <td>1699</td>\n",
       "      <td>NaN</td>\n",
       "      <td>NaN</td>\n",
       "    </tr>\n",
       "    <tr>\n",
       "      <th>2</th>\n",
       "      <td>g.e11_LENS.GECOIAF.T62_g16.009</td>\n",
       "      <td>ocn</td>\n",
       "      <td>['024901', '031612']</td>\n",
       "      <td>0</td>\n",
       "      <td>hindcast_sigma_coord</td>\n",
       "      <td>g.e11_LENS.GECOIAF.T62_g16.009.pop.h.sigma.SAL...</td>\n",
       "      <td>/glade/p/cgd/oce/projects/DPLE_O2/sigma_coord/...</td>\n",
       "      <td>POP_gx1v6</td>\n",
       "      <td>0</td>\n",
       "      <td>pop.h.sigma</td>\n",
       "      <td>SALT</td>\n",
       "      <td>1699</td>\n",
       "      <td>NaN</td>\n",
       "      <td>NaN</td>\n",
       "    </tr>\n",
       "    <tr>\n",
       "      <th>3</th>\n",
       "      <td>g.e11_LENS.GECOIAF.T62_g16.009</td>\n",
       "      <td>ocn</td>\n",
       "      <td>['024901', '031612']</td>\n",
       "      <td>0</td>\n",
       "      <td>hindcast_sigma_coord</td>\n",
       "      <td>g.e11_LENS.GECOIAF.T62_g16.009.pop.h.sigma.TEM...</td>\n",
       "      <td>/glade/p/cgd/oce/projects/DPLE_O2/sigma_coord/...</td>\n",
       "      <td>POP_gx1v6</td>\n",
       "      <td>0</td>\n",
       "      <td>pop.h.sigma</td>\n",
       "      <td>TEMP</td>\n",
       "      <td>1699</td>\n",
       "      <td>NaN</td>\n",
       "      <td>NaN</td>\n",
       "    </tr>\n",
       "    <tr>\n",
       "      <th>4</th>\n",
       "      <td>g.e11_LENS.GECOIAF.T62_g16.009</td>\n",
       "      <td>ice</td>\n",
       "      <td>['024901', '031612']</td>\n",
       "      <td>0</td>\n",
       "      <td>hindcast</td>\n",
       "      <td>g.e11_LENS.GECOIAF.T62_g16.009.cice.h.FYarea_n...</td>\n",
       "      <td>/glade/p/cesm/community/CESM-DPLE/CESM-DPLE_PO...</td>\n",
       "      <td>NaN</td>\n",
       "      <td>0</td>\n",
       "      <td>cice.h</td>\n",
       "      <td>FYarea_nh</td>\n",
       "      <td>1699</td>\n",
       "      <td>NaN</td>\n",
       "      <td>NaN</td>\n",
       "    </tr>\n",
       "  </tbody>\n",
       "</table>\n",
       "</div>"
      ],
      "text/plain": [
       "                             case component            date_range  ensemble  \\\n",
       "0  g.e11_LENS.GECOIAF.T62_g16.009       ocn  ['024901', '031612']         0   \n",
       "1  g.e11_LENS.GECOIAF.T62_g16.009       ocn  ['024901', '031612']         0   \n",
       "2  g.e11_LENS.GECOIAF.T62_g16.009       ocn  ['024901', '031612']         0   \n",
       "3  g.e11_LENS.GECOIAF.T62_g16.009       ocn  ['024901', '031612']         0   \n",
       "4  g.e11_LENS.GECOIAF.T62_g16.009       ice  ['024901', '031612']         0   \n",
       "\n",
       "             experiment                                      file_basename  \\\n",
       "0  hindcast_sigma_coord  g.e11_LENS.GECOIAF.T62_g16.009.pop.h.sigma.NO3...   \n",
       "1  hindcast_sigma_coord  g.e11_LENS.GECOIAF.T62_g16.009.pop.h.sigma.O2....   \n",
       "2  hindcast_sigma_coord  g.e11_LENS.GECOIAF.T62_g16.009.pop.h.sigma.SAL...   \n",
       "3  hindcast_sigma_coord  g.e11_LENS.GECOIAF.T62_g16.009.pop.h.sigma.TEM...   \n",
       "4              hindcast  g.e11_LENS.GECOIAF.T62_g16.009.cice.h.FYarea_n...   \n",
       "\n",
       "                                               files       grid  \\\n",
       "0  /glade/p/cgd/oce/projects/DPLE_O2/sigma_coord/...  POP_gx1v6   \n",
       "1  /glade/p/cgd/oce/projects/DPLE_O2/sigma_coord/...  POP_gx1v6   \n",
       "2  /glade/p/cgd/oce/projects/DPLE_O2/sigma_coord/...  POP_gx1v6   \n",
       "3  /glade/p/cgd/oce/projects/DPLE_O2/sigma_coord/...  POP_gx1v6   \n",
       "4  /glade/p/cesm/community/CESM-DPLE/CESM-DPLE_PO...        NaN   \n",
       "\n",
       "   sequence_order       stream   variable  year_offset  ctrl_branch_year  \\\n",
       "0               0  pop.h.sigma        NO3         1699               NaN   \n",
       "1               0  pop.h.sigma         O2         1699               NaN   \n",
       "2               0  pop.h.sigma       SALT         1699               NaN   \n",
       "3               0  pop.h.sigma       TEMP         1699               NaN   \n",
       "4               0       cice.h  FYarea_nh         1699               NaN   \n",
       "\n",
       "   has_ocean_bgc  \n",
       "0            NaN  \n",
       "1            NaN  \n",
       "2            NaN  \n",
       "3            NaN  \n",
       "4            NaN  "
      ]
     },
     "execution_count": 4,
     "metadata": {},
     "output_type": "execute_result"
    }
   ],
   "source": [
    "collection.df.head()"
   ]
  },
  {
   "cell_type": "code",
   "execution_count": 5,
   "metadata": {},
   "outputs": [
    {
     "name": "stdout",
     "output_type": "stream",
     "text": [
      "<class 'pandas.core.frame.DataFrame'>\n",
      "Int64Index: 583 entries, 0 to 582\n",
      "Data columns (total 14 columns):\n",
      "case                583 non-null object\n",
      "component           583 non-null object\n",
      "date_range          583 non-null object\n",
      "ensemble            583 non-null int64\n",
      "experiment          583 non-null object\n",
      "file_basename       583 non-null object\n",
      "files               583 non-null object\n",
      "grid                325 non-null object\n",
      "sequence_order      583 non-null int64\n",
      "stream              583 non-null object\n",
      "variable            583 non-null object\n",
      "year_offset         583 non-null int64\n",
      "ctrl_branch_year    0 non-null float64\n",
      "has_ocean_bgc       0 non-null float64\n",
      "dtypes: float64(2), int64(3), object(9)\n",
      "memory usage: 68.3+ KB\n"
     ]
    }
   ],
   "source": [
    "collection.df.info()"
   ]
  },
  {
   "cell_type": "markdown",
   "metadata": {},
   "source": [
    "## Set active collection\n",
    "\n",
    "`Intake-cesm` allows the user to switch active collections by calling `set_collection(collection_name)`."
   ]
  },
  {
   "cell_type": "code",
   "execution_count": 6,
   "metadata": {},
   "outputs": [
    {
     "name": "stdout",
     "output_type": "stream",
     "text": [
      "Active collection: cesm1_le\n"
     ]
    }
   ],
   "source": [
    "collection.set_collection('cesm1_le')"
   ]
  },
  {
   "cell_type": "code",
   "execution_count": 7,
   "metadata": {},
   "outputs": [
    {
     "data": {
      "text/html": [
       "<div>\n",
       "<style scoped>\n",
       "    .dataframe tbody tr th:only-of-type {\n",
       "        vertical-align: middle;\n",
       "    }\n",
       "\n",
       "    .dataframe tbody tr th {\n",
       "        vertical-align: top;\n",
       "    }\n",
       "\n",
       "    .dataframe thead th {\n",
       "        text-align: right;\n",
       "    }\n",
       "</style>\n",
       "<table border=\"1\" class=\"dataframe\">\n",
       "  <thead>\n",
       "    <tr style=\"text-align: right;\">\n",
       "      <th></th>\n",
       "      <th>case</th>\n",
       "      <th>component</th>\n",
       "      <th>date_range</th>\n",
       "      <th>ensemble</th>\n",
       "      <th>experiment</th>\n",
       "      <th>file_basename</th>\n",
       "      <th>files</th>\n",
       "      <th>freq</th>\n",
       "      <th>grid</th>\n",
       "      <th>has_ocean_bgc</th>\n",
       "      <th>sequence_order</th>\n",
       "      <th>variable</th>\n",
       "      <th>year_offset</th>\n",
       "      <th>ctrl_branch_year</th>\n",
       "    </tr>\n",
       "  </thead>\n",
       "  <tbody>\n",
       "    <tr>\n",
       "      <th>0</th>\n",
       "      <td>b.e11.BRCP85C5CNBDRD.f09_g16.105</td>\n",
       "      <td>ice</td>\n",
       "      <td>['200601', '210012']</td>\n",
       "      <td>105</td>\n",
       "      <td>RCP85</td>\n",
       "      <td>b.e11.BRCP85C5CNBDRD.f09_g16.105.cice.h.hisnap...</td>\n",
       "      <td>/glade/collections/cdg/data/cesmLE/CESM-CAM5-B...</td>\n",
       "      <td>month_1</td>\n",
       "      <td>POP_gx1v6</td>\n",
       "      <td>True</td>\n",
       "      <td>1</td>\n",
       "      <td>hisnap_nh</td>\n",
       "      <td>NaN</td>\n",
       "      <td>NaN</td>\n",
       "    </tr>\n",
       "    <tr>\n",
       "      <th>1</th>\n",
       "      <td>b.e11.BRCP85C5CNBDRD.f09_g16.105</td>\n",
       "      <td>ice</td>\n",
       "      <td>['200601', '210012']</td>\n",
       "      <td>105</td>\n",
       "      <td>RCP85</td>\n",
       "      <td>b.e11.BRCP85C5CNBDRD.f09_g16.105.cice.h.hisnap...</td>\n",
       "      <td>/glade/collections/cdg/data/cesmLE/CESM-CAM5-B...</td>\n",
       "      <td>month_1</td>\n",
       "      <td>POP_gx1v6</td>\n",
       "      <td>True</td>\n",
       "      <td>1</td>\n",
       "      <td>hisnap_sh</td>\n",
       "      <td>NaN</td>\n",
       "      <td>NaN</td>\n",
       "    </tr>\n",
       "    <tr>\n",
       "      <th>2</th>\n",
       "      <td>b.e11.BRCP85C5CNBDRD.f09_g16.105</td>\n",
       "      <td>ice</td>\n",
       "      <td>['200601', '210012']</td>\n",
       "      <td>105</td>\n",
       "      <td>RCP85</td>\n",
       "      <td>b.e11.BRCP85C5CNBDRD.f09_g16.105.cice.h.strair...</td>\n",
       "      <td>/glade/collections/cdg/data/cesmLE/CESM-CAM5-B...</td>\n",
       "      <td>month_1</td>\n",
       "      <td>POP_gx1v6</td>\n",
       "      <td>True</td>\n",
       "      <td>1</td>\n",
       "      <td>strairy_nh</td>\n",
       "      <td>NaN</td>\n",
       "      <td>NaN</td>\n",
       "    </tr>\n",
       "    <tr>\n",
       "      <th>3</th>\n",
       "      <td>b.e11.BRCP85C5CNBDRD.f09_g16.105</td>\n",
       "      <td>ice</td>\n",
       "      <td>['200601', '210012']</td>\n",
       "      <td>105</td>\n",
       "      <td>RCP85</td>\n",
       "      <td>b.e11.BRCP85C5CNBDRD.f09_g16.105.cice.h.strair...</td>\n",
       "      <td>/glade/collections/cdg/data/cesmLE/CESM-CAM5-B...</td>\n",
       "      <td>month_1</td>\n",
       "      <td>POP_gx1v6</td>\n",
       "      <td>True</td>\n",
       "      <td>1</td>\n",
       "      <td>strairy_sh</td>\n",
       "      <td>NaN</td>\n",
       "      <td>NaN</td>\n",
       "    </tr>\n",
       "    <tr>\n",
       "      <th>4</th>\n",
       "      <td>b.e11.BRCP85C5CNBDRD.f09_g16.105</td>\n",
       "      <td>ice</td>\n",
       "      <td>['200601', '210012']</td>\n",
       "      <td>105</td>\n",
       "      <td>RCP85</td>\n",
       "      <td>b.e11.BRCP85C5CNBDRD.f09_g16.105.cice.h.strcor...</td>\n",
       "      <td>/glade/collections/cdg/data/cesmLE/CESM-CAM5-B...</td>\n",
       "      <td>month_1</td>\n",
       "      <td>POP_gx1v6</td>\n",
       "      <td>True</td>\n",
       "      <td>1</td>\n",
       "      <td>strcory_nh</td>\n",
       "      <td>NaN</td>\n",
       "      <td>NaN</td>\n",
       "    </tr>\n",
       "  </tbody>\n",
       "</table>\n",
       "</div>"
      ],
      "text/plain": [
       "                               case component            date_range  ensemble  \\\n",
       "0  b.e11.BRCP85C5CNBDRD.f09_g16.105       ice  ['200601', '210012']       105   \n",
       "1  b.e11.BRCP85C5CNBDRD.f09_g16.105       ice  ['200601', '210012']       105   \n",
       "2  b.e11.BRCP85C5CNBDRD.f09_g16.105       ice  ['200601', '210012']       105   \n",
       "3  b.e11.BRCP85C5CNBDRD.f09_g16.105       ice  ['200601', '210012']       105   \n",
       "4  b.e11.BRCP85C5CNBDRD.f09_g16.105       ice  ['200601', '210012']       105   \n",
       "\n",
       "  experiment                                      file_basename  \\\n",
       "0      RCP85  b.e11.BRCP85C5CNBDRD.f09_g16.105.cice.h.hisnap...   \n",
       "1      RCP85  b.e11.BRCP85C5CNBDRD.f09_g16.105.cice.h.hisnap...   \n",
       "2      RCP85  b.e11.BRCP85C5CNBDRD.f09_g16.105.cice.h.strair...   \n",
       "3      RCP85  b.e11.BRCP85C5CNBDRD.f09_g16.105.cice.h.strair...   \n",
       "4      RCP85  b.e11.BRCP85C5CNBDRD.f09_g16.105.cice.h.strcor...   \n",
       "\n",
       "                                               files     freq       grid  \\\n",
       "0  /glade/collections/cdg/data/cesmLE/CESM-CAM5-B...  month_1  POP_gx1v6   \n",
       "1  /glade/collections/cdg/data/cesmLE/CESM-CAM5-B...  month_1  POP_gx1v6   \n",
       "2  /glade/collections/cdg/data/cesmLE/CESM-CAM5-B...  month_1  POP_gx1v6   \n",
       "3  /glade/collections/cdg/data/cesmLE/CESM-CAM5-B...  month_1  POP_gx1v6   \n",
       "4  /glade/collections/cdg/data/cesmLE/CESM-CAM5-B...  month_1  POP_gx1v6   \n",
       "\n",
       "   has_ocean_bgc  sequence_order    variable  year_offset  ctrl_branch_year  \n",
       "0           True               1   hisnap_nh          NaN               NaN  \n",
       "1           True               1   hisnap_sh          NaN               NaN  \n",
       "2           True               1  strairy_nh          NaN               NaN  \n",
       "3           True               1  strairy_sh          NaN               NaN  \n",
       "4           True               1  strcory_nh          NaN               NaN  "
      ]
     },
     "execution_count": 7,
     "metadata": {},
     "output_type": "execute_result"
    }
   ],
   "source": [
    "collection.df.head()"
   ]
  },
  {
   "cell_type": "code",
   "execution_count": 8,
   "metadata": {},
   "outputs": [
    {
     "name": "stdout",
     "output_type": "stream",
     "text": [
      "<class 'pandas.core.frame.DataFrame'>\n",
      "Int64Index: 116275 entries, 0 to 116274\n",
      "Data columns (total 14 columns):\n",
      "case                116275 non-null object\n",
      "component           116275 non-null object\n",
      "date_range          116275 non-null object\n",
      "ensemble            116275 non-null int64\n",
      "experiment          116275 non-null object\n",
      "file_basename       116275 non-null object\n",
      "files               116275 non-null object\n",
      "freq                116275 non-null object\n",
      "grid                112347 non-null object\n",
      "has_ocean_bgc       116275 non-null bool\n",
      "sequence_order      116275 non-null int64\n",
      "variable            116275 non-null object\n",
      "year_offset         15145 non-null float64\n",
      "ctrl_branch_year    0 non-null float64\n",
      "dtypes: bool(1), float64(2), int64(2), object(9)\n",
      "memory usage: 12.5+ MB\n"
     ]
    }
   ],
   "source": [
    "collection.df.info()"
   ]
  },
  {
   "cell_type": "markdown",
   "metadata": {},
   "source": [
    "## Search entries matching query\n",
    "\n",
    "One of the features supported in `intake-cesm` is querying the collection. This is achieved through the `search` method. The `search` method allows the user to specify a query by using keyword arguments. This method returns a subset of the collection with all the entries that match the query. "
   ]
  },
  {
   "cell_type": "code",
   "execution_count": 9,
   "metadata": {},
   "outputs": [],
   "source": [
    "cat = collection.search(experiment=['20C', 'RCP85'], component='ocn', ensemble=1, variable='FG_CO2')"
   ]
  },
  {
   "cell_type": "code",
   "execution_count": 10,
   "metadata": {},
   "outputs": [
    {
     "name": "stdout",
     "output_type": "stream",
     "text": [
      "plugins:\n",
      "  source:\n",
      "  - module: intake_cesm.core\n",
      "sources:\n",
      "  cesm1_le-de2ba608-e8f4-4726-b434-8238d91722ea:\n",
      "    args:\n",
      "      chunks:\n",
      "        time: 1\n",
      "      collection: cesm1_le\n",
      "      concat_dim: time\n",
      "      decode_coords: false\n",
      "      decode_times: false\n",
      "      engine: netcdf4\n",
      "      query:\n",
      "        case: null\n",
      "        component: ocn\n",
      "        ctrl_branch_year: null\n",
      "        date_range: null\n",
      "        ensemble: 1\n",
      "        experiment:\n",
      "        - 20C\n",
      "        - RCP85\n",
      "        has_ocean_bgc: null\n",
      "        stream: null\n",
      "        variable: FG_CO2\n",
      "    description: Catalog from cesm1_le collection\n",
      "    driver: cesm\n",
      "    metadata:\n",
      "      cache: {}\n",
      "      catalog_dir: ''\n",
      "\n"
     ]
    }
   ],
   "source": [
    "print(cat.yaml(True))"
   ]
  },
  {
   "cell_type": "code",
   "execution_count": 11,
   "metadata": {},
   "outputs": [
    {
     "name": "stdout",
     "output_type": "stream",
     "text": [
      "<class 'pandas.core.frame.DataFrame'>\n",
      "Int64Index: 3 entries, 100755 to 64402\n",
      "Data columns (total 14 columns):\n",
      "case                3 non-null object\n",
      "component           3 non-null object\n",
      "date_range          3 non-null object\n",
      "ensemble            3 non-null int64\n",
      "experiment          3 non-null object\n",
      "file_basename       3 non-null object\n",
      "files               3 non-null object\n",
      "freq                3 non-null object\n",
      "grid                3 non-null object\n",
      "has_ocean_bgc       3 non-null bool\n",
      "sequence_order      3 non-null int64\n",
      "variable            3 non-null object\n",
      "year_offset         0 non-null float64\n",
      "ctrl_branch_year    0 non-null float64\n",
      "dtypes: bool(1), float64(2), int64(2), object(9)\n",
      "memory usage: 339.0+ bytes\n"
     ]
    }
   ],
   "source": [
    "cat.results.info()"
   ]
  },
  {
   "cell_type": "code",
   "execution_count": 12,
   "metadata": {},
   "outputs": [
    {
     "ename": "ImportError",
     "evalue": "/glade/work/abanihi/softwares/miniconda3/envs/py-dev/lib/python3.6/site-packages/netCDF4/../../../././libcom_err.so.3: symbol k5_os_mutex_destroy, version krb5support_0_MIT not defined in file libkrb5support.so.0 with link time reference",
     "output_type": "error",
     "traceback": [
      "\u001b[0;31m---------------------------------------------------------------------------\u001b[0m",
      "\u001b[0;31mImportError\u001b[0m                               Traceback (most recent call last)",
      "\u001b[0;32m<ipython-input-12-016e6837d683>\u001b[0m in \u001b[0;36m<module>\u001b[0;34m\u001b[0m\n\u001b[0;32m----> 1\u001b[0;31m \u001b[0mds\u001b[0m \u001b[0;34m=\u001b[0m \u001b[0mcat\u001b[0m\u001b[0;34m.\u001b[0m\u001b[0mto_xarray\u001b[0m\u001b[0;34m(\u001b[0m\u001b[0;34m)\u001b[0m\u001b[0;34m\u001b[0m\u001b[0;34m\u001b[0m\u001b[0m\n\u001b[0m\u001b[1;32m      2\u001b[0m \u001b[0mds\u001b[0m\u001b[0;34m\u001b[0m\u001b[0;34m\u001b[0m\u001b[0m\n",
      "\u001b[0;32m/gpfs/u/home/abanihi/devel/intake-cesm/intake_cesm/core.py\u001b[0m in \u001b[0;36mto_xarray\u001b[0;34m(self, dask)\u001b[0m\n\u001b[1;32m    154\u001b[0m         \u001b[0;34m\"\"\"Return dataset as an xarray instance\"\"\"\u001b[0m\u001b[0;34m\u001b[0m\u001b[0;34m\u001b[0m\u001b[0m\n\u001b[1;32m    155\u001b[0m         \u001b[0;32mif\u001b[0m \u001b[0mdask\u001b[0m\u001b[0;34m:\u001b[0m\u001b[0;34m\u001b[0m\u001b[0;34m\u001b[0m\u001b[0m\n\u001b[0;32m--> 156\u001b[0;31m             \u001b[0;32mreturn\u001b[0m \u001b[0mself\u001b[0m\u001b[0;34m.\u001b[0m\u001b[0mto_dask\u001b[0m\u001b[0;34m(\u001b[0m\u001b[0;34m)\u001b[0m\u001b[0;34m\u001b[0m\u001b[0;34m\u001b[0m\u001b[0m\n\u001b[0m\u001b[1;32m    157\u001b[0m         \u001b[0;32mreturn\u001b[0m \u001b[0mself\u001b[0m\u001b[0;34m.\u001b[0m\u001b[0mread\u001b[0m\u001b[0;34m(\u001b[0m\u001b[0;34m)\u001b[0m\u001b[0;34m\u001b[0m\u001b[0;34m\u001b[0m\u001b[0m\n",
      "\u001b[0;32m/glade/work/abanihi/softwares/miniconda3/envs/py-dev/lib/python3.6/site-packages/intake_xarray/base.py\u001b[0m in \u001b[0;36mto_dask\u001b[0;34m(self)\u001b[0m\n\u001b[1;32m     68\u001b[0m     \u001b[0;32mdef\u001b[0m \u001b[0mto_dask\u001b[0m\u001b[0;34m(\u001b[0m\u001b[0mself\u001b[0m\u001b[0;34m)\u001b[0m\u001b[0;34m:\u001b[0m\u001b[0;34m\u001b[0m\u001b[0;34m\u001b[0m\u001b[0m\n\u001b[1;32m     69\u001b[0m         \u001b[0;34m\"\"\"Return xarray object where variables are dask arrays\"\"\"\u001b[0m\u001b[0;34m\u001b[0m\u001b[0;34m\u001b[0m\u001b[0m\n\u001b[0;32m---> 70\u001b[0;31m         \u001b[0;32mreturn\u001b[0m \u001b[0mself\u001b[0m\u001b[0;34m.\u001b[0m\u001b[0mread_chunked\u001b[0m\u001b[0;34m(\u001b[0m\u001b[0;34m)\u001b[0m\u001b[0;34m\u001b[0m\u001b[0;34m\u001b[0m\u001b[0m\n\u001b[0m\u001b[1;32m     71\u001b[0m \u001b[0;34m\u001b[0m\u001b[0m\n\u001b[1;32m     72\u001b[0m     \u001b[0;32mdef\u001b[0m \u001b[0mclose\u001b[0m\u001b[0;34m(\u001b[0m\u001b[0mself\u001b[0m\u001b[0;34m)\u001b[0m\u001b[0;34m:\u001b[0m\u001b[0;34m\u001b[0m\u001b[0;34m\u001b[0m\u001b[0m\n",
      "\u001b[0;32m/glade/work/abanihi/softwares/miniconda3/envs/py-dev/lib/python3.6/site-packages/intake_xarray/base.py\u001b[0m in \u001b[0;36mread_chunked\u001b[0;34m(self)\u001b[0m\n\u001b[1;32m     43\u001b[0m     \u001b[0;32mdef\u001b[0m \u001b[0mread_chunked\u001b[0m\u001b[0;34m(\u001b[0m\u001b[0mself\u001b[0m\u001b[0;34m)\u001b[0m\u001b[0;34m:\u001b[0m\u001b[0;34m\u001b[0m\u001b[0;34m\u001b[0m\u001b[0m\n\u001b[1;32m     44\u001b[0m         \u001b[0;34m\"\"\"Return xarray object (which will have chunks)\"\"\"\u001b[0m\u001b[0;34m\u001b[0m\u001b[0;34m\u001b[0m\u001b[0m\n\u001b[0;32m---> 45\u001b[0;31m         \u001b[0mself\u001b[0m\u001b[0;34m.\u001b[0m\u001b[0m_load_metadata\u001b[0m\u001b[0;34m(\u001b[0m\u001b[0;34m)\u001b[0m\u001b[0;34m\u001b[0m\u001b[0;34m\u001b[0m\u001b[0m\n\u001b[0m\u001b[1;32m     46\u001b[0m         \u001b[0;32mreturn\u001b[0m \u001b[0mself\u001b[0m\u001b[0;34m.\u001b[0m\u001b[0m_ds\u001b[0m\u001b[0;34m\u001b[0m\u001b[0;34m\u001b[0m\u001b[0m\n\u001b[1;32m     47\u001b[0m \u001b[0;34m\u001b[0m\u001b[0m\n",
      "\u001b[0;32m/glade/work/abanihi/softwares/miniconda3/envs/py-dev/lib/python3.6/site-packages/intake/source/base.py\u001b[0m in \u001b[0;36m_load_metadata\u001b[0;34m(self)\u001b[0m\n\u001b[1;32m    138\u001b[0m         \u001b[0;34m\"\"\"load metadata only if needed\"\"\"\u001b[0m\u001b[0;34m\u001b[0m\u001b[0;34m\u001b[0m\u001b[0m\n\u001b[1;32m    139\u001b[0m         \u001b[0;32mif\u001b[0m \u001b[0mself\u001b[0m\u001b[0;34m.\u001b[0m\u001b[0m_schema\u001b[0m \u001b[0;32mis\u001b[0m \u001b[0;32mNone\u001b[0m\u001b[0;34m:\u001b[0m\u001b[0;34m\u001b[0m\u001b[0;34m\u001b[0m\u001b[0m\n\u001b[0;32m--> 140\u001b[0;31m             \u001b[0mself\u001b[0m\u001b[0;34m.\u001b[0m\u001b[0m_schema\u001b[0m \u001b[0;34m=\u001b[0m \u001b[0mself\u001b[0m\u001b[0;34m.\u001b[0m\u001b[0m_get_schema\u001b[0m\u001b[0;34m(\u001b[0m\u001b[0;34m)\u001b[0m\u001b[0;34m\u001b[0m\u001b[0;34m\u001b[0m\u001b[0m\n\u001b[0m\u001b[1;32m    141\u001b[0m             \u001b[0mself\u001b[0m\u001b[0;34m.\u001b[0m\u001b[0mdatashape\u001b[0m \u001b[0;34m=\u001b[0m \u001b[0mself\u001b[0m\u001b[0;34m.\u001b[0m\u001b[0m_schema\u001b[0m\u001b[0;34m.\u001b[0m\u001b[0mdatashape\u001b[0m\u001b[0;34m\u001b[0m\u001b[0;34m\u001b[0m\u001b[0m\n\u001b[1;32m    142\u001b[0m             \u001b[0mself\u001b[0m\u001b[0;34m.\u001b[0m\u001b[0mdtype\u001b[0m \u001b[0;34m=\u001b[0m \u001b[0mself\u001b[0m\u001b[0;34m.\u001b[0m\u001b[0m_schema\u001b[0m\u001b[0;34m.\u001b[0m\u001b[0mdtype\u001b[0m\u001b[0;34m\u001b[0m\u001b[0;34m\u001b[0m\u001b[0m\n",
      "\u001b[0;32m/glade/work/abanihi/softwares/miniconda3/envs/py-dev/lib/python3.6/site-packages/intake_xarray/base.py\u001b[0m in \u001b[0;36m_get_schema\u001b[0;34m(self)\u001b[0m\n\u001b[1;32m     17\u001b[0m \u001b[0;34m\u001b[0m\u001b[0m\n\u001b[1;32m     18\u001b[0m         \u001b[0;32mif\u001b[0m \u001b[0mself\u001b[0m\u001b[0;34m.\u001b[0m\u001b[0m_ds\u001b[0m \u001b[0;32mis\u001b[0m \u001b[0;32mNone\u001b[0m\u001b[0;34m:\u001b[0m\u001b[0;34m\u001b[0m\u001b[0;34m\u001b[0m\u001b[0m\n\u001b[0;32m---> 19\u001b[0;31m             \u001b[0mself\u001b[0m\u001b[0;34m.\u001b[0m\u001b[0m_open_dataset\u001b[0m\u001b[0;34m(\u001b[0m\u001b[0;34m)\u001b[0m\u001b[0;34m\u001b[0m\u001b[0;34m\u001b[0m\u001b[0m\n\u001b[0m\u001b[1;32m     20\u001b[0m \u001b[0;34m\u001b[0m\u001b[0m\n\u001b[1;32m     21\u001b[0m             metadata = {\n",
      "\u001b[0;32m/gpfs/u/home/abanihi/devel/intake-cesm/intake_cesm/core.py\u001b[0m in \u001b[0;36m_open_dataset\u001b[0;34m(self)\u001b[0m\n\u001b[1;32m    149\u001b[0m             \u001b[0m_open_dataset\u001b[0m \u001b[0;34m=\u001b[0m \u001b[0mxr\u001b[0m\u001b[0;34m.\u001b[0m\u001b[0mopen_dataset\u001b[0m\u001b[0;34m\u001b[0m\u001b[0;34m\u001b[0m\u001b[0m\n\u001b[1;32m    150\u001b[0m \u001b[0;34m\u001b[0m\u001b[0m\n\u001b[0;32m--> 151\u001b[0;31m         \u001b[0mself\u001b[0m\u001b[0;34m.\u001b[0m\u001b[0m_ds\u001b[0m \u001b[0;34m=\u001b[0m \u001b[0m_open_dataset\u001b[0m\u001b[0;34m(\u001b[0m\u001b[0murl\u001b[0m\u001b[0;34m,\u001b[0m \u001b[0mchunks\u001b[0m\u001b[0;34m=\u001b[0m\u001b[0mself\u001b[0m\u001b[0;34m.\u001b[0m\u001b[0mchunks\u001b[0m\u001b[0;34m,\u001b[0m \u001b[0;34m**\u001b[0m\u001b[0mkwargs\u001b[0m\u001b[0;34m)\u001b[0m\u001b[0;34m\u001b[0m\u001b[0;34m\u001b[0m\u001b[0m\n\u001b[0m\u001b[1;32m    152\u001b[0m \u001b[0;34m\u001b[0m\u001b[0m\n\u001b[1;32m    153\u001b[0m     \u001b[0;32mdef\u001b[0m \u001b[0mto_xarray\u001b[0m\u001b[0;34m(\u001b[0m\u001b[0mself\u001b[0m\u001b[0;34m,\u001b[0m \u001b[0mdask\u001b[0m\u001b[0;34m=\u001b[0m\u001b[0;32mTrue\u001b[0m\u001b[0;34m)\u001b[0m\u001b[0;34m:\u001b[0m\u001b[0;34m\u001b[0m\u001b[0;34m\u001b[0m\u001b[0m\n",
      "\u001b[0;32m/glade/work/abanihi/softwares/miniconda3/envs/py-dev/lib/python3.6/site-packages/xarray/backends/api.py\u001b[0m in \u001b[0;36mopen_mfdataset\u001b[0;34m(paths, chunks, concat_dim, compat, preprocess, engine, lock, data_vars, coords, autoclose, parallel, **kwargs)\u001b[0m\n\u001b[1;32m    635\u001b[0m         \u001b[0mgetattr_\u001b[0m \u001b[0;34m=\u001b[0m \u001b[0mgetattr\u001b[0m\u001b[0;34m\u001b[0m\u001b[0;34m\u001b[0m\u001b[0m\n\u001b[1;32m    636\u001b[0m \u001b[0;34m\u001b[0m\u001b[0m\n\u001b[0;32m--> 637\u001b[0;31m     \u001b[0mdatasets\u001b[0m \u001b[0;34m=\u001b[0m \u001b[0;34m[\u001b[0m\u001b[0mopen_\u001b[0m\u001b[0;34m(\u001b[0m\u001b[0mp\u001b[0m\u001b[0;34m,\u001b[0m \u001b[0;34m**\u001b[0m\u001b[0mopen_kwargs\u001b[0m\u001b[0;34m)\u001b[0m \u001b[0;32mfor\u001b[0m \u001b[0mp\u001b[0m \u001b[0;32min\u001b[0m \u001b[0mpaths\u001b[0m\u001b[0;34m]\u001b[0m\u001b[0;34m\u001b[0m\u001b[0;34m\u001b[0m\u001b[0m\n\u001b[0m\u001b[1;32m    638\u001b[0m     \u001b[0mfile_objs\u001b[0m \u001b[0;34m=\u001b[0m \u001b[0;34m[\u001b[0m\u001b[0mgetattr_\u001b[0m\u001b[0;34m(\u001b[0m\u001b[0mds\u001b[0m\u001b[0;34m,\u001b[0m \u001b[0;34m'_file_obj'\u001b[0m\u001b[0;34m)\u001b[0m \u001b[0;32mfor\u001b[0m \u001b[0mds\u001b[0m \u001b[0;32min\u001b[0m \u001b[0mdatasets\u001b[0m\u001b[0;34m]\u001b[0m\u001b[0;34m\u001b[0m\u001b[0;34m\u001b[0m\u001b[0m\n\u001b[1;32m    639\u001b[0m     \u001b[0;32mif\u001b[0m \u001b[0mpreprocess\u001b[0m \u001b[0;32mis\u001b[0m \u001b[0;32mnot\u001b[0m \u001b[0;32mNone\u001b[0m\u001b[0;34m:\u001b[0m\u001b[0;34m\u001b[0m\u001b[0;34m\u001b[0m\u001b[0m\n",
      "\u001b[0;32m/glade/work/abanihi/softwares/miniconda3/envs/py-dev/lib/python3.6/site-packages/xarray/backends/api.py\u001b[0m in \u001b[0;36m<listcomp>\u001b[0;34m(.0)\u001b[0m\n\u001b[1;32m    635\u001b[0m         \u001b[0mgetattr_\u001b[0m \u001b[0;34m=\u001b[0m \u001b[0mgetattr\u001b[0m\u001b[0;34m\u001b[0m\u001b[0;34m\u001b[0m\u001b[0m\n\u001b[1;32m    636\u001b[0m \u001b[0;34m\u001b[0m\u001b[0m\n\u001b[0;32m--> 637\u001b[0;31m     \u001b[0mdatasets\u001b[0m \u001b[0;34m=\u001b[0m \u001b[0;34m[\u001b[0m\u001b[0mopen_\u001b[0m\u001b[0;34m(\u001b[0m\u001b[0mp\u001b[0m\u001b[0;34m,\u001b[0m \u001b[0;34m**\u001b[0m\u001b[0mopen_kwargs\u001b[0m\u001b[0;34m)\u001b[0m \u001b[0;32mfor\u001b[0m \u001b[0mp\u001b[0m \u001b[0;32min\u001b[0m \u001b[0mpaths\u001b[0m\u001b[0;34m]\u001b[0m\u001b[0;34m\u001b[0m\u001b[0;34m\u001b[0m\u001b[0m\n\u001b[0m\u001b[1;32m    638\u001b[0m     \u001b[0mfile_objs\u001b[0m \u001b[0;34m=\u001b[0m \u001b[0;34m[\u001b[0m\u001b[0mgetattr_\u001b[0m\u001b[0;34m(\u001b[0m\u001b[0mds\u001b[0m\u001b[0;34m,\u001b[0m \u001b[0;34m'_file_obj'\u001b[0m\u001b[0;34m)\u001b[0m \u001b[0;32mfor\u001b[0m \u001b[0mds\u001b[0m \u001b[0;32min\u001b[0m \u001b[0mdatasets\u001b[0m\u001b[0;34m]\u001b[0m\u001b[0;34m\u001b[0m\u001b[0;34m\u001b[0m\u001b[0m\n\u001b[1;32m    639\u001b[0m     \u001b[0;32mif\u001b[0m \u001b[0mpreprocess\u001b[0m \u001b[0;32mis\u001b[0m \u001b[0;32mnot\u001b[0m \u001b[0;32mNone\u001b[0m\u001b[0;34m:\u001b[0m\u001b[0;34m\u001b[0m\u001b[0;34m\u001b[0m\u001b[0m\n",
      "\u001b[0;32m/glade/work/abanihi/softwares/miniconda3/envs/py-dev/lib/python3.6/site-packages/xarray/backends/api.py\u001b[0m in \u001b[0;36mopen_dataset\u001b[0;34m(filename_or_obj, group, decode_cf, mask_and_scale, decode_times, autoclose, concat_characters, decode_coords, engine, chunks, lock, cache, drop_variables, backend_kwargs)\u001b[0m\n\u001b[1;32m    319\u001b[0m         \u001b[0;32mif\u001b[0m \u001b[0mengine\u001b[0m \u001b[0;34m==\u001b[0m \u001b[0;34m'netcdf4'\u001b[0m\u001b[0;34m:\u001b[0m\u001b[0;34m\u001b[0m\u001b[0;34m\u001b[0m\u001b[0m\n\u001b[1;32m    320\u001b[0m             store = backends.NetCDF4DataStore.open(\n\u001b[0;32m--> 321\u001b[0;31m                 filename_or_obj, group=group, lock=lock, **backend_kwargs)\n\u001b[0m\u001b[1;32m    322\u001b[0m         \u001b[0;32melif\u001b[0m \u001b[0mengine\u001b[0m \u001b[0;34m==\u001b[0m \u001b[0;34m'scipy'\u001b[0m\u001b[0;34m:\u001b[0m\u001b[0;34m\u001b[0m\u001b[0;34m\u001b[0m\u001b[0m\n\u001b[1;32m    323\u001b[0m             \u001b[0mstore\u001b[0m \u001b[0;34m=\u001b[0m \u001b[0mbackends\u001b[0m\u001b[0;34m.\u001b[0m\u001b[0mScipyDataStore\u001b[0m\u001b[0;34m(\u001b[0m\u001b[0mfilename_or_obj\u001b[0m\u001b[0;34m,\u001b[0m \u001b[0;34m**\u001b[0m\u001b[0mbackend_kwargs\u001b[0m\u001b[0;34m)\u001b[0m\u001b[0;34m\u001b[0m\u001b[0;34m\u001b[0m\u001b[0m\n",
      "\u001b[0;32m/glade/work/abanihi/softwares/miniconda3/envs/py-dev/lib/python3.6/site-packages/xarray/backends/netCDF4_.py\u001b[0m in \u001b[0;36mopen\u001b[0;34m(cls, filename, mode, format, group, clobber, diskless, persist, lock, lock_maker, autoclose)\u001b[0m\n\u001b[1;32m    322\u001b[0m              \u001b[0mclobber\u001b[0m\u001b[0;34m=\u001b[0m\u001b[0;32mTrue\u001b[0m\u001b[0;34m,\u001b[0m \u001b[0mdiskless\u001b[0m\u001b[0;34m=\u001b[0m\u001b[0;32mFalse\u001b[0m\u001b[0;34m,\u001b[0m \u001b[0mpersist\u001b[0m\u001b[0;34m=\u001b[0m\u001b[0;32mFalse\u001b[0m\u001b[0;34m,\u001b[0m\u001b[0;34m\u001b[0m\u001b[0;34m\u001b[0m\u001b[0m\n\u001b[1;32m    323\u001b[0m              lock=None, lock_maker=None, autoclose=False):\n\u001b[0;32m--> 324\u001b[0;31m         \u001b[0;32mimport\u001b[0m \u001b[0mnetCDF4\u001b[0m\u001b[0;34m\u001b[0m\u001b[0;34m\u001b[0m\u001b[0m\n\u001b[0m\u001b[1;32m    325\u001b[0m         if (len(filename) == 88 and\n\u001b[1;32m    326\u001b[0m                 LooseVersion(netCDF4.__version__) < \"1.3.1\"):\n",
      "\u001b[0;32m/glade/work/abanihi/softwares/miniconda3/envs/py-dev/lib/python3.6/site-packages/netCDF4/__init__.py\u001b[0m in \u001b[0;36m<module>\u001b[0;34m\u001b[0m\n\u001b[1;32m      1\u001b[0m \u001b[0;31m# init for netCDF4. package\u001b[0m\u001b[0;34m\u001b[0m\u001b[0;34m\u001b[0m\u001b[0;34m\u001b[0m\u001b[0m\n\u001b[1;32m      2\u001b[0m \u001b[0;31m# Docstring comes from extension module _netCDF4.\u001b[0m\u001b[0;34m\u001b[0m\u001b[0;34m\u001b[0m\u001b[0;34m\u001b[0m\u001b[0m\n\u001b[0;32m----> 3\u001b[0;31m \u001b[0;32mfrom\u001b[0m \u001b[0;34m.\u001b[0m\u001b[0m_netCDF4\u001b[0m \u001b[0;32mimport\u001b[0m \u001b[0;34m*\u001b[0m\u001b[0;34m\u001b[0m\u001b[0;34m\u001b[0m\u001b[0m\n\u001b[0m\u001b[1;32m      4\u001b[0m \u001b[0;31m# Need explicit imports for names beginning with underscores\u001b[0m\u001b[0;34m\u001b[0m\u001b[0;34m\u001b[0m\u001b[0;34m\u001b[0m\u001b[0m\n\u001b[1;32m      5\u001b[0m \u001b[0;32mfrom\u001b[0m \u001b[0;34m.\u001b[0m\u001b[0m_netCDF4\u001b[0m \u001b[0;32mimport\u001b[0m \u001b[0m__doc__\u001b[0m\u001b[0;34m,\u001b[0m \u001b[0m__pdoc__\u001b[0m\u001b[0;34m\u001b[0m\u001b[0;34m\u001b[0m\u001b[0m\n",
      "\u001b[0;31mImportError\u001b[0m: /glade/work/abanihi/softwares/miniconda3/envs/py-dev/lib/python3.6/site-packages/netCDF4/../../../././libcom_err.so.3: symbol k5_os_mutex_destroy, version krb5support_0_MIT not defined in file libkrb5support.so.0 with link time reference"
     ]
    }
   ],
   "source": [
    "ds = cat.to_xarray()\n",
    "ds"
   ]
  },
  {
   "cell_type": "code",
   "execution_count": 13,
   "metadata": {},
   "outputs": [],
   "source": [
    "cat2 = collection.search(experiment='RCP85', component='ice', ensemble=1)"
   ]
  },
  {
   "cell_type": "code",
   "execution_count": 14,
   "metadata": {},
   "outputs": [
    {
     "name": "stdout",
     "output_type": "stream",
     "text": [
      "plugins:\n",
      "  source:\n",
      "  - module: intake_cesm.core\n",
      "sources:\n",
      "  cesm1_le-9804d3da-79fc-4d8e-b2e8-9f44708698ab:\n",
      "    args:\n",
      "      chunks:\n",
      "        time: 1\n",
      "      collection: cesm1_le\n",
      "      concat_dim: time\n",
      "      decode_coords: false\n",
      "      decode_times: false\n",
      "      engine: netcdf4\n",
      "      query:\n",
      "        case: null\n",
      "        component: ice\n",
      "        ctrl_branch_year: null\n",
      "        date_range: null\n",
      "        ensemble: 1\n",
      "        experiment: RCP85\n",
      "        has_ocean_bgc: null\n",
      "        stream: null\n",
      "        variable: null\n",
      "    description: Catalog from cesm1_le collection\n",
      "    driver: cesm\n",
      "    metadata:\n",
      "      cache: {}\n",
      "      catalog_dir: ''\n",
      "\n"
     ]
    }
   ],
   "source": [
    "print(cat2.yaml(True))"
   ]
  },
  {
   "cell_type": "code",
   "execution_count": 16,
   "metadata": {},
   "outputs": [
    {
     "name": "stdout",
     "output_type": "stream",
     "text": [
      "<class 'pandas.core.frame.DataFrame'>\n",
      "Int64Index: 592 entries, 63697 to 63336\n",
      "Data columns (total 14 columns):\n",
      "case                592 non-null object\n",
      "component           592 non-null object\n",
      "date_range          592 non-null object\n",
      "ensemble            592 non-null int64\n",
      "experiment          592 non-null object\n",
      "file_basename       592 non-null object\n",
      "files               592 non-null object\n",
      "freq                592 non-null object\n",
      "grid                592 non-null object\n",
      "has_ocean_bgc       592 non-null bool\n",
      "sequence_order      592 non-null int64\n",
      "variable            592 non-null object\n",
      "year_offset         0 non-null float64\n",
      "ctrl_branch_year    0 non-null float64\n",
      "dtypes: bool(1), float64(2), int64(2), object(9)\n",
      "memory usage: 65.3+ KB\n"
     ]
    }
   ],
   "source": [
    "cat2.results.info()"
   ]
  },
  {
   "cell_type": "markdown",
   "metadata": {},
   "source": [
    "As the user queries the collection, `intake-cesm` builds a dictionary of catalog entries for executed searches so far:"
   ]
  },
  {
   "cell_type": "code",
   "execution_count": 19,
   "metadata": {},
   "outputs": [
    {
     "data": {
      "text/plain": [
       "{'cesm1_le-9134d01b-3e19-4410-9fd1-521c41150205': <Catalog Entry: cesm1_le-9134d01b-3e19-4410-9fd1-521c41150205>,\n",
       " 'cesm1_le-d46ef138-8cd0-496e-9333-1cf86d7a2c5a': <Catalog Entry: cesm1_le-d46ef138-8cd0-496e-9333-1cf86d7a2c5a>}"
      ]
     },
     "execution_count": 19,
     "metadata": {},
     "output_type": "execute_result"
    }
   ],
   "source": [
    "collection._entries"
   ]
  },
  {
   "cell_type": "code",
   "execution_count": 18,
   "metadata": {},
   "outputs": [
    {
     "name": "stdout",
     "output_type": "stream",
     "text": [
      "plugins:\n",
      "  source:\n",
      "  - module: intake_cesm.core\n",
      "sources:\n",
      "  cesm1_le-de2ba608-e8f4-4726-b434-8238d91722ea:\n",
      "    args:\n",
      "      chunks:\n",
      "        time: 1\n",
      "      collection: cesm1_le\n",
      "      concat_dim: time\n",
      "      decode_coords: false\n",
      "      decode_times: false\n",
      "      engine: netcdf4\n",
      "      query:\n",
      "        case: null\n",
      "        component: ocn\n",
      "        ctrl_branch_year: null\n",
      "        date_range: null\n",
      "        ensemble: 1\n",
      "        experiment:\n",
      "        - 20C\n",
      "        - RCP85\n",
      "        has_ocean_bgc: null\n",
      "        stream: null\n",
      "        variable: FG_CO2\n",
      "    description: Catalog from cesm1_le collection\n",
      "    driver: cesm\n",
      "    metadata:\n",
      "      cache: {}\n",
      "      catalog_dir: ''\n",
      "\n",
      "plugins:\n",
      "  source:\n",
      "  - module: intake_cesm.core\n",
      "sources:\n",
      "  cesm1_le-9804d3da-79fc-4d8e-b2e8-9f44708698ab:\n",
      "    args:\n",
      "      chunks:\n",
      "        time: 1\n",
      "      collection: cesm1_le\n",
      "      concat_dim: time\n",
      "      decode_coords: false\n",
      "      decode_times: false\n",
      "      engine: netcdf4\n",
      "      query:\n",
      "        case: null\n",
      "        component: ice\n",
      "        ctrl_branch_year: null\n",
      "        date_range: null\n",
      "        ensemble: 1\n",
      "        experiment: RCP85\n",
      "        has_ocean_bgc: null\n",
      "        stream: null\n",
      "        variable: null\n",
      "    description: Catalog from cesm1_le collection\n",
      "    driver: cesm\n",
      "    metadata:\n",
      "      cache: {}\n",
      "      catalog_dir: ''\n",
      "\n"
     ]
    }
   ],
   "source": [
    "for key, val in collection._entries.items():\n",
    "    print(val.yaml(True))"
   ]
  },
  {
   "cell_type": "code",
   "execution_count": 17,
   "metadata": {},
   "outputs": [],
   "source": [
    "%load_ext watermark"
   ]
  },
  {
   "cell_type": "code",
   "execution_count": 18,
   "metadata": {},
   "outputs": [
    {
     "name": "stdout",
     "output_type": "stream",
     "text": [
      "intake    0.4.1\n",
      "last updated: 2019-01-30 \n",
      "\n",
      "CPython 3.6.7\n",
      "IPython 7.1.1\n",
      "\n",
      "compiler   : GCC 7.3.0\n",
      "system     : Linux\n",
      "release    : 3.12.62-60.64.8-default\n",
      "machine    : x86_64\n",
      "processor  : x86_64\n",
      "CPU cores  : 72\n",
      "interpreter: 64bit\n",
      "host name  : r6i6n31\n",
      "Git hash   : 9f7c07a3ee429e174acdc9c78a8afdc539d53ca6\n"
     ]
    }
   ],
   "source": [
    "%watermark --iversion -g -h -m -v -u -d"
   ]
  }
 ],
 "metadata": {
  "kernelspec": {
   "display_name": "Python [conda env:py-dev]",
   "language": "python",
   "name": "conda-env-py-dev-py"
  },
  "language_info": {
   "codemirror_mode": {
    "name": "ipython",
    "version": 3
   },
   "file_extension": ".py",
   "mimetype": "text/x-python",
   "name": "python",
   "nbconvert_exporter": "python",
   "pygments_lexer": "ipython3",
   "version": "3.6.7"
  }
 },
 "nbformat": 4,
 "nbformat_minor": 2
}
