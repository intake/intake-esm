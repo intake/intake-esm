{
 "cells": [
  {
   "cell_type": "markdown",
   "metadata": {},
   "source": [
    "# Search Functionality\n",
    "\n",
    "## How to use both regular and wildcard expressions in `search()`\n",
    "\n",
    "It is often useful to search using a wildcard or a regular expression for your\n",
    "search.\n"
   ]
  },
  {
   "cell_type": "markdown",
   "metadata": {},
   "source": [
    "## Use Case #1 - Inconsistent First Member IDs\n",
    "\n",
    "Some models don't have the member number **r1i1p1f1**. For example,\n",
    "**CNRM-CM6-1**'s first member is **r1i1p1f2**.\n",
    "\n",
    "A typical query that looks like:\n",
    "\n",
    "```python\n",
    "\n",
    "col.search(\n",
    "    experiment_id=[\"historical\"],\n",
    "    table_id=\"Amon\",\n",
    "    variable_id=\"tas\",\n",
    "    member_id=\"r1i1p1f1\",\n",
    ")\n",
    "\n",
    "```\n",
    "\n",
    "Will return models that that strictly meet this criteria, excluding all models,\n",
    "such as **CNRM-CM-01**, that don't have this first member.\n",
    "\n",
    "If you want to include models that begin with varying member ids, you can use a\n",
    "wildcard (`*`) in your search.\n",
    "\n",
    "```python\n",
    "\n",
    "col.search(\n",
    "    experiment_id=[\"historical\"],\n",
    "    table_id=\"Amon\",\n",
    "    variable_id=\"tas\",\n",
    "    member_id=\"r1i1p1f*\",\n",
    ")\n",
    "\n",
    "```\n",
    "\n",
    "This search will return all of the target members.\n"
   ]
  },
  {
   "cell_type": "markdown",
   "metadata": {},
   "source": [
    "## Use Case #2 Non-CF Standard Names\n",
    "\n",
    "In some datasets the long names are **not** CF Standard Names, but names\n",
    "specified in some other documentation. For this reason the user may not know\n",
    "exactly what name to search for without listing all names.\n",
    "\n",
    "```\n",
    "uniques = col.unique(columns=['long_name'])\n",
    "nameList = sorted(uniques['long_name']['values'])\n",
    "print(*nameList, sep='\\n') #note *list to unpack each item for print function\n",
    "```\n",
    "\n",
    "The above code block uses the wildcard expression (`*`) to find all unique names\n",
    "in the collection, then alphabetically sorts and prints them.\n"
   ]
  },
  {
   "cell_type": "markdown",
   "metadata": {},
   "source": [
    "### The longer example\n",
    "\n",
    "Import and load in a typical enhanced collection description file\n"
   ]
  },
  {
   "cell_type": "code",
   "execution_count": 1,
   "metadata": {},
   "outputs": [],
   "source": [
    "import pprint\n",
    "\n",
    "import intake\n",
    "import pandas as pd\n",
    "from IPython.display import HTML"
   ]
  },
  {
   "cell_type": "code",
   "execution_count": 2,
   "metadata": {},
   "outputs": [
    {
     "data": {
      "text/html": [
       "<p><strong>aws-cesm1-le catalog with 27 dataset(s) from 365 asset(s)</strong>:</p> <div>\n",
       "<style scoped>\n",
       "    .dataframe tbody tr th:only-of-type {\n",
       "        vertical-align: middle;\n",
       "    }\n",
       "\n",
       "    .dataframe tbody tr th {\n",
       "        vertical-align: top;\n",
       "    }\n",
       "\n",
       "    .dataframe thead th {\n",
       "        text-align: right;\n",
       "    }\n",
       "</style>\n",
       "<table border=\"1\" class=\"dataframe\">\n",
       "  <thead>\n",
       "    <tr style=\"text-align: right;\">\n",
       "      <th></th>\n",
       "      <th>unique</th>\n",
       "    </tr>\n",
       "  </thead>\n",
       "  <tbody>\n",
       "    <tr>\n",
       "      <th>component</th>\n",
       "      <td>5</td>\n",
       "    </tr>\n",
       "    <tr>\n",
       "      <th>dim</th>\n",
       "      <td>2</td>\n",
       "    </tr>\n",
       "    <tr>\n",
       "      <th>frequency</th>\n",
       "      <td>5</td>\n",
       "    </tr>\n",
       "    <tr>\n",
       "      <th>experiment</th>\n",
       "      <td>6</td>\n",
       "    </tr>\n",
       "    <tr>\n",
       "      <th>start</th>\n",
       "      <td>10</td>\n",
       "    </tr>\n",
       "    <tr>\n",
       "      <th>end</th>\n",
       "      <td>11</td>\n",
       "    </tr>\n",
       "    <tr>\n",
       "      <th>variable</th>\n",
       "      <td>75</td>\n",
       "    </tr>\n",
       "    <tr>\n",
       "      <th>long_name</th>\n",
       "      <td>75</td>\n",
       "    </tr>\n",
       "    <tr>\n",
       "      <th>path</th>\n",
       "      <td>365</td>\n",
       "    </tr>\n",
       "  </tbody>\n",
       "</table>\n",
       "</div>"
      ],
      "text/plain": [
       "<IPython.core.display.HTML object>"
      ]
     },
     "metadata": {},
     "output_type": "display_data"
    }
   ],
   "source": [
    "cat_url = \"https://ncar-cesm-lens.s3-us-west-2.amazonaws.com/catalogs/aws-cesm1-le-enhanced.json\"\n",
    "col = intake.open_esm_datastore(cat_url)\n",
    "col"
   ]
  },
  {
   "cell_type": "markdown",
   "metadata": {},
   "source": [
    "Take a look at the first few lines of the enhanced catalog\n"
   ]
  },
  {
   "cell_type": "code",
   "execution_count": 3,
   "metadata": {},
   "outputs": [
    {
     "name": "stdout",
     "output_type": "stream",
     "text": [
      "This is an inventory of the Community Earth System Model (CESM) Large Ensemble (LENS) dataset in Zarr format publicly available on Amazon S3 (https://doi.org/10.26024/wt24-5j82)\n",
      "Catalog file: https://ncar-cesm-lens.s3-us-west-2.amazonaws.com/catalogs/aws-cesm1-le-enhanced.csv\n",
      "<aws-cesm1-le catalog with 27 dataset(s) from 365 asset(s)>\n"
     ]
    },
    {
     "data": {
      "text/html": [
       "<table border=\"1\" class=\"dataframe\">\n",
       "  <thead>\n",
       "    <tr style=\"text-align: right;\">\n",
       "      <th>component</th>\n",
       "      <th>dim</th>\n",
       "      <th>frequency</th>\n",
       "      <th>experiment</th>\n",
       "      <th>start</th>\n",
       "      <th>end</th>\n",
       "      <th>variable</th>\n",
       "      <th>long_name</th>\n",
       "      <th>path</th>\n",
       "    </tr>\n",
       "  </thead>\n",
       "  <tbody>\n",
       "    <tr>\n",
       "      <td>atm</td>\n",
       "      <td>2D</td>\n",
       "      <td>monthly</td>\n",
       "      <td>HIST</td>\n",
       "      <td>1850-01</td>\n",
       "      <td>1919-12</td>\n",
       "      <td>FLNS</td>\n",
       "      <td>Net longwave flux at surface</td>\n",
       "      <td>s3://ncar-cesm-lens/atm/monthly/cesmLE-HIST-FLNS.zarr</td>\n",
       "    </tr>\n",
       "    <tr>\n",
       "      <td>atm</td>\n",
       "      <td>2D</td>\n",
       "      <td>monthly</td>\n",
       "      <td>20C</td>\n",
       "      <td>1920-01</td>\n",
       "      <td>2005-12</td>\n",
       "      <td>FLNS</td>\n",
       "      <td>Net longwave flux at surface</td>\n",
       "      <td>s3://ncar-cesm-lens/atm/monthly/cesmLE-20C-FLNS.zarr</td>\n",
       "    </tr>\n",
       "    <tr>\n",
       "      <td>atm</td>\n",
       "      <td>2D</td>\n",
       "      <td>daily</td>\n",
       "      <td>20C</td>\n",
       "      <td>1920-01-01</td>\n",
       "      <td>2005-12-31</td>\n",
       "      <td>FLNS</td>\n",
       "      <td>Net longwave flux at surface</td>\n",
       "      <td>s3://ncar-cesm-lens/atm/daily/cesmLE-20C-FLNS.zarr</td>\n",
       "    </tr>\n",
       "    <tr>\n",
       "      <td>atm</td>\n",
       "      <td>2D</td>\n",
       "      <td>monthly</td>\n",
       "      <td>RCP85</td>\n",
       "      <td>2006-01</td>\n",
       "      <td>2100-12</td>\n",
       "      <td>FLNS</td>\n",
       "      <td>Net longwave flux at surface</td>\n",
       "      <td>s3://ncar-cesm-lens/atm/monthly/cesmLE-RCP85-FLNS.zarr</td>\n",
       "    </tr>\n",
       "    <tr>\n",
       "      <td>atm</td>\n",
       "      <td>2D</td>\n",
       "      <td>daily</td>\n",
       "      <td>RCP85</td>\n",
       "      <td>2006-01-01</td>\n",
       "      <td>2100-12-31</td>\n",
       "      <td>FLNS</td>\n",
       "      <td>Net longwave flux at surface</td>\n",
       "      <td>s3://ncar-cesm-lens/atm/daily/cesmLE-RCP85-FLNS.zarr</td>\n",
       "    </tr>\n",
       "    <tr>\n",
       "      <td>atm</td>\n",
       "      <td>2D</td>\n",
       "      <td>monthly</td>\n",
       "      <td>CTRL</td>\n",
       "      <td>0400-01</td>\n",
       "      <td>2200-12</td>\n",
       "      <td>FLNS</td>\n",
       "      <td>Net longwave flux at surface</td>\n",
       "      <td>s3://ncar-cesm-lens/atm/monthly/cesmLE-CTRL-FLNS.zarr</td>\n",
       "    </tr>\n",
       "    <tr>\n",
       "      <td>atm</td>\n",
       "      <td>2D</td>\n",
       "      <td>monthly</td>\n",
       "      <td>CTRL_AMIP</td>\n",
       "      <td>0001-01</td>\n",
       "      <td>2600-12</td>\n",
       "      <td>FLNS</td>\n",
       "      <td>Net longwave flux at surface</td>\n",
       "      <td>s3://ncar-cesm-lens/atm/monthly/cesmLE-CTRL_AMIP-FLNS.zarr</td>\n",
       "    </tr>\n",
       "    <tr>\n",
       "      <td>atm</td>\n",
       "      <td>2D</td>\n",
       "      <td>monthly</td>\n",
       "      <td>CTRL_SLAB_OCN</td>\n",
       "      <td>0001-01</td>\n",
       "      <td>1000-12</td>\n",
       "      <td>FLNS</td>\n",
       "      <td>Net longwave flux at surface</td>\n",
       "      <td>s3://ncar-cesm-lens/atm/monthly/cesmLE-CTRL_SLAB_OCN-FLNS.zarr</td>\n",
       "    </tr>\n",
       "    <tr>\n",
       "      <td>atm</td>\n",
       "      <td>2D</td>\n",
       "      <td>monthly</td>\n",
       "      <td>HIST</td>\n",
       "      <td>1850-01</td>\n",
       "      <td>1919-12</td>\n",
       "      <td>FLNSC</td>\n",
       "      <td>Clearsky net longwave flux at surface</td>\n",
       "      <td>s3://ncar-cesm-lens/atm/monthly/cesmLE-HIST-FLNSC.zarr</td>\n",
       "    </tr>\n",
       "    <tr>\n",
       "      <td>atm</td>\n",
       "      <td>2D</td>\n",
       "      <td>monthly</td>\n",
       "      <td>20C</td>\n",
       "      <td>1920-01</td>\n",
       "      <td>2005-12</td>\n",
       "      <td>FLNSC</td>\n",
       "      <td>Clearsky net longwave flux at surface</td>\n",
       "      <td>s3://ncar-cesm-lens/atm/monthly/cesmLE-20C-FLNSC.zarr</td>\n",
       "    </tr>\n",
       "  </tbody>\n",
       "</table>"
      ],
      "text/plain": [
       "<IPython.core.display.HTML object>"
      ]
     },
     "execution_count": 3,
     "metadata": {},
     "output_type": "execute_result"
    }
   ],
   "source": [
    "print(col.esmcol_data[\"description\"])\n",
    "print(\"Catalog file:\", col.esmcol_data[\"catalog_file\"])\n",
    "print(col)\n",
    "\n",
    "HTML(col.df.head(10).to_html(index=False))"
   ]
  },
  {
   "cell_type": "markdown",
   "metadata": {},
   "source": [
    "Display all of the `long_name` variable options\n"
   ]
  },
  {
   "cell_type": "code",
   "execution_count": 4,
   "metadata": {
    "scrolled": true
   },
   "outputs": [
    {
     "name": "stdout",
     "output_type": "stream",
     "text": [
      "['Clearsky net longwave flux at surface', 'Clearsky net solar flux at surface', 'Convective precipitation rate (liq + ice)', 'Convective snow rate (water equivalent)', 'Dissolved Inorganic Carbon', 'Dissolved Organic Carbon', 'Dissolved Oxygen', 'Fraction of sfc area covered by sea-ice', 'Free-Surface Residual Heat Flux', 'Free-Surface Residual Salt Flux', 'Freshwater Flux', 'Geopotential Height (above sea level)', 'Geopotential Z at 500 mbar pressure surface', 'Heat Flux across top face', 'Heat Flux in grid-x direction', 'Heat Flux in grid-y direction', 'Horizontal total wind speed average at the surface', 'Internal Ocean Heat Flux Due to Ice Formation', 'Large-scale (stable) precipitation rate (liq + ice)', 'Large-scale (stable) snow rate (water equivalent)', 'Lowest model level zonal wind', 'Maximum (convective and large-scale) precipitation rate (liq+ice)', 'Maximum reference height temperature over output period', 'Meridional wind', 'Minimum reference height temperature over output period', 'Mixed-Layer Depth', 'Net longwave flux at surface', 'Net solar flux at surface', 'Net solar flux at top of atmosphere', 'Potential Density Ref to Surface', 'Potential Temperature', 'Reference height humidity', 'Reference height temperature', 'Salinity', 'Salt Flux across top face', 'Salt Flux in grid-x direction', 'Salt Flux in grid-y direction', 'Sea Surface Height', 'Sea level pressure', 'Solar Short-Wave Heat Flux', 'Solar Short-Wave Heat Flux in boundary layer', 'Solar Short-Wave Heat Flux in top layer', 'Specific Humidity at 850 mbar pressure surface', 'Specific humidity', 'Surface latent heat flux', 'Surface pressure', 'Surface sensible heat flux', 'Surface temperature (radiative)', 'Temperature', 'Total (convective and large-scale) precipitation rate (liq + ice)', 'Total (vertically integrated) precipitable water', 'Total Surface Heat Flux including short-wave', 'Upwelling longwave flux at top of model', 'Velocity in grid-x direction', 'Velocity in grid-y direction', 'Vertical Velocity', 'Virtual Salt Flux due to weak restoring', 'Virtual Salt Flux in FW Flux formulation', 'Wind stress (squared) in grid-x direction', 'Wind stress (squared) in grid-y direction', 'Wind stress in grid-x direction', 'Wind stress in grid-y direction', 'Zonal wind', 'atmospheric rain', 'atmospheric snow', 'fraction of ground covered by snow', 'grid cellmean ice thickness', 'grid cellmean ice thickness (daily)', 'grid cellmean ice thickness (monthly)', 'ice area, aggregate (daily)', 'ice area, aggregate (monthly)', 'snow depth (liquid water)', 'soil liquid water (vegetated landunits only)', 'soil liquid water + ice in top 10cm of soil (veg landunits only)', 'total liquid runoff (does not include QSNWCPICE)']\n"
     ]
    }
   ],
   "source": [
    "uniques = col.unique(columns=[\"long_name\"])\n",
    "nameList = sorted(uniques[\"long_name\"][\"values\"])\n",
    "print(nameList, sep=\"\\n\")"
   ]
  },
  {
   "cell_type": "markdown",
   "metadata": {},
   "source": [
    "If you want to unpack each item for the `print` function, you need to use the\n",
    "wildcard `*`\n"
   ]
  },
  {
   "cell_type": "code",
   "execution_count": 5,
   "metadata": {},
   "outputs": [
    {
     "name": "stdout",
     "output_type": "stream",
     "text": [
      "Clearsky net longwave flux at surface\n",
      "Clearsky net solar flux at surface\n",
      "Convective precipitation rate (liq + ice)\n",
      "Convective snow rate (water equivalent)\n",
      "Dissolved Inorganic Carbon\n",
      "Dissolved Organic Carbon\n",
      "Dissolved Oxygen\n",
      "Fraction of sfc area covered by sea-ice\n",
      "Free-Surface Residual Heat Flux\n",
      "Free-Surface Residual Salt Flux\n",
      "Freshwater Flux\n",
      "Geopotential Height (above sea level)\n",
      "Geopotential Z at 500 mbar pressure surface\n",
      "Heat Flux across top face\n",
      "Heat Flux in grid-x direction\n",
      "Heat Flux in grid-y direction\n",
      "Horizontal total wind speed average at the surface\n",
      "Internal Ocean Heat Flux Due to Ice Formation\n",
      "Large-scale (stable) precipitation rate (liq + ice)\n",
      "Large-scale (stable) snow rate (water equivalent)\n",
      "Lowest model level zonal wind\n",
      "Maximum (convective and large-scale) precipitation rate (liq+ice)\n",
      "Maximum reference height temperature over output period\n",
      "Meridional wind\n",
      "Minimum reference height temperature over output period\n",
      "Mixed-Layer Depth\n",
      "Net longwave flux at surface\n",
      "Net solar flux at surface\n",
      "Net solar flux at top of atmosphere\n",
      "Potential Density Ref to Surface\n",
      "Potential Temperature\n",
      "Reference height humidity\n",
      "Reference height temperature\n",
      "Salinity\n",
      "Salt Flux across top face\n",
      "Salt Flux in grid-x direction\n",
      "Salt Flux in grid-y direction\n",
      "Sea Surface Height\n",
      "Sea level pressure\n",
      "Solar Short-Wave Heat Flux\n",
      "Solar Short-Wave Heat Flux in boundary layer\n",
      "Solar Short-Wave Heat Flux in top layer\n",
      "Specific Humidity at 850 mbar pressure surface\n",
      "Specific humidity\n",
      "Surface latent heat flux\n",
      "Surface pressure\n",
      "Surface sensible heat flux\n",
      "Surface temperature (radiative)\n",
      "Temperature\n",
      "Total (convective and large-scale) precipitation rate (liq + ice)\n",
      "Total (vertically integrated) precipitable water\n",
      "Total Surface Heat Flux including short-wave\n",
      "Upwelling longwave flux at top of model\n",
      "Velocity in grid-x direction\n",
      "Velocity in grid-y direction\n",
      "Vertical Velocity\n",
      "Virtual Salt Flux due to weak restoring\n",
      "Virtual Salt Flux in FW Flux formulation\n",
      "Wind stress (squared) in grid-x direction\n",
      "Wind stress (squared) in grid-y direction\n",
      "Wind stress in grid-x direction\n",
      "Wind stress in grid-y direction\n",
      "Zonal wind\n",
      "atmospheric rain\n",
      "atmospheric snow\n",
      "fraction of ground covered by snow\n",
      "grid cellmean ice thickness\n",
      "grid cellmean ice thickness (daily)\n",
      "grid cellmean ice thickness (monthly)\n",
      "ice area, aggregate (daily)\n",
      "ice area, aggregate (monthly)\n",
      "snow depth (liquid water)\n",
      "soil liquid water (vegetated landunits only)\n",
      "soil liquid water + ice in top 10cm of soil (veg landunits only)\n",
      "total liquid runoff (does not include QSNWCPICE)\n"
     ]
    }
   ],
   "source": [
    "print(*nameList, sep=\"\\n\")"
   ]
  },
  {
   "cell_type": "markdown",
   "metadata": {},
   "source": [
    "**Note**: For the wildcard search to work, you will need at least intake-esm\n",
    "v2020.08.15.\n"
   ]
  }
 ],
 "metadata": {
  "kernelspec": {
   "display_name": "intake-esm-dev",
   "language": "python",
   "name": "intake-esm-dev"
  },
  "language_info": {
   "codemirror_mode": {
    "name": "ipython",
    "version": 3
   },
   "file_extension": ".py",
   "mimetype": "text/x-python",
   "name": "python",
   "nbconvert_exporter": "python",
   "pygments_lexer": "ipython3",
   "version": "3.8.5"
  }
 },
 "nbformat": 4,
 "nbformat_minor": 2
}
