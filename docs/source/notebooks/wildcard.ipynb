{
 "cells": [
  {
   "cell_type": "markdown",
   "metadata": {},
   "source": [
    "# Search Functionality\n",
    "\n",
    "## How to use both regular and wildcard expressions in `search()`\n",
    "\n",
    "It is often useful to search using a wildcard or a regular expression for your\n",
    "search.\n"
   ]
  },
  {
   "cell_type": "markdown",
   "metadata": {},
   "source": [
    "### Use Case #1 - Inconsistent First Member IDs\n",
    "\n",
    "Some models don't have the member number **r1i1p1f1**. For example,\n",
    "**CNRM-CM6-1**'s first member is **r1i1p1f2**.\n",
    "\n",
    "A typical query that looks like:\n",
    "\n",
    "```python\n",
    "\n",
    "col.search(\n",
    "    experiment_id=[\"historical\"],\n",
    "    table_id=\"Amon\",\n",
    "    variable_id=\"tas\",\n",
    "    member_id=\"r1i1p1f1\",\n",
    ")\n",
    "\n",
    "```\n",
    "\n",
    "Will return models that that strictly meet this criteria, excluding all models,\n",
    "such as **CNRM-CM-01**, that don't have this first member.\n",
    "\n",
    "If you want to include models that begin with varying member ids, you can use a\n",
    "wildcard (`*`) in your search.\n",
    "\n",
    "```python\n",
    "\n",
    "col.search(\n",
    "    experiment_id=[\"historical\"],\n",
    "    table_id=\"Amon\",\n",
    "    variable_id=\"tas\",\n",
    "    member_id=\"r1i1p1f*\",\n",
    ")\n",
    "\n",
    "```\n",
    "\n",
    "This search will return all of the target members.\n"
   ]
  },
  {
   "cell_type": "markdown",
   "metadata": {},
   "source": [
    "### Use Case #2 Non-CF Standard Names\n",
    "\n",
    "In some datasets the long names are **not** CF Standard Names, but names\n",
    "specified in some other documentation. For this reason the user may not know\n",
    "exactly what name to search for without listing all names.\n",
    "\n",
    "```\n",
    "uniques = col.unique(columns=['long_name'])\n",
    "nameList = sorted(uniques['long_name']['values'])\n",
    "print(*nameList, sep='\\n') #note *list to unpack each item for print function\n",
    "```\n",
    "\n",
    "The above code block uses the wildcard expression (`*`) to find all unique names\n",
    "in the collection, then alphabetically sorts and prints them.\n"
   ]
  },
  {
   "cell_type": "markdown",
   "metadata": {},
   "source": [
    "**Note**: For the wildcard search to work, you will need at least intake-esm\n",
    "v2020.08.15.\n"
   ]
  }
 ],
 "metadata": {
  "language_info": {
   "codemirror_mode": {
    "name": "ipython",
    "version": 3
   },
   "file_extension": ".py",
   "mimetype": "text/x-python",
   "name": "python",
   "nbconvert_exporter": "python",
   "pygments_lexer": "ipython3",
   "version": 3
  }
 },
 "nbformat": 4,
 "nbformat_minor": 2
}
