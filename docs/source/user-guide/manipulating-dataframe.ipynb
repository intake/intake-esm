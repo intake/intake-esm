{
 "cells": [
  {
   "cell_type": "markdown",
   "metadata": {},
   "source": [
    "# Manipulating DataFrame (in-memory catalog)\n"
   ]
  },
  {
   "cell_type": "code",
   "execution_count": 1,
   "metadata": {},
   "outputs": [],
   "source": [
    "import warnings\n",
    "\n",
    "warnings.filterwarnings(\"ignore\")\n",
    "import intake"
   ]
  },
  {
   "cell_type": "markdown",
   "metadata": {},
   "source": [
    "The in-memory representation of an Earth System Model (ESM) catalog is a pandas\n",
    "dataframe, and is accessible via the `.df` property:\n"
   ]
  },
  {
   "cell_type": "code",
   "execution_count": 2,
   "metadata": {},
   "outputs": [
    {
     "data": {
      "text/html": [
       "<div>\n",
       "<style scoped>\n",
       "    .dataframe tbody tr th:only-of-type {\n",
       "        vertical-align: middle;\n",
       "    }\n",
       "\n",
       "    .dataframe tbody tr th {\n",
       "        vertical-align: top;\n",
       "    }\n",
       "\n",
       "    .dataframe thead th {\n",
       "        text-align: right;\n",
       "    }\n",
       "</style>\n",
       "<table border=\"1\" class=\"dataframe\">\n",
       "  <thead>\n",
       "    <tr style=\"text-align: right;\">\n",
       "      <th></th>\n",
       "      <th>activity_id</th>\n",
       "      <th>institution_id</th>\n",
       "      <th>source_id</th>\n",
       "      <th>experiment_id</th>\n",
       "      <th>member_id</th>\n",
       "      <th>table_id</th>\n",
       "      <th>variable_id</th>\n",
       "      <th>grid_label</th>\n",
       "      <th>zstore</th>\n",
       "      <th>dcpp_init_year</th>\n",
       "      <th>version</th>\n",
       "    </tr>\n",
       "  </thead>\n",
       "  <tbody>\n",
       "    <tr>\n",
       "      <th>0</th>\n",
       "      <td>AerChemMIP</td>\n",
       "      <td>AS-RCEC</td>\n",
       "      <td>TaiESM1</td>\n",
       "      <td>histSST</td>\n",
       "      <td>r1i1p1f1</td>\n",
       "      <td>AERmon</td>\n",
       "      <td>od550aer</td>\n",
       "      <td>gn</td>\n",
       "      <td>gs://cmip6/AerChemMIP/AS-RCEC/TaiESM1/histSST/...</td>\n",
       "      <td>NaN</td>\n",
       "      <td>20200310</td>\n",
       "    </tr>\n",
       "    <tr>\n",
       "      <th>1</th>\n",
       "      <td>AerChemMIP</td>\n",
       "      <td>BCC</td>\n",
       "      <td>BCC-ESM1</td>\n",
       "      <td>histSST</td>\n",
       "      <td>r1i1p1f1</td>\n",
       "      <td>AERmon</td>\n",
       "      <td>mmrbc</td>\n",
       "      <td>gn</td>\n",
       "      <td>gs://cmip6/AerChemMIP/BCC/BCC-ESM1/histSST/r1i...</td>\n",
       "      <td>NaN</td>\n",
       "      <td>20190718</td>\n",
       "    </tr>\n",
       "    <tr>\n",
       "      <th>2</th>\n",
       "      <td>AerChemMIP</td>\n",
       "      <td>BCC</td>\n",
       "      <td>BCC-ESM1</td>\n",
       "      <td>histSST</td>\n",
       "      <td>r1i1p1f1</td>\n",
       "      <td>AERmon</td>\n",
       "      <td>mmrdust</td>\n",
       "      <td>gn</td>\n",
       "      <td>gs://cmip6/AerChemMIP/BCC/BCC-ESM1/histSST/r1i...</td>\n",
       "      <td>NaN</td>\n",
       "      <td>20191127</td>\n",
       "    </tr>\n",
       "    <tr>\n",
       "      <th>3</th>\n",
       "      <td>AerChemMIP</td>\n",
       "      <td>BCC</td>\n",
       "      <td>BCC-ESM1</td>\n",
       "      <td>histSST</td>\n",
       "      <td>r1i1p1f1</td>\n",
       "      <td>AERmon</td>\n",
       "      <td>mmroa</td>\n",
       "      <td>gn</td>\n",
       "      <td>gs://cmip6/AerChemMIP/BCC/BCC-ESM1/histSST/r1i...</td>\n",
       "      <td>NaN</td>\n",
       "      <td>20190809</td>\n",
       "    </tr>\n",
       "    <tr>\n",
       "      <th>4</th>\n",
       "      <td>AerChemMIP</td>\n",
       "      <td>BCC</td>\n",
       "      <td>BCC-ESM1</td>\n",
       "      <td>histSST</td>\n",
       "      <td>r1i1p1f1</td>\n",
       "      <td>AERmon</td>\n",
       "      <td>mmrso4</td>\n",
       "      <td>gn</td>\n",
       "      <td>gs://cmip6/AerChemMIP/BCC/BCC-ESM1/histSST/r1i...</td>\n",
       "      <td>NaN</td>\n",
       "      <td>20191127</td>\n",
       "    </tr>\n",
       "  </tbody>\n",
       "</table>\n",
       "</div>"
      ],
      "text/plain": [
       "  activity_id institution_id source_id experiment_id member_id table_id  \\\n",
       "0  AerChemMIP        AS-RCEC   TaiESM1       histSST  r1i1p1f1   AERmon   \n",
       "1  AerChemMIP            BCC  BCC-ESM1       histSST  r1i1p1f1   AERmon   \n",
       "2  AerChemMIP            BCC  BCC-ESM1       histSST  r1i1p1f1   AERmon   \n",
       "3  AerChemMIP            BCC  BCC-ESM1       histSST  r1i1p1f1   AERmon   \n",
       "4  AerChemMIP            BCC  BCC-ESM1       histSST  r1i1p1f1   AERmon   \n",
       "\n",
       "  variable_id grid_label                                             zstore  \\\n",
       "0    od550aer         gn  gs://cmip6/AerChemMIP/AS-RCEC/TaiESM1/histSST/...   \n",
       "1       mmrbc         gn  gs://cmip6/AerChemMIP/BCC/BCC-ESM1/histSST/r1i...   \n",
       "2     mmrdust         gn  gs://cmip6/AerChemMIP/BCC/BCC-ESM1/histSST/r1i...   \n",
       "3       mmroa         gn  gs://cmip6/AerChemMIP/BCC/BCC-ESM1/histSST/r1i...   \n",
       "4      mmrso4         gn  gs://cmip6/AerChemMIP/BCC/BCC-ESM1/histSST/r1i...   \n",
       "\n",
       "   dcpp_init_year   version  \n",
       "0             NaN  20200310  \n",
       "1             NaN  20190718  \n",
       "2             NaN  20191127  \n",
       "3             NaN  20190809  \n",
       "4             NaN  20191127  "
      ]
     },
     "execution_count": 2,
     "metadata": {},
     "output_type": "execute_result"
    }
   ],
   "source": [
    "url = (\n",
    "    \"https://raw.githubusercontent.com/NCAR/intake-esm-datastore/master/catalogs/pangeo-cmip6.json\"\n",
    ")\n",
    "col = intake.open_esm_datastore(url)\n",
    "col.df.head()"
   ]
  },
  {
   "cell_type": "markdown",
   "metadata": {},
   "source": [
    "In this notebook we will go through some examples showing how to manipulate this\n",
    "dataframe outside of intake-esm.\n"
   ]
  },
  {
   "cell_type": "markdown",
   "metadata": {},
   "source": [
    "## Use Case 1: Complex Search Queries\n",
    "\n",
    "Let's say we are interested in datasets with the following attributes:\n",
    "\n",
    "- `experiment_id=[\"historical\"]`\n",
    "- `table_id=\"Amon\"`\n",
    "- `variable_id=\"tas\"`\n",
    "- `source_id=['TaiESM1', 'AWI-CM-1-1-MR', 'AWI-ESM-1-1-LR', 'BCC-CSM2-MR', 'BCC-ESM1', 'CAMS-CSM1-0', 'CAS-ESM2-0', 'UKESM1-0-LL']`\n",
    "\n",
    "In addition to these attributes, **we are interested in the first ensemble\n",
    "member (member_id) of each model (source_id) only**.\n",
    "\n",
    "This can be achieved in two steps:\n",
    "\n",
    "### Step 1: Run a query against the catalog\n",
    "\n",
    "We can run a query against the catalog:\n"
   ]
  },
  {
   "cell_type": "code",
   "execution_count": 3,
   "metadata": {},
   "outputs": [
    {
     "data": {
      "text/html": [
       "<p><strong>pangeo-cmip6 catalog with 9 dataset(s) from 38 asset(s)</strong>:</p> <div>\n",
       "<style scoped>\n",
       "    .dataframe tbody tr th:only-of-type {\n",
       "        vertical-align: middle;\n",
       "    }\n",
       "\n",
       "    .dataframe tbody tr th {\n",
       "        vertical-align: top;\n",
       "    }\n",
       "\n",
       "    .dataframe thead th {\n",
       "        text-align: right;\n",
       "    }\n",
       "</style>\n",
       "<table border=\"1\" class=\"dataframe\">\n",
       "  <thead>\n",
       "    <tr style=\"text-align: right;\">\n",
       "      <th></th>\n",
       "      <th>unique</th>\n",
       "    </tr>\n",
       "  </thead>\n",
       "  <tbody>\n",
       "    <tr>\n",
       "      <th>activity_id</th>\n",
       "      <td>1</td>\n",
       "    </tr>\n",
       "    <tr>\n",
       "      <th>institution_id</th>\n",
       "      <td>7</td>\n",
       "    </tr>\n",
       "    <tr>\n",
       "      <th>source_id</th>\n",
       "      <td>8</td>\n",
       "    </tr>\n",
       "    <tr>\n",
       "      <th>experiment_id</th>\n",
       "      <td>1</td>\n",
       "    </tr>\n",
       "    <tr>\n",
       "      <th>member_id</th>\n",
       "      <td>23</td>\n",
       "    </tr>\n",
       "    <tr>\n",
       "      <th>table_id</th>\n",
       "      <td>1</td>\n",
       "    </tr>\n",
       "    <tr>\n",
       "      <th>variable_id</th>\n",
       "      <td>1</td>\n",
       "    </tr>\n",
       "    <tr>\n",
       "      <th>grid_label</th>\n",
       "      <td>1</td>\n",
       "    </tr>\n",
       "    <tr>\n",
       "      <th>zstore</th>\n",
       "      <td>38</td>\n",
       "    </tr>\n",
       "    <tr>\n",
       "      <th>dcpp_init_year</th>\n",
       "      <td>0</td>\n",
       "    </tr>\n",
       "    <tr>\n",
       "      <th>version</th>\n",
       "      <td>24</td>\n",
       "    </tr>\n",
       "  </tbody>\n",
       "</table>\n",
       "</div>"
      ],
      "text/plain": [
       "<IPython.core.display.HTML object>"
      ]
     },
     "metadata": {},
     "output_type": "display_data"
    }
   ],
   "source": [
    "col_subset = col.search(\n",
    "    experiment_id=[\"historical\"],\n",
    "    table_id=\"Amon\",\n",
    "    variable_id=\"tas\",\n",
    "    source_id=[\n",
    "        \"TaiESM1\",\n",
    "        \"AWI-CM-1-1-MR\",\n",
    "        \"AWI-ESM-1-1-LR\",\n",
    "        \"BCC-CSM2-MR\",\n",
    "        \"BCC-ESM1\",\n",
    "        \"CAMS-CSM1-0\",\n",
    "        \"CAS-ESM2-0\",\n",
    "        \"UKESM1-0-LL\",\n",
    "    ],\n",
    ")\n",
    "col_subset"
   ]
  },
  {
   "cell_type": "markdown",
   "metadata": {},
   "source": [
    "### Step 2: Select the first `member_id` for each `source_id`\n",
    "\n",
    "The subsetted catalog contains `source_id` with the following number of\n",
    "`member_id` per `source_id`:\n"
   ]
  },
  {
   "cell_type": "code",
   "execution_count": 4,
   "metadata": {},
   "outputs": [
    {
     "data": {
      "text/plain": [
       "source_id\n",
       "AWI-CM-1-1-MR      5\n",
       "AWI-ESM-1-1-LR     1\n",
       "BCC-CSM2-MR        3\n",
       "BCC-ESM1           3\n",
       "CAMS-CSM1-0        3\n",
       "CAS-ESM2-0         4\n",
       "TaiESM1            1\n",
       "UKESM1-0-LL       18\n",
       "Name: member_id, dtype: int64"
      ]
     },
     "execution_count": 4,
     "metadata": {},
     "output_type": "execute_result"
    }
   ],
   "source": [
    "col_subset.df.groupby(\"source_id\")[\"member_id\"].nunique()"
   ]
  },
  {
   "cell_type": "markdown",
   "metadata": {},
   "source": [
    "To get the first `member_id` for each `source_id`, we group the dataframe by\n",
    "`source_id` and use the `.first()` function to retrieve the first `member_id`:\n"
   ]
  },
  {
   "cell_type": "code",
   "execution_count": 5,
   "metadata": {},
   "outputs": [
    {
     "data": {
      "text/plain": [
       "source_id\n",
       "AWI-CM-1-1-MR     1\n",
       "AWI-ESM-1-1-LR    1\n",
       "BCC-CSM2-MR       1\n",
       "BCC-ESM1          1\n",
       "CAMS-CSM1-0       1\n",
       "CAS-ESM2-0        1\n",
       "TaiESM1           1\n",
       "UKESM1-0-LL       1\n",
       "Name: member_id, dtype: int64"
      ]
     },
     "execution_count": 5,
     "metadata": {},
     "output_type": "execute_result"
    }
   ],
   "source": [
    "grouped = col_subset.df.groupby([\"source_id\"])\n",
    "df = grouped.first().reset_index()\n",
    "\n",
    "# Confirm that we have one ensemble member per source_id\n",
    "\n",
    "df.groupby(\"source_id\")[\"member_id\"].nunique()"
   ]
  },
  {
   "cell_type": "markdown",
   "metadata": {},
   "source": [
    "### Step 3: Attach the new dataframe to our catalog object\n"
   ]
  },
  {
   "cell_type": "code",
   "execution_count": 6,
   "metadata": {},
   "outputs": [
    {
     "data": {
      "text/html": [
       "<p><strong>pangeo-cmip6 catalog with 8 dataset(s) from 8 asset(s)</strong>:</p> <div>\n",
       "<style scoped>\n",
       "    .dataframe tbody tr th:only-of-type {\n",
       "        vertical-align: middle;\n",
       "    }\n",
       "\n",
       "    .dataframe tbody tr th {\n",
       "        vertical-align: top;\n",
       "    }\n",
       "\n",
       "    .dataframe thead th {\n",
       "        text-align: right;\n",
       "    }\n",
       "</style>\n",
       "<table border=\"1\" class=\"dataframe\">\n",
       "  <thead>\n",
       "    <tr style=\"text-align: right;\">\n",
       "      <th></th>\n",
       "      <th>unique</th>\n",
       "    </tr>\n",
       "  </thead>\n",
       "  <tbody>\n",
       "    <tr>\n",
       "      <th>source_id</th>\n",
       "      <td>8</td>\n",
       "    </tr>\n",
       "    <tr>\n",
       "      <th>activity_id</th>\n",
       "      <td>1</td>\n",
       "    </tr>\n",
       "    <tr>\n",
       "      <th>institution_id</th>\n",
       "      <td>6</td>\n",
       "    </tr>\n",
       "    <tr>\n",
       "      <th>experiment_id</th>\n",
       "      <td>1</td>\n",
       "    </tr>\n",
       "    <tr>\n",
       "      <th>member_id</th>\n",
       "      <td>2</td>\n",
       "    </tr>\n",
       "    <tr>\n",
       "      <th>table_id</th>\n",
       "      <td>1</td>\n",
       "    </tr>\n",
       "    <tr>\n",
       "      <th>variable_id</th>\n",
       "      <td>1</td>\n",
       "    </tr>\n",
       "    <tr>\n",
       "      <th>grid_label</th>\n",
       "      <td>1</td>\n",
       "    </tr>\n",
       "    <tr>\n",
       "      <th>zstore</th>\n",
       "      <td>8</td>\n",
       "    </tr>\n",
       "    <tr>\n",
       "      <th>dcpp_init_year</th>\n",
       "      <td>0</td>\n",
       "    </tr>\n",
       "    <tr>\n",
       "      <th>version</th>\n",
       "      <td>8</td>\n",
       "    </tr>\n",
       "  </tbody>\n",
       "</table>\n",
       "</div>"
      ],
      "text/plain": [
       "<IPython.core.display.HTML object>"
      ]
     },
     "metadata": {},
     "output_type": "display_data"
    }
   ],
   "source": [
    "col_subset.df = df\n",
    "col_subset"
   ]
  },
  {
   "cell_type": "code",
   "execution_count": 7,
   "metadata": {},
   "outputs": [
    {
     "name": "stdout",
     "output_type": "stream",
     "text": [
      "\n",
      "--> The keys in the returned dictionary of datasets are constructed as follows:\n",
      "\t'activity_id.institution_id.source_id.experiment_id.table_id.grid_label'\n"
     ]
    },
    {
     "data": {
      "text/html": [
       "\n",
       "    <div>\n",
       "        <style>\n",
       "            /* Turns off some styling */\n",
       "            progress {\n",
       "                /* gets rid of default border in Firefox and Opera. */\n",
       "                border: none;\n",
       "                /* Needs to be in here for Safari polyfill so background images work as expected. */\n",
       "                background-size: auto;\n",
       "            }\n",
       "            .progress-bar-interrupted, .progress-bar-interrupted::-webkit-progress-bar {\n",
       "                background: #F44336;\n",
       "            }\n",
       "        </style>\n",
       "      <progress value='8' class='' max='8' style='width:300px; height:20px; vertical-align: middle;'></progress>\n",
       "      100.00% [8/8 00:00<00:00]\n",
       "    </div>\n",
       "    "
      ],
      "text/plain": [
       "<IPython.core.display.HTML object>"
      ]
     },
     "metadata": {},
     "output_type": "display_data"
    },
    {
     "data": {
      "text/plain": [
       "['CMIP.BCC.BCC-ESM1.historical.Amon.gn',\n",
       " 'CMIP.AWI.AWI-CM-1-1-MR.historical.Amon.gn',\n",
       " 'CMIP.AWI.AWI-ESM-1-1-LR.historical.Amon.gn',\n",
       " 'CMIP.MOHC.UKESM1-0-LL.historical.Amon.gn',\n",
       " 'CMIP.CAS.CAS-ESM2-0.historical.Amon.gn',\n",
       " 'CMIP.BCC.BCC-CSM2-MR.historical.Amon.gn',\n",
       " 'CMIP.AS-RCEC.TaiESM1.historical.Amon.gn',\n",
       " 'CMIP.CAMS.CAMS-CSM1-0.historical.Amon.gn']"
      ]
     },
     "execution_count": 7,
     "metadata": {},
     "output_type": "execute_result"
    }
   ],
   "source": [
    "dsets = col_subset.to_dataset_dict(zarr_kwargs={\"consolidated\": True})\n",
    "[key for key in dsets]"
   ]
  },
  {
   "cell_type": "code",
   "execution_count": 10,
   "metadata": {},
   "outputs": [
    {
     "name": "stdout",
     "output_type": "stream",
     "text": [
      "<xarray.Dataset>\n",
      "Dimensions:    (lat: 128, lon: 256, member_id: 1, time: 1980)\n",
      "Coordinates:\n",
      "    height     float64 ...\n",
      "  * lat        (lat) float64 -90.0 -88.58 -87.17 -85.75 ... 87.17 88.58 90.0\n",
      "  * lon        (lon) float64 0.0 1.406 2.812 4.219 ... 354.4 355.8 357.2 358.6\n",
      "  * time       (time) object 1850-01-16 12:00:00 ... 2014-12-16 12:00:00\n",
      "  * member_id  (member_id) <U8 'r1i1p1f1'\n",
      "Data variables:\n",
      "    tas        (member_id, time, lat, lon) float32 dask.array<chunksize=(1, 381, 128, 256), meta=np.ndarray>\n",
      "Attributes:\n",
      "    Conventions:             CF-1.7 CMIP-6.2\n",
      "    activity_id:             CMIP\n",
      "    branch_method:           standard\n",
      "    branch_time_in_child:    0.0\n",
      "    branch_time_in_parent:   0.0\n",
      "    cmor_version:            3.5.0\n",
      "    contact:                 Zhang He (zhanghe@mail.iap.ac.cn)\n",
      "    creation_date:           2020-03-02T12:28:26Z\n",
      "    data_specs_version:      01.00.31\n",
      "    experiment:              all-forcing simulation of the recent past\n",
      "    experiment_id:           historical\n",
      "    external_variables:      areacella\n",
      "    forcing_index:           1\n",
      "    frequency:               mon\n",
      "    further_info_url:        https://furtherinfo.es-doc.org/CMIP6.CAS.CAS-ESM...\n",
      "    grid:                    native atmosphere regular grid (128x256 latxlon)\n",
      "    grid_label:              gn\n",
      "    history:                 2020-03-02T12:28:26Z ;rewrote data to be consist...\n",
      "    initialization_index:    1\n",
      "    institution:             Chinese Academy of Sciences, Beijing 100029, China\n",
      "    institution_id:          CAS\n",
      "    license:                 CMIP6 model data produced by Institute of Atmosp...\n",
      "    mip_era:                 CMIP6\n",
      "    nominal_resolution:      100 km\n",
      "    parent_activity_id:      CMIP\n",
      "    parent_experiment_id:    piControl\n",
      "    parent_mip_era:          CMIP6\n",
      "    parent_source_id:        CAS-ESM2-0\n",
      "    parent_time_units:       days since 1850-01-01\n",
      "    parent_variant_label:    r1i1p1f1\n",
      "    physics_index:           1\n",
      "    product:                 model-output\n",
      "    realization_index:       1\n",
      "    realm:                   atmos\n",
      "    run_variant:             3rd realization\n",
      "    source:                  CAS-ESM 2.0 (2019): \\naerosol: IAP AACM\\natmos: ...\n",
      "    source_id:               CAS-ESM2-0\n",
      "    source_type:             AOGCM\n",
      "    status:                  2020-05-02;created; by gcs.cmip6.ldeo@gmail.com\n",
      "    sub_experiment:          none\n",
      "    sub_experiment_id:       none\n",
      "    table_id:                Amon\n",
      "    table_info:              Creation Date:(24 July 2019) MD5:b9834a2d0728c0d...\n",
      "    title:                   CAS-ESM2-0 output prepared for CMIP6\n",
      "    tracking_id:             hdl:21.14100/22e89a1b-f73e-45be-84dc-7d0aabbeea9d\n",
      "    variable_id:             tas\n",
      "    variant_label:           r1i1p1f1\n",
      "    intake_esm_varname:      ['tas']\n",
      "    intake_esm_dataset_key:  CMIP.CAS.CAS-ESM2-0.historical.Amon.gn\n"
     ]
    }
   ],
   "source": [
    "print(dsets[\"CMIP.CAS.CAS-ESM2-0.historical.Amon.gn\"])"
   ]
  }
 ],
 "metadata": {
  "kernelspec": {
   "display_name": "Python 3",
   "language": "python",
   "name": "python3"
  },
  "language_info": {
   "codemirror_mode": {
    "name": "ipython",
    "version": 3
   },
   "file_extension": ".py",
   "mimetype": "text/x-python",
   "name": "python",
   "nbconvert_exporter": "python",
   "pygments_lexer": "ipython3",
   "version": "3.8.3"
  }
 },
 "nbformat": 4,
 "nbformat_minor": 4
}
