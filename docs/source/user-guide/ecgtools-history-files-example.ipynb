{
 "cells": [
  {
   "cell_type": "markdown",
   "id": "starting-spokesman",
   "metadata": {
    "tags": []
   },
   "source": [
    "# Building an Intake-esm catalog from CESM2 History Files\n",
    "\n",
    "In this example, we will cover how to build a data catalog from Community Earth System Model (CESM) output. One of the requirements for using intake-esm is having a catalog which is comprised of two pieces:\n",
    "* A table of the relevant metadata (ex. file path, variable, stream, etc.)\n",
    "* A json describing the dataset, including how to aggregate the variables\n",
    "\n",
    "Typically, these pieces are constructed \"manually\" using information within the file path, on a very ad-hoc basis. Also, these catalogs are typically only created for \"larger\", community datasets, not neccessarily used within smaller model runs/daily workflows. A new package (currently a prototype), called [ecgtools](https://ecgtools.readthedocs.io/en/latest/) works to solve the issues of generating these intake-esm catalogs. Ecgtools stands for Earth System Model (ESM) Catalog Generation tools. The current catalog generation tools supported are:\n",
    "* CMIP6 models\n",
    "* CESM \"history\" files\n",
    "* CESM \"timeseries\" files\n",
    "\n",
    "This example provides an overview of using [ecgtools](https://ecgtools.readthedocs.io/en/latest/) for parsing CESM timeseries file model output, and reading in the data using \n",
    "[Intake-ESM](https://intake-esm.readthedocs.io/en/latest/). In this example, we use sample CESM data within the test directory for Intake-ESM.\n",
    "\n",
    "## Downloading ecgtools\n",
    "You can install [ecgtools](https://github.com/NCAR/ecgtools) through [PyPI](https://pypi.org/project/docs/) or [conda-forge](https://conda-forge.org/docs/). Examples of the syntax are provided below:\n",
    "\n",
    "\n",
    "### Installing with Conda-Forge\n",
    "\n",
    "Within your [conda environment](https://docs.conda.io/projects/conda/en/latest/user-guide/tasks/manage-environments.html), run the following: \n",
    "\n",
    "\n",
    "```bash\n",
    "conda install -c conda-forge ecgtools\n",
    "```\n",
    "\n",
    "\n",
    "### Installing with Pip\n",
    "Alternatively, you could use [PyPI](https://pypi.org/project/docs/), with the `pip install` command shown provided below.\n",
    "\n",
    "```bash\n",
    "pip install ecgtools\n",
    "```\n",
    "\n",
    "## Imports\n",
    "The only parts of ecgtools we need are the `Builder` object and the `parse_cesm_history` parser from the CESM parsers! We import `glob` to take a look at the files we are parsing."
   ]
  },
  {
   "cell_type": "code",
   "execution_count": 13,
   "id": "nominated-battle",
   "metadata": {},
   "outputs": [],
   "source": [
    "import glob\n",
    "\n",
    "import intake\n",
    "from ecgtools import Builder\n",
    "from ecgtools.parsers.cesm import parse_cesm_timeseries"
   ]
  },
  {
   "cell_type": "markdown",
   "id": "czech-stylus",
   "metadata": {},
   "source": [
    "### Understanding the Directory Structure\n",
    "\n",
    "The first step to setting up the `Builder` object is determining where your files are stored. As mentioned previously, we have a sample dataset of CESM2 model output, which is stored in test directory `/tests/sample_data` directory of this repository.\n",
    "\n",
    "Taking a look at that directory, we see that there is a single case `g.e11_LENS.GECOIAF.T62_g16.009`"
   ]
  },
  {
   "cell_type": "code",
   "execution_count": 2,
   "id": "south-nancy",
   "metadata": {},
   "outputs": [
    {
     "data": {
      "text/plain": [
       "['../../../tests/sample_data/cesm/g.e11_LENS.GECOIAF.T62_g16.009.pop.h.ECOSYS_XKW.024901-031612.nc',\n",
       " '../../../tests/sample_data/cesm/g.e11_LENS.GECOIAF.T62_g16.009.pop.h.sigma.O2.024901-031612.nc',\n",
       " '../../../tests/sample_data/cesm/g.e11_LENS.GECOIAF.T62_g16.009.pop.h.ecosys.nday1.CaCO3_form_zint.02490101-03161231.nc']"
      ]
     },
     "execution_count": 2,
     "metadata": {},
     "output_type": "execute_result"
    }
   ],
   "source": [
    "glob.glob('../../../tests/sample_data/cesm/*')"
   ]
  },
  {
   "cell_type": "markdown",
   "id": "sunset-animation",
   "metadata": {},
   "source": [
    "Now that we understand the directory structure, let's make the catalog."
   ]
  },
  {
   "cell_type": "markdown",
   "id": "growing-anthony",
   "metadata": {},
   "source": [
    "## Build the catalog!\n",
    "\n",
    "Let's start by inspecting the builder object"
   ]
  },
  {
   "cell_type": "code",
   "execution_count": 3,
   "id": "promising-installation",
   "metadata": {},
   "outputs": [
    {
     "data": {
      "text/plain": [
       "\u001b[0;31mInit signature:\u001b[0m\n",
       "\u001b[0mBuilder\u001b[0m\u001b[0;34m(\u001b[0m\u001b[0;34m\u001b[0m\n",
       "\u001b[0;34m\u001b[0m    \u001b[0mroot_path\u001b[0m\u001b[0;34m:\u001b[0m \u001b[0mUnion\u001b[0m\u001b[0;34m[\u001b[0m\u001b[0mpydantic\u001b[0m\u001b[0;34m.\u001b[0m\u001b[0mtypes\u001b[0m\u001b[0;34m.\u001b[0m\u001b[0mDirectoryPath\u001b[0m\u001b[0;34m,\u001b[0m \u001b[0mList\u001b[0m\u001b[0;34m[\u001b[0m\u001b[0mpydantic\u001b[0m\u001b[0;34m.\u001b[0m\u001b[0mtypes\u001b[0m\u001b[0;34m.\u001b[0m\u001b[0mDirectoryPath\u001b[0m\u001b[0;34m]\u001b[0m\u001b[0;34m]\u001b[0m\u001b[0;34m,\u001b[0m\u001b[0;34m\u001b[0m\n",
       "\u001b[0;34m\u001b[0m    \u001b[0mextension\u001b[0m\u001b[0;34m:\u001b[0m \u001b[0mstr\u001b[0m \u001b[0;34m=\u001b[0m \u001b[0;34m'.nc'\u001b[0m\u001b[0;34m,\u001b[0m\u001b[0;34m\u001b[0m\n",
       "\u001b[0;34m\u001b[0m    \u001b[0mdepth\u001b[0m\u001b[0;34m:\u001b[0m \u001b[0mint\u001b[0m \u001b[0;34m=\u001b[0m \u001b[0;36m0\u001b[0m\u001b[0;34m,\u001b[0m\u001b[0;34m\u001b[0m\n",
       "\u001b[0;34m\u001b[0m    \u001b[0mexclude_patterns\u001b[0m\u001b[0;34m:\u001b[0m \u001b[0mList\u001b[0m\u001b[0;34m[\u001b[0m\u001b[0mstr\u001b[0m\u001b[0;34m]\u001b[0m \u001b[0;34m=\u001b[0m \u001b[0;32mNone\u001b[0m\u001b[0;34m,\u001b[0m\u001b[0;34m\u001b[0m\n",
       "\u001b[0;34m\u001b[0m    \u001b[0mnjobs\u001b[0m\u001b[0;34m:\u001b[0m \u001b[0mint\u001b[0m \u001b[0;34m=\u001b[0m \u001b[0;34m-\u001b[0m\u001b[0;36m1\u001b[0m\u001b[0;34m,\u001b[0m\u001b[0;34m\u001b[0m\n",
       "\u001b[0;34m\u001b[0m\u001b[0;34m)\u001b[0m \u001b[0;34m->\u001b[0m \u001b[0;32mNone\u001b[0m\u001b[0;34m\u001b[0m\u001b[0;34m\u001b[0m\u001b[0m\n",
       "\u001b[0;31mDocstring:\u001b[0m     \n",
       "Generates a catalog from a list of files.\n",
       "\n",
       "Parameters\n",
       "----------\n",
       "root_path : str or list\n",
       "    Path(s) of root directory.\n",
       "extension : str, optional\n",
       "    File extension, by default None. If None, the builder will look for files with\n",
       "    \"*.nc\" extension.\n",
       "depth : int, optional\n",
       "    Recursion depth. Recursively crawl `root_path` up to a specified depth, by default 0\n",
       "exclude_patterns : list, optional\n",
       "    Directory, file patterns to exclude during catalog generation.\n",
       "    These could be substring or regular expressions. by default None\n",
       "njobs : int, optional\n",
       "    The maximum number of concurrently running jobs,\n",
       "    by default -1 meaning all CPUs are used.\n",
       "\u001b[0;31mFile:\u001b[0m           ~/anaconda3/envs/intake-esm-dev/lib/python3.9/site-packages/ecgtools/builder.py\n",
       "\u001b[0;31mType:\u001b[0m           type\n",
       "\u001b[0;31mSubclasses:\u001b[0m     \n"
      ]
     },
     "metadata": {},
     "output_type": "display_data"
    }
   ],
   "source": [
    "?Builder"
   ]
  },
  {
   "cell_type": "markdown",
   "id": "ccf85513-d76a-4b31-9908-dc6af39afc12",
   "metadata": {},
   "source": [
    "<div class=\"admonition alert alert-info\">\n",
    "    <p class=\"admonition-title\" style=\"font-weight:bold\">Info</p>\n",
    "    Note that as of 21 June, 2021, the <code>parsing_func</code> parameter is now used in the <code>.build()</code> method!\n",
    "</div>"
   ]
  },
  {
   "cell_type": "code",
   "execution_count": 4,
   "id": "abroad-taxation",
   "metadata": {},
   "outputs": [],
   "source": [
    "b = Builder(\n",
    "    # Directory with the output\n",
    "    '../../../tests/sample_data/cesm/',\n",
    "    # Depth of 1 since we are sending it to the case output directory\n",
    "    depth=1,\n",
    "    # Exclude the timeseries and restart directories\n",
    "    exclude_patterns=[\"*/tseries/*\", \"*/rest/*\"],\n",
    "    # Number of jobs to execute - should be equal to # threads you are using\n",
    "    njobs=5,\n",
    ")"
   ]
  },
  {
   "cell_type": "markdown",
   "id": "painful-syria",
   "metadata": {},
   "source": [
    "Double check the object is set up..."
   ]
  },
  {
   "cell_type": "code",
   "execution_count": 5,
   "id": "studied-jersey",
   "metadata": {},
   "outputs": [
    {
     "data": {
      "text/plain": [
       "Builder(root_path=PosixPath('../../../tests/sample_data/cesm'), extension='.nc', depth=1, exclude_patterns=['*/tseries/*', '*/rest/*'], njobs=5)"
      ]
     },
     "execution_count": 5,
     "metadata": {},
     "output_type": "execute_result"
    }
   ],
   "source": [
    "b"
   ]
  },
  {
   "cell_type": "markdown",
   "id": "american-exhibit",
   "metadata": {},
   "source": [
    "We are good to go! Let's build the catalog by calling `.build()` on the object, passing in the `parse_cesm_history` parser! By default, it will use the `LokyBackend` which is described in the [Joblib documentation](https://joblib.readthedocs.io/en/latest/parallel.html)."
   ]
  },
  {
   "cell_type": "code",
   "execution_count": 6,
   "id": "false-bristol",
   "metadata": {},
   "outputs": [
    {
     "name": "stderr",
     "output_type": "stream",
     "text": [
      "[Parallel(n_jobs=5)]: Using backend LokyBackend with 5 concurrent workers.\n",
      "[Parallel(n_jobs=5)]: Done   1 out of   1 | elapsed:    0.4s finished\n",
      "[Parallel(n_jobs=5)]: Using backend LokyBackend with 5 concurrent workers.\n",
      "/Users/mgrover/anaconda3/envs/intake-esm-dev/lib/python3.9/site-packages/ecgtools/parsers/cesm.py:240: UserWarning: Using the default frequency definitions\n",
      "  warnings.warn('Using the default frequency definitions')\n",
      "/Users/mgrover/anaconda3/envs/intake-esm-dev/lib/python3.9/site-packages/ecgtools/parsers/cesm.py:240: UserWarning: Using the default frequency definitions\n",
      "  warnings.warn('Using the default frequency definitions')\n",
      "/Users/mgrover/anaconda3/envs/intake-esm-dev/lib/python3.9/site-packages/ecgtools/parsers/cesm.py:240: UserWarning: Using the default frequency definitions\n",
      "  warnings.warn('Using the default frequency definitions')\n",
      "[Parallel(n_jobs=5)]: Done   3 out of   3 | elapsed:    1.2s remaining:    0.0s\n",
      "[Parallel(n_jobs=5)]: Done   3 out of   3 | elapsed:    1.2s finished\n"
     ]
    }
   ],
   "source": [
    "b = b.build(parse_cesm_timeseries)"
   ]
  },
  {
   "cell_type": "markdown",
   "id": "caring-harrison",
   "metadata": {},
   "source": [
    "## Inspect the Catalog"
   ]
  },
  {
   "cell_type": "markdown",
   "id": "hydraulic-developer",
   "metadata": {},
   "source": [
    "Now that the catalog is built, we can inspect the dataframe which is used to create the catalog by calling `.df` on the builder object"
   ]
  },
  {
   "cell_type": "code",
   "execution_count": 7,
   "id": "composite-insider",
   "metadata": {},
   "outputs": [
    {
     "data": {
      "text/html": [
       "<div>\n",
       "<style scoped>\n",
       "    .dataframe tbody tr th:only-of-type {\n",
       "        vertical-align: middle;\n",
       "    }\n",
       "\n",
       "    .dataframe tbody tr th {\n",
       "        vertical-align: top;\n",
       "    }\n",
       "\n",
       "    .dataframe thead th {\n",
       "        text-align: right;\n",
       "    }\n",
       "</style>\n",
       "<table border=\"1\" class=\"dataframe\">\n",
       "  <thead>\n",
       "    <tr style=\"text-align: right;\">\n",
       "      <th></th>\n",
       "      <th>component</th>\n",
       "      <th>stream</th>\n",
       "      <th>case</th>\n",
       "      <th>member_id</th>\n",
       "      <th>variable</th>\n",
       "      <th>start_time</th>\n",
       "      <th>end_time</th>\n",
       "      <th>time_range</th>\n",
       "      <th>long_name</th>\n",
       "      <th>units</th>\n",
       "      <th>vertical_levels</th>\n",
       "      <th>frequency</th>\n",
       "      <th>path</th>\n",
       "    </tr>\n",
       "  </thead>\n",
       "  <tbody>\n",
       "    <tr>\n",
       "      <th>0</th>\n",
       "      <td>ocn</td>\n",
       "      <td>pop.h</td>\n",
       "      <td>g.e11_LENS.GECOIAF.T62_g16.009</td>\n",
       "      <td>009</td>\n",
       "      <td>ECOSYS_XKW</td>\n",
       "      <td>0249-01</td>\n",
       "      <td>0316-12</td>\n",
       "      <td>024901-031612</td>\n",
       "      <td>XKW for ecosys fluxes</td>\n",
       "      <td>cm/s</td>\n",
       "      <td>1</td>\n",
       "      <td>month_1</td>\n",
       "      <td>../../../tests/sample_data/cesm/g.e11_LENS.GEC...</td>\n",
       "    </tr>\n",
       "    <tr>\n",
       "      <th>1</th>\n",
       "      <td>ocn</td>\n",
       "      <td>pop.h.ecosys.nday1</td>\n",
       "      <td>g.e11_LENS.GECOIAF.T62_g16.009</td>\n",
       "      <td>009</td>\n",
       "      <td>CaCO3_form_zint</td>\n",
       "      <td>0249-01-01</td>\n",
       "      <td>0316-12-31</td>\n",
       "      <td>02490101-03161231</td>\n",
       "      <td>CaCO3 Formation Vertical Integral</td>\n",
       "      <td>mmol/m^3 cm/s</td>\n",
       "      <td>1</td>\n",
       "      <td>day_1</td>\n",
       "      <td>../../../tests/sample_data/cesm/g.e11_LENS.GEC...</td>\n",
       "    </tr>\n",
       "    <tr>\n",
       "      <th>2</th>\n",
       "      <td>ocn</td>\n",
       "      <td>pop.h</td>\n",
       "      <td>g.e11_LENS.GECOIAF.T62_g16.009</td>\n",
       "      <td>009</td>\n",
       "      <td>O2</td>\n",
       "      <td>0249-01</td>\n",
       "      <td>0316-12</td>\n",
       "      <td>024901-031612</td>\n",
       "      <td>Dissolved Oxygen</td>\n",
       "      <td>mmol/m^3</td>\n",
       "      <td>1</td>\n",
       "      <td>month_1</td>\n",
       "      <td>../../../tests/sample_data/cesm/g.e11_LENS.GEC...</td>\n",
       "    </tr>\n",
       "  </tbody>\n",
       "</table>\n",
       "</div>"
      ],
      "text/plain": [
       "  component              stream                            case member_id  \\\n",
       "0       ocn               pop.h  g.e11_LENS.GECOIAF.T62_g16.009       009   \n",
       "1       ocn  pop.h.ecosys.nday1  g.e11_LENS.GECOIAF.T62_g16.009       009   \n",
       "2       ocn               pop.h  g.e11_LENS.GECOIAF.T62_g16.009       009   \n",
       "\n",
       "          variable  start_time    end_time         time_range  \\\n",
       "0       ECOSYS_XKW     0249-01     0316-12      024901-031612   \n",
       "1  CaCO3_form_zint  0249-01-01  0316-12-31  02490101-03161231   \n",
       "2               O2     0249-01     0316-12      024901-031612   \n",
       "\n",
       "                           long_name          units  vertical_levels  \\\n",
       "0              XKW for ecosys fluxes           cm/s                1   \n",
       "1  CaCO3 Formation Vertical Integral  mmol/m^3 cm/s                1   \n",
       "2                   Dissolved Oxygen       mmol/m^3                1   \n",
       "\n",
       "  frequency                                               path  \n",
       "0   month_1  ../../../tests/sample_data/cesm/g.e11_LENS.GEC...  \n",
       "1     day_1  ../../../tests/sample_data/cesm/g.e11_LENS.GEC...  \n",
       "2   month_1  ../../../tests/sample_data/cesm/g.e11_LENS.GEC...  "
      ]
     },
     "execution_count": 7,
     "metadata": {},
     "output_type": "execute_result"
    }
   ],
   "source": [
    "b.df"
   ]
  },
  {
   "cell_type": "markdown",
   "id": "fitted-audio",
   "metadata": {},
   "source": [
    "The resultant dataframe includes the:\n",
    "* Component\n",
    "* Stream\n",
    "* Case\n",
    "* Date\n",
    "* Frequency\n",
    "* Variables\n",
    "* Path"
   ]
  },
  {
   "cell_type": "markdown",
   "id": "single-storm",
   "metadata": {},
   "source": [
    "## Save the Catalog"
   ]
  },
  {
   "cell_type": "markdown",
   "id": "b182c26e-4455-476b-ba09-eae29f78599f",
   "metadata": {},
   "source": [
    "We can also check to see which files ***were not*** parsed by calling `.invalid_assets`"
   ]
  },
  {
   "cell_type": "code",
   "execution_count": 8,
   "id": "d0560280-113c-464d-928b-071780cf2b92",
   "metadata": {},
   "outputs": [
    {
     "data": {
      "text/html": [
       "<div>\n",
       "<style scoped>\n",
       "    .dataframe tbody tr th:only-of-type {\n",
       "        vertical-align: middle;\n",
       "    }\n",
       "\n",
       "    .dataframe tbody tr th {\n",
       "        vertical-align: top;\n",
       "    }\n",
       "\n",
       "    .dataframe thead th {\n",
       "        text-align: right;\n",
       "    }\n",
       "</style>\n",
       "<table border=\"1\" class=\"dataframe\">\n",
       "  <thead>\n",
       "    <tr style=\"text-align: right;\">\n",
       "      <th></th>\n",
       "    </tr>\n",
       "  </thead>\n",
       "  <tbody>\n",
       "  </tbody>\n",
       "</table>\n",
       "</div>"
      ],
      "text/plain": [
       "Empty DataFrame\n",
       "Columns: []\n",
       "Index: []"
      ]
     },
     "execution_count": 8,
     "metadata": {},
     "output_type": "execute_result"
    }
   ],
   "source": [
    "b.invalid_assets"
   ]
  },
  {
   "cell_type": "markdown",
   "id": "5faf9882-566d-4106-ae3a-a1ae9e5b1be4",
   "metadata": {},
   "source": [
    "This is empty, as expected!"
   ]
  },
  {
   "cell_type": "markdown",
   "id": "b5bd5184-3892-4032-971d-dd3245d33490",
   "metadata": {},
   "source": [
    "## Save the Catalog\n",
    "Now that we have our data catalog, we can save it, by specifying the path to the comma separated values file (`csv`) or compressed csv (`csv.gz`)."
   ]
  },
  {
   "cell_type": "code",
   "execution_count": 11,
   "id": "5a984e10-1704-467f-869b-43ba0b67b2c0",
   "metadata": {},
   "outputs": [
    {
     "name": "stdout",
     "output_type": "stream",
     "text": [
      "Saved catalog location: cesm_sample_data.json and cesm_sample_data.csv\n"
     ]
    }
   ],
   "source": [
    "b.save(\n",
    "    'cesm_sample_data.csv',\n",
    "    # Column name including filepath\n",
    "    path_column_name='path',\n",
    "    # Column name including variables\n",
    "    variable_column_name='variable',\n",
    "    # Data file format - could be netcdf or zarr (in this case, netcdf)\n",
    "    data_format=\"netcdf\",\n",
    "    # Which attributes to groupby when reading in variables using intake-esm\n",
    "    groupby_attrs=[\"component\", \"stream\", \"case\"],\n",
    "    # Aggregations which are fed into xarray when reading in data using intake\n",
    "    aggregations=[\n",
    "        {'type': 'union', 'attribute_name': 'variable'},\n",
    "        {\n",
    "            \"type\": \"join_existing\",\n",
    "            \"attribute_name\": \"time_range\",\n",
    "            \"options\": {\"dim\": \"time\", \"coords\": \"minimal\", \"compat\": \"override\"},\n",
    "        },\n",
    "    ],\n",
    ")"
   ]
  },
  {
   "cell_type": "markdown",
   "id": "naval-external",
   "metadata": {},
   "source": [
    "### Use the catalog to read in data"
   ]
  },
  {
   "cell_type": "code",
   "execution_count": 15,
   "id": "equal-ordering",
   "metadata": {},
   "outputs": [
    {
     "data": {
      "text/html": [
       "<p><strong> catalog with 2 dataset(s) from 3 asset(s)</strong>:</p> <div>\n",
       "<style scoped>\n",
       "    .dataframe tbody tr th:only-of-type {\n",
       "        vertical-align: middle;\n",
       "    }\n",
       "\n",
       "    .dataframe tbody tr th {\n",
       "        vertical-align: top;\n",
       "    }\n",
       "\n",
       "    .dataframe thead th {\n",
       "        text-align: right;\n",
       "    }\n",
       "</style>\n",
       "<table border=\"1\" class=\"dataframe\">\n",
       "  <thead>\n",
       "    <tr style=\"text-align: right;\">\n",
       "      <th></th>\n",
       "      <th>unique</th>\n",
       "    </tr>\n",
       "  </thead>\n",
       "  <tbody>\n",
       "    <tr>\n",
       "      <th>component</th>\n",
       "      <td>1</td>\n",
       "    </tr>\n",
       "    <tr>\n",
       "      <th>stream</th>\n",
       "      <td>2</td>\n",
       "    </tr>\n",
       "    <tr>\n",
       "      <th>case</th>\n",
       "      <td>1</td>\n",
       "    </tr>\n",
       "    <tr>\n",
       "      <th>member_id</th>\n",
       "      <td>1</td>\n",
       "    </tr>\n",
       "    <tr>\n",
       "      <th>variable</th>\n",
       "      <td>3</td>\n",
       "    </tr>\n",
       "    <tr>\n",
       "      <th>start_time</th>\n",
       "      <td>2</td>\n",
       "    </tr>\n",
       "    <tr>\n",
       "      <th>end_time</th>\n",
       "      <td>2</td>\n",
       "    </tr>\n",
       "    <tr>\n",
       "      <th>time_range</th>\n",
       "      <td>2</td>\n",
       "    </tr>\n",
       "    <tr>\n",
       "      <th>long_name</th>\n",
       "      <td>3</td>\n",
       "    </tr>\n",
       "    <tr>\n",
       "      <th>units</th>\n",
       "      <td>3</td>\n",
       "    </tr>\n",
       "    <tr>\n",
       "      <th>vertical_levels</th>\n",
       "      <td>1</td>\n",
       "    </tr>\n",
       "    <tr>\n",
       "      <th>frequency</th>\n",
       "      <td>2</td>\n",
       "    </tr>\n",
       "    <tr>\n",
       "      <th>path</th>\n",
       "      <td>3</td>\n",
       "    </tr>\n",
       "    <tr>\n",
       "      <th>derived_variable</th>\n",
       "      <td>0</td>\n",
       "    </tr>\n",
       "  </tbody>\n",
       "</table>\n",
       "</div>"
      ],
      "text/plain": [
       "<IPython.core.display.HTML object>"
      ]
     },
     "metadata": {},
     "output_type": "display_data"
    }
   ],
   "source": [
    "data_catalog = intake.open_esm_datastore(\n",
    "    \"cesm_sample_data.json\",\n",
    ")\n",
    "data_catalog"
   ]
  },
  {
   "cell_type": "code",
   "execution_count": 17,
   "id": "insured-conviction",
   "metadata": {},
   "outputs": [
    {
     "name": "stdout",
     "output_type": "stream",
     "text": [
      "\n",
      "--> The keys in the returned dictionary of datasets are constructed as follows:\n",
      "\t'component.stream.case'\n"
     ]
    },
    {
     "data": {
      "text/html": [
       "\n",
       "    <div>\n",
       "        <style>\n",
       "            /* Turns off some styling */\n",
       "            progress {\n",
       "                /* gets rid of default border in Firefox and Opera. */\n",
       "                border: none;\n",
       "                /* Needs to be in here for Safari polyfill so background images work as expected. */\n",
       "                background-size: auto;\n",
       "            }\n",
       "            .progress-bar-interrupted, .progress-bar-interrupted::-webkit-progress-bar {\n",
       "                background: #F44336;\n",
       "            }\n",
       "        </style>\n",
       "      <progress value='2' class='' max='2' style='width:300px; height:20px; vertical-align: middle;'></progress>\n",
       "      100.00% [2/2 00:00<00:00]\n",
       "    </div>\n",
       "    "
      ],
      "text/plain": [
       "<IPython.core.display.HTML object>"
      ]
     },
     "metadata": {},
     "output_type": "display_data"
    }
   ],
   "source": [
    "dsets = data_catalog.to_dataset_dict()"
   ]
  },
  {
   "cell_type": "code",
   "execution_count": 18,
   "id": "meaningful-journalism",
   "metadata": {},
   "outputs": [
    {
     "data": {
      "text/plain": [
       "{'ocn.pop.h.ecosys.nday1.g.e11_LENS.GECOIAF.T62_g16.009': <xarray.Dataset>\n",
       " Dimensions:          (nlat: 5, nlon: 5, time: 12)\n",
       " Coordinates:\n",
       "     ULONG            (nlat, nlon) float64 dask.array<chunksize=(5, 5), meta=np.ndarray>\n",
       "     TLONG            (nlat, nlon) float64 dask.array<chunksize=(5, 5), meta=np.ndarray>\n",
       "     ULAT             (nlat, nlon) float64 dask.array<chunksize=(5, 5), meta=np.ndarray>\n",
       "     TLAT             (nlat, nlon) float64 dask.array<chunksize=(5, 5), meta=np.ndarray>\n",
       "   * time             (time) object 0249-01-02 00:00:00 ... 0249-01-13 00:00:00\n",
       " Dimensions without coordinates: nlat, nlon\n",
       " Data variables:\n",
       "     CaCO3_form_zint  (time, nlat, nlon) float32 dask.array<chunksize=(12, 5, 5), meta=np.ndarray>\n",
       " Attributes: (12/15)\n",
       "     intake_esm_vars:                   ['CaCO3_form_zint']\n",
       "     intake_esm_attrs/component:        ocn\n",
       "     intake_esm_attrs/stream:           pop.h.ecosys.nday1\n",
       "     intake_esm_attrs/case:             g.e11_LENS.GECOIAF.T62_g16.009\n",
       "     intake_esm_attrs/member_id:        9\n",
       "     intake_esm_attrs/variable:         CaCO3_form_zint\n",
       "     ...                                ...\n",
       "     intake_esm_attrs/long_name:        CaCO3 Formation Vertical Integral\n",
       "     intake_esm_attrs/units:            mmol/m^3 cm/s\n",
       "     intake_esm_attrs/vertical_levels:  1\n",
       "     intake_esm_attrs/frequency:        day_1\n",
       "     intake_esm_attrs/path:             ../../../tests/sample_data/cesm/g.e11_...\n",
       "     intake_esm_dataset_key:            ocn.pop.h.ecosys.nday1.g.e11_LENS.GECO...,\n",
       " 'ocn.pop.h.g.e11_LENS.GECOIAF.T62_g16.009': <xarray.Dataset>\n",
       " Dimensions:     (nlat: 5, nlon: 5, time: 12, sigma: 5)\n",
       " Coordinates:\n",
       "     TLAT        (nlat, nlon) float64 dask.array<chunksize=(5, 5), meta=np.ndarray>\n",
       "     ULONG       (nlat, nlon) float64 dask.array<chunksize=(5, 5), meta=np.ndarray>\n",
       "     ULAT        (nlat, nlon) float64 dask.array<chunksize=(5, 5), meta=np.ndarray>\n",
       "     TLONG       (nlat, nlon) float64 dask.array<chunksize=(5, 5), meta=np.ndarray>\n",
       "   * time        (time) object 0249-02-01 00:00:00 ... 0250-01-01 00:00:00\n",
       "   * sigma       (sigma) float64 23.4 23.45 23.5 23.55 23.6\n",
       " Dimensions without coordinates: nlat, nlon\n",
       " Data variables:\n",
       "     ECOSYS_XKW  (time, nlat, nlon) float32 dask.array<chunksize=(12, 5, 5), meta=np.ndarray>\n",
       "     O2          (time, sigma, nlat, nlon) float32 dask.array<chunksize=(12, 5, 5, 5), meta=np.ndarray>\n",
       " Attributes:\n",
       "     intake_esm_attrs/component:        ocn\n",
       "     intake_esm_attrs/stream:           pop.h\n",
       "     intake_esm_attrs/case:             g.e11_LENS.GECOIAF.T62_g16.009\n",
       "     intake_esm_attrs/member_id:        9\n",
       "     intake_esm_attrs/start_time:       0249-01\n",
       "     intake_esm_attrs/end_time:         0316-12\n",
       "     intake_esm_attrs/time_range:       024901-031612\n",
       "     intake_esm_attrs/vertical_levels:  1\n",
       "     intake_esm_attrs/frequency:        month_1\n",
       "     intake_esm_dataset_key:            ocn.pop.h.g.e11_LENS.GECOIAF.T62_g16.009}"
      ]
     },
     "execution_count": 18,
     "metadata": {},
     "output_type": "execute_result"
    }
   ],
   "source": [
    "dsets"
   ]
  },
  {
   "cell_type": "markdown",
   "id": "center-orbit",
   "metadata": {},
   "source": [
    "Let's plot a quick figure from the dataset!"
   ]
  },
  {
   "cell_type": "code",
   "execution_count": 24,
   "id": "comic-hampshire",
   "metadata": {},
   "outputs": [
    {
     "data": {
      "image/png": "[encoded data removed]",
      "text/plain": [
       "<Figure size 432x288 with 2 Axes>"
      ]
     },
     "metadata": {
      "needs_background": "light"
     },
     "output_type": "display_data"
    }
   ],
   "source": [
    "dsets['ocn.pop.h.ecosys.nday1.g.e11_LENS.GECOIAF.T62_g16.009'].CaCO3_form_zint.isel(time=0).plot();"
   ]
  },
  {
   "cell_type": "markdown",
   "id": "facial-picking",
   "metadata": {},
   "source": [
    "## Conclusion\n",
    "Having the ability to easily create intake-esm catalogs from history files can be a powerful tool in your analysis toolkit. These data can be read in relatively quickly, easing the ability to quickly take a look at model output or even share your data with others! For more updates on [ecgtools](https://github.com/NCAR/ecgtools), be sure to follow [the ecgtools repository](https://github.com/NCAR/ecgtools) on Github! Have an idea for another helpful parser? Submit an issue!"
   ]
  },
  {
   "cell_type": "code",
   "execution_count": null,
   "id": "documentary-cable",
   "metadata": {},
   "outputs": [],
   "source": []
  }
 ],
 "metadata": {
  "author": "Max Grover",
  "date": "2021-06-04",
  "kernelspec": {
   "display_name": "Python 3 (ipykernel)",
   "language": "python",
   "name": "python3"
  },
  "language_info": {
   "codemirror_mode": {
    "name": "ipython",
    "version": 3
   },
   "file_extension": ".py",
   "mimetype": "text/x-python",
   "name": "python",
   "nbconvert_exporter": "python",
   "pygments_lexer": "ipython3",
   "version": "3.9.6"
  },
  "tags": "intake,cesm",
  "title": "Building an Intake-esm catalog from CESM2 History Files"
 },
 "nbformat": 4,
 "nbformat_minor": 5
}
