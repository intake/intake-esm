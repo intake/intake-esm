{
 "cells": [
  {
   "cell_type": "markdown",
   "id": "starting-spokesman",
   "metadata": {},
   "source": [
    "# Building an Intake-esm catalog from CESM2 History Files\n",
    "\n",
    "As mentioned in a couple of ESDS posts ([intake-esm and Dask](https://ncar.github.io/esds/posts/intake_esm_dask/), [debugging intake-esm](https://ncar.github.io/esds/posts/intake_cmip6_debug/)), [intake-esm](https://intake-esm.readthedocs.io/en/latest/) can be a helpful tool to work with when dealing with model data, especially CESM. One of the requirements for using intake-esm is having a catalog which is comprised of two pieces:\n",
    "* A table of the relevant metadata (ex. file path, variable, stream, etc.)\n",
    "* A json describing the dataset, including how to aggregate the variables\n",
    "\n",
    "Typically, these pieces are constructed \"manually\" using information within the file path, on a very ad-hoc basis. Also, these catalogs are typically only created for \"larger\", community datasets, not neccessarily used within smaller model runs/daily workflows. A new package (currently a prototype), called [ecgtools](https://ecgtools.readthedocs.io/en/latest/) works to solve the issues of generating these intake-esm catalogs. Ecgtools stands for Earth System Model (ESM) Catalog Generation tools. The current catalog generation tools supported are:\n",
    "* CMIP6 models\n",
    "* CESM \"history\" files\n",
    "* CESM \"timeseries\" files\n",
    "\n",
    "This package has not officially been release yet on [pypi](https://pypi.org/) or [conda-forge](https://conda-forge.org/), but this release will likely happen soon. This post will give an overview of using [ecgtools](https://ecgtools.readthedocs.io/en/latest/) for parsing CESM history file model output, and reading in the data using \n",
    "[intake-esm](https://intake-esm.readthedocs.io/en/latest/). In this example, we use model output using the default component-set (compset) detailed in the [CESM Quickstart Guide](https://escomp.github.io/CESM/versions/cesm2.1/html/).\n",
    "\n",
    "## What's a \"history\" file?\n",
    "A history file is the default output from CESM, where each file is a single time \"slice\" with every variable from the component of interest. These types of files can be difficult to work with, since often times one is interested in a time series of a single variable. Building a catalog can be helpful in accessing your data, querying for certain variables, and potentially creating timeseries files later down the road.\n",
    "\n",
    "Let's get started!\n",
    "\n",
    "## Downloading the beta version of ecgtools\n",
    "In order to access this in its current state, you will need to clone the repository from github. On the machine with the data you are planning on creating a catalog for, run the following:\n",
    "\n",
    "```\n",
    "git clone https://github.com/NCAR/ecgtools.git\n",
    "```\n",
    "\n",
    "This will create a clone of the repository on your machine. After you clone the respository, run\n",
    "\n",
    "```\n",
    "pip install -e ecgtools\n",
    "```\n",
    "\n",
    "This will install the package into the python environment you currently activated (for more on dealing with conda environments, check out the [faq page](https://ncar.github.io/esds/faq/#conda-environments)\n",
    "\n",
    "You will also want to install intake-esm, which you can install using `conda-forge`\n",
    "\n",
    "```\n",
    "conda install -c conda-forge intake-esm\n",
    "```\n",
    "\n",
    "## Imports\n",
    "The only parts of ecgtools we need are the `Builder` object and the `parse_cesm_history` parser from the CESM parsers! We import `glob` to take a look at the files we are parsing."
   ]
  },
  {
   "cell_type": "code",
   "execution_count": 1,
   "id": "nominated-battle",
   "metadata": {},
   "outputs": [],
   "source": [
    "import glob\n",
    "\n",
    "from ecgtools import Builder\n",
    "from ecgtools.parsers.cesm import parse_cesm_history"
   ]
  },
  {
   "cell_type": "markdown",
   "id": "czech-stylus",
   "metadata": {},
   "source": [
    "### Understanding the Directory Structure\n",
    "\n",
    "The first step to setting up the `Builder` object is determining where your files are stored. As mentioned previously, we have a sample dataset of CESM2 model output, which is stored in `/glade/work/mgrover/cesm_test_data/`\n",
    "\n",
    "Taking a look at that directory, we see that there is a single case `b.e20.B1850.f19_g17.test`"
   ]
  },
  {
   "cell_type": "code",
   "execution_count": 2,
   "id": "south-nancy",
   "metadata": {},
   "outputs": [
    {
     "data": {
      "text/plain": [
       "['/glade/work/mgrover/cesm_test_data/b.e20.B1850.f19_g17.test']"
      ]
     },
     "execution_count": 2,
     "metadata": {},
     "output_type": "execute_result"
    }
   ],
   "source": [
    "glob.glob('/glade/work/mgrover/cesm_test_data/*')"
   ]
  },
  {
   "cell_type": "markdown",
   "id": "literary-scholarship",
   "metadata": {},
   "source": [
    "Once we go into that directory, we see all the different components, including the atmosphere (atm), ocean (ocn), and land (lnd)!"
   ]
  },
  {
   "cell_type": "code",
   "execution_count": 3,
   "id": "equipped-recycling",
   "metadata": {},
   "outputs": [
    {
     "data": {
      "text/plain": [
       "['/glade/work/mgrover/cesm_test_data/b.e20.B1850.f19_g17.test/logs',\n",
       " '/glade/work/mgrover/cesm_test_data/b.e20.B1850.f19_g17.test/cpl',\n",
       " '/glade/work/mgrover/cesm_test_data/b.e20.B1850.f19_g17.test/atm',\n",
       " '/glade/work/mgrover/cesm_test_data/b.e20.B1850.f19_g17.test/ocn',\n",
       " '/glade/work/mgrover/cesm_test_data/b.e20.B1850.f19_g17.test/lnd',\n",
       " '/glade/work/mgrover/cesm_test_data/b.e20.B1850.f19_g17.test/esp',\n",
       " '/glade/work/mgrover/cesm_test_data/b.e20.B1850.f19_g17.test/glc',\n",
       " '/glade/work/mgrover/cesm_test_data/b.e20.B1850.f19_g17.test/rof',\n",
       " '/glade/work/mgrover/cesm_test_data/b.e20.B1850.f19_g17.test/rest',\n",
       " '/glade/work/mgrover/cesm_test_data/b.e20.B1850.f19_g17.test/wav',\n",
       " '/glade/work/mgrover/cesm_test_data/b.e20.B1850.f19_g17.test/ice']"
      ]
     },
     "execution_count": 3,
     "metadata": {},
     "output_type": "execute_result"
    }
   ],
   "source": [
    "glob.glob('/glade/work/mgrover/cesm_test_data/b.e20.B1850.f19_g17.test/*')"
   ]
  },
  {
   "cell_type": "markdown",
   "id": "relevant-conflict",
   "metadata": {},
   "source": [
    "If we go one step further, we notice that within each component, is a `hist` directory which contains the model output"
   ]
  },
  {
   "cell_type": "code",
   "execution_count": 4,
   "id": "velvet-synthesis",
   "metadata": {},
   "outputs": [
    {
     "data": {
      "text/plain": [
       "['/glade/work/mgrover/cesm_test_data/b.e20.B1850.f19_g17.test/atm/hist/b.e20.B1850.f19_g17.test.cam.h0.0002-08.nc',\n",
       " '/glade/work/mgrover/cesm_test_data/b.e20.B1850.f19_g17.test/atm/hist/b.e20.B1850.f19_g17.test.cam.h0.0001-09.nc',\n",
       " '/glade/work/mgrover/cesm_test_data/b.e20.B1850.f19_g17.test/atm/hist/b.e20.B1850.f19_g17.test.cam.h0.0002-07.nc']"
      ]
     },
     "execution_count": 4,
     "metadata": {},
     "output_type": "execute_result"
    }
   ],
   "source": [
    "glob.glob('/glade/work/mgrover/cesm_test_data/b.e20.B1850.f19_g17.test/atm/*/*.nc')[0:3]"
   ]
  },
  {
   "cell_type": "markdown",
   "id": "viral-stroke",
   "metadata": {},
   "source": [
    "If we take a look at the `ocn` component though, we notice that there are a few timeseries files in there..."
   ]
  },
  {
   "cell_type": "code",
   "execution_count": 5,
   "id": "medium-bishop",
   "metadata": {},
   "outputs": [
    {
     "data": {
      "text/plain": [
       "['/glade/work/mgrover/cesm_test_data/b.e20.B1850.f19_g17.test/ocn/tseries/b.e20.B1850.f19_g17.test.pop.h.pCO2SURF.000101-001012.nc',\n",
       " '/glade/work/mgrover/cesm_test_data/b.e20.B1850.f19_g17.test/ocn/tseries/b.e20.B1850.f19_g17.test.pop.h.SiO3_RIV_FLUX.000101-001012.nc',\n",
       " '/glade/work/mgrover/cesm_test_data/b.e20.B1850.f19_g17.test/ocn/tseries/b.e20.B1850.f19_g17.test.pop.h.graze_sp_zootot.000101-001012.nc']"
      ]
     },
     "execution_count": 5,
     "metadata": {},
     "output_type": "execute_result"
    }
   ],
   "source": [
    "glob.glob('/glade/work/mgrover/cesm_test_data/b.e20.B1850.f19_g17.test/ocn/*/*.nc')[0:3]"
   ]
  },
  {
   "cell_type": "markdown",
   "id": "sunset-animation",
   "metadata": {},
   "source": [
    "When we setup our catalog builder, we will need to specify not including the timeseries (tseries) and restart (rest) directories!\n",
    "\n",
    "Now that we understand the directory structure, let's make the catalog."
   ]
  },
  {
   "cell_type": "markdown",
   "id": "growing-anthony",
   "metadata": {},
   "source": [
    "## Build the catalog!\n",
    "\n",
    "Let's start by inspecting the builder object"
   ]
  },
  {
   "cell_type": "code",
   "execution_count": 6,
   "id": "promising-installation",
   "metadata": {},
   "outputs": [
    {
     "data": {
      "text/plain": [
       "\u001b[0;31mInit signature:\u001b[0m\n",
       "\u001b[0mBuilder\u001b[0m\u001b[0;34m(\u001b[0m\u001b[0;34m\u001b[0m\n",
       "\u001b[0;34m\u001b[0m    \u001b[0mroot_path\u001b[0m\u001b[0;34m:\u001b[0m \u001b[0mpydantic\u001b[0m\u001b[0;34m.\u001b[0m\u001b[0mtypes\u001b[0m\u001b[0;34m.\u001b[0m\u001b[0mDirectoryPath\u001b[0m\u001b[0;34m,\u001b[0m\u001b[0;34m\u001b[0m\n",
       "\u001b[0;34m\u001b[0m    \u001b[0mextension\u001b[0m\u001b[0;34m:\u001b[0m \u001b[0mstr\u001b[0m \u001b[0;34m=\u001b[0m \u001b[0;34m'.nc'\u001b[0m\u001b[0;34m,\u001b[0m\u001b[0;34m\u001b[0m\n",
       "\u001b[0;34m\u001b[0m    \u001b[0mdepth\u001b[0m\u001b[0;34m:\u001b[0m \u001b[0mint\u001b[0m \u001b[0;34m=\u001b[0m \u001b[0;36m0\u001b[0m\u001b[0;34m,\u001b[0m\u001b[0;34m\u001b[0m\n",
       "\u001b[0;34m\u001b[0m    \u001b[0mexclude_patterns\u001b[0m\u001b[0;34m:\u001b[0m \u001b[0mList\u001b[0m\u001b[0;34m[\u001b[0m\u001b[0mstr\u001b[0m\u001b[0;34m]\u001b[0m \u001b[0;34m=\u001b[0m \u001b[0;32mNone\u001b[0m\u001b[0;34m,\u001b[0m\u001b[0;34m\u001b[0m\n",
       "\u001b[0;34m\u001b[0m    \u001b[0mnjobs\u001b[0m\u001b[0;34m:\u001b[0m \u001b[0mint\u001b[0m \u001b[0;34m=\u001b[0m \u001b[0;34m-\u001b[0m\u001b[0;36m1\u001b[0m\u001b[0;34m,\u001b[0m\u001b[0;34m\u001b[0m\n",
       "\u001b[0;34m\u001b[0m\u001b[0;34m)\u001b[0m \u001b[0;34m->\u001b[0m \u001b[0;32mNone\u001b[0m\u001b[0;34m\u001b[0m\u001b[0;34m\u001b[0m\u001b[0m\n",
       "\u001b[0;31mDocstring:\u001b[0m     \n",
       "Generates a catalog from a list of files.\n",
       "\n",
       "Parameters\n",
       "----------\n",
       "root_path : str\n",
       "    Path of root directory.\n",
       "extension : str, optional\n",
       "    File extension, by default None. If None, the builder will look for files with\n",
       "    \"*.nc\" extension.\n",
       "depth : int, optional\n",
       "    Recursion depth. Recursively crawl `root_path` up to a specified depth, by default 0\n",
       "exclude_patterns : list, optional\n",
       "    Directory, file patterns to exclude during catalog generation.\n",
       "    These could be substring or regular expressions. by default None\n",
       "njobs : int, optional\n",
       "    The maximum number of concurrently running jobs,\n",
       "    by default -1 meaning all CPUs are used.\n",
       "\u001b[0;31mFile:\u001b[0m           /glade/work/mgrover/git_repos/ecgtools/ecgtools/builder.py\n",
       "\u001b[0;31mType:\u001b[0m           type\n",
       "\u001b[0;31mSubclasses:\u001b[0m     \n"
      ]
     },
     "metadata": {},
     "output_type": "display_data"
    }
   ],
   "source": [
    "?Builder"
   ]
  },
  {
   "cell_type": "markdown",
   "id": "ccf85513-d76a-4b31-9908-dc6af39afc12",
   "metadata": {},
   "source": [
    "<div class=\"admonition alert alert-info\">\n",
    "    <p class=\"admonition-title\" style=\"font-weight:bold\">Info</p>\n",
    "    Note that as of 21 June, 2021, the <code>parsing_func</code> parameter is now used in the <code>.build()</code> method!\n",
    "</div>"
   ]
  },
  {
   "cell_type": "code",
   "execution_count": 7,
   "id": "abroad-taxation",
   "metadata": {},
   "outputs": [],
   "source": [
    "b = Builder(\n",
    "    # Directory with the output\n",
    "    \"/glade/work/mgrover/cesm_test_data/b.e20.B1850.f19_g17.test/\",\n",
    "    # Depth of 1 since we are sending it to the case output directory\n",
    "    depth=1,\n",
    "    # Exclude the timeseries and restart directories\n",
    "    exclude_patterns=[\"*/tseries/*\", \"*/rest/*\"],\n",
    "    # Number of jobs to execute - should be equal to # threads you are using\n",
    "    njobs=5,\n",
    ")"
   ]
  },
  {
   "cell_type": "markdown",
   "id": "painful-syria",
   "metadata": {},
   "source": [
    "Double check the object is set up..."
   ]
  },
  {
   "cell_type": "code",
   "execution_count": 11,
   "id": "studied-jersey",
   "metadata": {},
   "outputs": [
    {
     "data": {
      "text/plain": [
       "Builder(root_path=PosixPath('/glade/work/mgrover/cesm_test_data/b.e20.B1850.f19_g17.test'), extension='.nc', depth=1, exclude_patterns=['*/tseries/*', '*/rest/*'], njobs=5)"
      ]
     },
     "execution_count": 11,
     "metadata": {},
     "output_type": "execute_result"
    }
   ],
   "source": [
    "b"
   ]
  },
  {
   "cell_type": "markdown",
   "id": "american-exhibit",
   "metadata": {},
   "source": [
    "We are good to go! Let's build the catalog by calling `.build()` on the object, passing in the `parse_cesm_history` parser! By default, it will use the `LokyBackend` which is described in the [Joblib documentation](https://joblib.readthedocs.io/en/latest/parallel.html)."
   ]
  },
  {
   "cell_type": "code",
   "execution_count": 12,
   "id": "false-bristol",
   "metadata": {},
   "outputs": [
    {
     "name": "stderr",
     "output_type": "stream",
     "text": [
      "[Parallel(n_jobs=5)]: Using backend LokyBackend with 5 concurrent workers.\n",
      "[Parallel(n_jobs=5)]: Done   6 out of  12 | elapsed:    0.2s remaining:    0.2s\n",
      "[Parallel(n_jobs=5)]: Done   9 out of  12 | elapsed:    0.2s remaining:    0.1s\n",
      "[Parallel(n_jobs=5)]: Done  12 out of  12 | elapsed:    0.2s remaining:    0.0s\n",
      "[Parallel(n_jobs=5)]: Done  12 out of  12 | elapsed:    0.2s finished\n",
      "[Parallel(n_jobs=5)]: Using backend LokyBackend with 5 concurrent workers.\n",
      "[Parallel(n_jobs=5)]: Done   8 tasks      | elapsed:    1.6s\n",
      "[Parallel(n_jobs=5)]: Done  62 tasks      | elapsed:    4.5s\n",
      "[Parallel(n_jobs=5)]: Done 152 tasks      | elapsed:   11.4s\n",
      "[Parallel(n_jobs=5)]: Done 264 out of 264 | elapsed:   15.1s finished\n",
      "/glade/work/mgrover/git_repos/ecgtools/ecgtools/builder.py:180: UserWarning: Unable to parse 5 assets/files. A list of these assets can be found in `.invalid_assets` attribute.\n",
      "  parsing_func, parsing_func_kwargs\n"
     ]
    }
   ],
   "source": [
    "b = b.build(parse_cesm_history)"
   ]
  },
  {
   "cell_type": "markdown",
   "id": "caring-harrison",
   "metadata": {},
   "source": [
    "## Inspect the Catalog"
   ]
  },
  {
   "cell_type": "markdown",
   "id": "hydraulic-developer",
   "metadata": {},
   "source": [
    "Now that the catalog is built, we can inspect the dataframe which is used to create the catalog by calling `.df` on the builder object"
   ]
  },
  {
   "cell_type": "code",
   "execution_count": 13,
   "id": "composite-insider",
   "metadata": {},
   "outputs": [
    {
     "data": {
      "text/html": [
       "<div>\n",
       "<style scoped>\n",
       "    .dataframe tbody tr th:only-of-type {\n",
       "        vertical-align: middle;\n",
       "    }\n",
       "\n",
       "    .dataframe tbody tr th {\n",
       "        vertical-align: top;\n",
       "    }\n",
       "\n",
       "    .dataframe thead th {\n",
       "        text-align: right;\n",
       "    }\n",
       "</style>\n",
       "<table border=\"1\" class=\"dataframe\">\n",
       "  <thead>\n",
       "    <tr style=\"text-align: right;\">\n",
       "      <th></th>\n",
       "      <th>component</th>\n",
       "      <th>stream</th>\n",
       "      <th>case</th>\n",
       "      <th>date</th>\n",
       "      <th>frequency</th>\n",
       "      <th>variables</th>\n",
       "      <th>path</th>\n",
       "    </tr>\n",
       "  </thead>\n",
       "  <tbody>\n",
       "    <tr>\n",
       "      <th>0</th>\n",
       "      <td>atm</td>\n",
       "      <td>cam.h0</td>\n",
       "      <td>b.e20.B1850.f19_g17.test</td>\n",
       "      <td>0002-08</td>\n",
       "      <td>month_1</td>\n",
       "      <td>[date, datesec, date_written, time_written, nd...</td>\n",
       "      <td>/glade/work/mgrover/cesm_test_data/b.e20.B1850...</td>\n",
       "    </tr>\n",
       "    <tr>\n",
       "      <th>1</th>\n",
       "      <td>atm</td>\n",
       "      <td>cam.h0</td>\n",
       "      <td>b.e20.B1850.f19_g17.test</td>\n",
       "      <td>0001-09</td>\n",
       "      <td>month_1</td>\n",
       "      <td>[date, datesec, date_written, time_written, nd...</td>\n",
       "      <td>/glade/work/mgrover/cesm_test_data/b.e20.B1850...</td>\n",
       "    </tr>\n",
       "    <tr>\n",
       "      <th>2</th>\n",
       "      <td>atm</td>\n",
       "      <td>cam.h0</td>\n",
       "      <td>b.e20.B1850.f19_g17.test</td>\n",
       "      <td>0002-07</td>\n",
       "      <td>month_1</td>\n",
       "      <td>[date, datesec, date_written, time_written, nd...</td>\n",
       "      <td>/glade/work/mgrover/cesm_test_data/b.e20.B1850...</td>\n",
       "    </tr>\n",
       "    <tr>\n",
       "      <th>3</th>\n",
       "      <td>atm</td>\n",
       "      <td>cam.h0</td>\n",
       "      <td>b.e20.B1850.f19_g17.test</td>\n",
       "      <td>0003-05</td>\n",
       "      <td>month_1</td>\n",
       "      <td>[date, datesec, date_written, time_written, nd...</td>\n",
       "      <td>/glade/work/mgrover/cesm_test_data/b.e20.B1850...</td>\n",
       "    </tr>\n",
       "    <tr>\n",
       "      <th>4</th>\n",
       "      <td>atm</td>\n",
       "      <td>cam.h0</td>\n",
       "      <td>b.e20.B1850.f19_g17.test</td>\n",
       "      <td>0002-01</td>\n",
       "      <td>month_1</td>\n",
       "      <td>[date, datesec, date_written, time_written, nd...</td>\n",
       "      <td>/glade/work/mgrover/cesm_test_data/b.e20.B1850...</td>\n",
       "    </tr>\n",
       "    <tr>\n",
       "      <th>...</th>\n",
       "      <td>...</td>\n",
       "      <td>...</td>\n",
       "      <td>...</td>\n",
       "      <td>...</td>\n",
       "      <td>...</td>\n",
       "      <td>...</td>\n",
       "      <td>...</td>\n",
       "    </tr>\n",
       "    <tr>\n",
       "      <th>259</th>\n",
       "      <td>ice</td>\n",
       "      <td>cice.h</td>\n",
       "      <td>b.e20.B1850.f19_g17.test</td>\n",
       "      <td>0001-08</td>\n",
       "      <td>month_1</td>\n",
       "      <td>[hi, hs, snowfrac, Tsfc, aice, uvel, vvel, uat...</td>\n",
       "      <td>/glade/work/mgrover/cesm_test_data/b.e20.B1850...</td>\n",
       "    </tr>\n",
       "    <tr>\n",
       "      <th>260</th>\n",
       "      <td>ice</td>\n",
       "      <td>cice.h</td>\n",
       "      <td>b.e20.B1850.f19_g17.test</td>\n",
       "      <td>0001-03</td>\n",
       "      <td>month_1</td>\n",
       "      <td>[hi, hs, snowfrac, Tsfc, aice, uvel, vvel, uat...</td>\n",
       "      <td>/glade/work/mgrover/cesm_test_data/b.e20.B1850...</td>\n",
       "    </tr>\n",
       "    <tr>\n",
       "      <th>261</th>\n",
       "      <td>ice</td>\n",
       "      <td>cice.h</td>\n",
       "      <td>b.e20.B1850.f19_g17.test</td>\n",
       "      <td>0002-11</td>\n",
       "      <td>month_1</td>\n",
       "      <td>[hi, hs, snowfrac, Tsfc, aice, uvel, vvel, uat...</td>\n",
       "      <td>/glade/work/mgrover/cesm_test_data/b.e20.B1850...</td>\n",
       "    </tr>\n",
       "    <tr>\n",
       "      <th>262</th>\n",
       "      <td>ice</td>\n",
       "      <td>cice.h</td>\n",
       "      <td>b.e20.B1850.f19_g17.test</td>\n",
       "      <td>0002-10</td>\n",
       "      <td>month_1</td>\n",
       "      <td>[hi, hs, snowfrac, Tsfc, aice, uvel, vvel, uat...</td>\n",
       "      <td>/glade/work/mgrover/cesm_test_data/b.e20.B1850...</td>\n",
       "    </tr>\n",
       "    <tr>\n",
       "      <th>263</th>\n",
       "      <td>ice</td>\n",
       "      <td>cice.h</td>\n",
       "      <td>b.e20.B1850.f19_g17.test</td>\n",
       "      <td>0003-12</td>\n",
       "      <td>month_1</td>\n",
       "      <td>[hi, hs, snowfrac, Tsfc, aice, uvel, vvel, uat...</td>\n",
       "      <td>/glade/work/mgrover/cesm_test_data/b.e20.B1850...</td>\n",
       "    </tr>\n",
       "  </tbody>\n",
       "</table>\n",
       "<p>259 rows × 7 columns</p>\n",
       "</div>"
      ],
      "text/plain": [
       "    component  stream                      case     date frequency  \\\n",
       "0         atm  cam.h0  b.e20.B1850.f19_g17.test  0002-08   month_1   \n",
       "1         atm  cam.h0  b.e20.B1850.f19_g17.test  0001-09   month_1   \n",
       "2         atm  cam.h0  b.e20.B1850.f19_g17.test  0002-07   month_1   \n",
       "3         atm  cam.h0  b.e20.B1850.f19_g17.test  0003-05   month_1   \n",
       "4         atm  cam.h0  b.e20.B1850.f19_g17.test  0002-01   month_1   \n",
       "..        ...     ...                       ...      ...       ...   \n",
       "259       ice  cice.h  b.e20.B1850.f19_g17.test  0001-08   month_1   \n",
       "260       ice  cice.h  b.e20.B1850.f19_g17.test  0001-03   month_1   \n",
       "261       ice  cice.h  b.e20.B1850.f19_g17.test  0002-11   month_1   \n",
       "262       ice  cice.h  b.e20.B1850.f19_g17.test  0002-10   month_1   \n",
       "263       ice  cice.h  b.e20.B1850.f19_g17.test  0003-12   month_1   \n",
       "\n",
       "                                             variables  \\\n",
       "0    [date, datesec, date_written, time_written, nd...   \n",
       "1    [date, datesec, date_written, time_written, nd...   \n",
       "2    [date, datesec, date_written, time_written, nd...   \n",
       "3    [date, datesec, date_written, time_written, nd...   \n",
       "4    [date, datesec, date_written, time_written, nd...   \n",
       "..                                                 ...   \n",
       "259  [hi, hs, snowfrac, Tsfc, aice, uvel, vvel, uat...   \n",
       "260  [hi, hs, snowfrac, Tsfc, aice, uvel, vvel, uat...   \n",
       "261  [hi, hs, snowfrac, Tsfc, aice, uvel, vvel, uat...   \n",
       "262  [hi, hs, snowfrac, Tsfc, aice, uvel, vvel, uat...   \n",
       "263  [hi, hs, snowfrac, Tsfc, aice, uvel, vvel, uat...   \n",
       "\n",
       "                                                  path  \n",
       "0    /glade/work/mgrover/cesm_test_data/b.e20.B1850...  \n",
       "1    /glade/work/mgrover/cesm_test_data/b.e20.B1850...  \n",
       "2    /glade/work/mgrover/cesm_test_data/b.e20.B1850...  \n",
       "3    /glade/work/mgrover/cesm_test_data/b.e20.B1850...  \n",
       "4    /glade/work/mgrover/cesm_test_data/b.e20.B1850...  \n",
       "..                                                 ...  \n",
       "259  /glade/work/mgrover/cesm_test_data/b.e20.B1850...  \n",
       "260  /glade/work/mgrover/cesm_test_data/b.e20.B1850...  \n",
       "261  /glade/work/mgrover/cesm_test_data/b.e20.B1850...  \n",
       "262  /glade/work/mgrover/cesm_test_data/b.e20.B1850...  \n",
       "263  /glade/work/mgrover/cesm_test_data/b.e20.B1850...  \n",
       "\n",
       "[259 rows x 7 columns]"
      ]
     },
     "execution_count": 13,
     "metadata": {},
     "output_type": "execute_result"
    }
   ],
   "source": [
    "b.df"
   ]
  },
  {
   "cell_type": "markdown",
   "id": "fitted-audio",
   "metadata": {},
   "source": [
    "The resultant dataframe includes the:\n",
    "* Component\n",
    "* Stream\n",
    "* Case\n",
    "* Date\n",
    "* Frequency\n",
    "* Variables\n",
    "* Path\n",
    "\n",
    "We can also check to see which files ***were not*** parsed by calling `.invalid_assets`"
   ]
  },
  {
   "cell_type": "code",
   "execution_count": 14,
   "id": "rough-techno",
   "metadata": {},
   "outputs": [
    {
     "data": {
      "text/html": [
       "<div>\n",
       "<style scoped>\n",
       "    .dataframe tbody tr th:only-of-type {\n",
       "        vertical-align: middle;\n",
       "    }\n",
       "\n",
       "    .dataframe tbody tr th {\n",
       "        vertical-align: top;\n",
       "    }\n",
       "\n",
       "    .dataframe thead th {\n",
       "        text-align: right;\n",
       "    }\n",
       "</style>\n",
       "<table border=\"1\" class=\"dataframe\">\n",
       "  <thead>\n",
       "    <tr style=\"text-align: right;\">\n",
       "      <th></th>\n",
       "      <th>INVALID_ASSET</th>\n",
       "      <th>TRACEBACK</th>\n",
       "    </tr>\n",
       "  </thead>\n",
       "  <tbody>\n",
       "    <tr>\n",
       "      <th>15</th>\n",
       "      <td>/glade/work/mgrover/cesm_test_data/b.e20.B1850...</td>\n",
       "      <td>Traceback (most recent call last):\\n  File \"/g...</td>\n",
       "    </tr>\n",
       "    <tr>\n",
       "      <th>28</th>\n",
       "      <td>/glade/work/mgrover/cesm_test_data/b.e20.B1850...</td>\n",
       "      <td>Traceback (most recent call last):\\n  File \"/g...</td>\n",
       "    </tr>\n",
       "    <tr>\n",
       "      <th>34</th>\n",
       "      <td>/glade/work/mgrover/cesm_test_data/b.e20.B1850...</td>\n",
       "      <td>Traceback (most recent call last):\\n  File \"/g...</td>\n",
       "    </tr>\n",
       "    <tr>\n",
       "      <th>130</th>\n",
       "      <td>/glade/work/mgrover/cesm_test_data/b.e20.B1850...</td>\n",
       "      <td>Traceback (most recent call last):\\n  File \"/g...</td>\n",
       "    </tr>\n",
       "    <tr>\n",
       "      <th>191</th>\n",
       "      <td>/glade/work/mgrover/cesm_test_data/b.e20.B1850...</td>\n",
       "      <td>Traceback (most recent call last):\\n  File \"/g...</td>\n",
       "    </tr>\n",
       "  </tbody>\n",
       "</table>\n",
       "</div>"
      ],
      "text/plain": [
       "                                         INVALID_ASSET  \\\n",
       "15   /glade/work/mgrover/cesm_test_data/b.e20.B1850...   \n",
       "28   /glade/work/mgrover/cesm_test_data/b.e20.B1850...   \n",
       "34   /glade/work/mgrover/cesm_test_data/b.e20.B1850...   \n",
       "130  /glade/work/mgrover/cesm_test_data/b.e20.B1850...   \n",
       "191  /glade/work/mgrover/cesm_test_data/b.e20.B1850...   \n",
       "\n",
       "                                             TRACEBACK  \n",
       "15   Traceback (most recent call last):\\n  File \"/g...  \n",
       "28   Traceback (most recent call last):\\n  File \"/g...  \n",
       "34   Traceback (most recent call last):\\n  File \"/g...  \n",
       "130  Traceback (most recent call last):\\n  File \"/g...  \n",
       "191  Traceback (most recent call last):\\n  File \"/g...  "
      ]
     },
     "execution_count": 14,
     "metadata": {},
     "output_type": "execute_result"
    }
   ],
   "source": [
    "b.invalid_assets"
   ]
  },
  {
   "cell_type": "code",
   "execution_count": 15,
   "id": "acting-maple",
   "metadata": {},
   "outputs": [
    {
     "data": {
      "text/plain": [
       "PosixPath('/glade/work/mgrover/cesm_test_data/b.e20.B1850.f19_g17.test/atm/hist/b.e20.B1850.f19_g17.test.cam.i.0002-01-01-00000.nc')"
      ]
     },
     "execution_count": 15,
     "metadata": {},
     "output_type": "execute_result"
    }
   ],
   "source": [
    "b.invalid_assets.INVALID_ASSET.values[0]"
   ]
  },
  {
   "cell_type": "code",
   "execution_count": 16,
   "id": "civic-charleston",
   "metadata": {},
   "outputs": [
    {
     "data": {
      "text/html": [
       "<div>\n",
       "<style scoped>\n",
       "    .dataframe tbody tr th:only-of-type {\n",
       "        vertical-align: middle;\n",
       "    }\n",
       "\n",
       "    .dataframe tbody tr th {\n",
       "        vertical-align: top;\n",
       "    }\n",
       "\n",
       "    .dataframe thead th {\n",
       "        text-align: right;\n",
       "    }\n",
       "</style>\n",
       "<table border=\"1\" class=\"dataframe\">\n",
       "  <thead>\n",
       "    <tr style=\"text-align: right;\">\n",
       "      <th></th>\n",
       "      <th>component</th>\n",
       "      <th>stream</th>\n",
       "      <th>case</th>\n",
       "      <th>date</th>\n",
       "      <th>frequency</th>\n",
       "      <th>variables</th>\n",
       "      <th>path</th>\n",
       "    </tr>\n",
       "  </thead>\n",
       "  <tbody>\n",
       "    <tr>\n",
       "      <th>0</th>\n",
       "      <td>atm</td>\n",
       "      <td>cam.h0</td>\n",
       "      <td>b.e20.B1850.f19_g17.test</td>\n",
       "      <td>0002-08</td>\n",
       "      <td>month_1</td>\n",
       "      <td>[date, datesec, date_written, time_written, nd...</td>\n",
       "      <td>/glade/work/mgrover/cesm_test_data/b.e20.B1850...</td>\n",
       "    </tr>\n",
       "    <tr>\n",
       "      <th>1</th>\n",
       "      <td>atm</td>\n",
       "      <td>cam.h0</td>\n",
       "      <td>b.e20.B1850.f19_g17.test</td>\n",
       "      <td>0001-09</td>\n",
       "      <td>month_1</td>\n",
       "      <td>[date, datesec, date_written, time_written, nd...</td>\n",
       "      <td>/glade/work/mgrover/cesm_test_data/b.e20.B1850...</td>\n",
       "    </tr>\n",
       "    <tr>\n",
       "      <th>2</th>\n",
       "      <td>atm</td>\n",
       "      <td>cam.h0</td>\n",
       "      <td>b.e20.B1850.f19_g17.test</td>\n",
       "      <td>0002-07</td>\n",
       "      <td>month_1</td>\n",
       "      <td>[date, datesec, date_written, time_written, nd...</td>\n",
       "      <td>/glade/work/mgrover/cesm_test_data/b.e20.B1850...</td>\n",
       "    </tr>\n",
       "    <tr>\n",
       "      <th>3</th>\n",
       "      <td>atm</td>\n",
       "      <td>cam.h0</td>\n",
       "      <td>b.e20.B1850.f19_g17.test</td>\n",
       "      <td>0003-05</td>\n",
       "      <td>month_1</td>\n",
       "      <td>[date, datesec, date_written, time_written, nd...</td>\n",
       "      <td>/glade/work/mgrover/cesm_test_data/b.e20.B1850...</td>\n",
       "    </tr>\n",
       "    <tr>\n",
       "      <th>4</th>\n",
       "      <td>atm</td>\n",
       "      <td>cam.h0</td>\n",
       "      <td>b.e20.B1850.f19_g17.test</td>\n",
       "      <td>0002-01</td>\n",
       "      <td>month_1</td>\n",
       "      <td>[date, datesec, date_written, time_written, nd...</td>\n",
       "      <td>/glade/work/mgrover/cesm_test_data/b.e20.B1850...</td>\n",
       "    </tr>\n",
       "    <tr>\n",
       "      <th>...</th>\n",
       "      <td>...</td>\n",
       "      <td>...</td>\n",
       "      <td>...</td>\n",
       "      <td>...</td>\n",
       "      <td>...</td>\n",
       "      <td>...</td>\n",
       "      <td>...</td>\n",
       "    </tr>\n",
       "    <tr>\n",
       "      <th>259</th>\n",
       "      <td>ice</td>\n",
       "      <td>cice.h</td>\n",
       "      <td>b.e20.B1850.f19_g17.test</td>\n",
       "      <td>0001-08</td>\n",
       "      <td>month_1</td>\n",
       "      <td>[hi, hs, snowfrac, Tsfc, aice, uvel, vvel, uat...</td>\n",
       "      <td>/glade/work/mgrover/cesm_test_data/b.e20.B1850...</td>\n",
       "    </tr>\n",
       "    <tr>\n",
       "      <th>260</th>\n",
       "      <td>ice</td>\n",
       "      <td>cice.h</td>\n",
       "      <td>b.e20.B1850.f19_g17.test</td>\n",
       "      <td>0001-03</td>\n",
       "      <td>month_1</td>\n",
       "      <td>[hi, hs, snowfrac, Tsfc, aice, uvel, vvel, uat...</td>\n",
       "      <td>/glade/work/mgrover/cesm_test_data/b.e20.B1850...</td>\n",
       "    </tr>\n",
       "    <tr>\n",
       "      <th>261</th>\n",
       "      <td>ice</td>\n",
       "      <td>cice.h</td>\n",
       "      <td>b.e20.B1850.f19_g17.test</td>\n",
       "      <td>0002-11</td>\n",
       "      <td>month_1</td>\n",
       "      <td>[hi, hs, snowfrac, Tsfc, aice, uvel, vvel, uat...</td>\n",
       "      <td>/glade/work/mgrover/cesm_test_data/b.e20.B1850...</td>\n",
       "    </tr>\n",
       "    <tr>\n",
       "      <th>262</th>\n",
       "      <td>ice</td>\n",
       "      <td>cice.h</td>\n",
       "      <td>b.e20.B1850.f19_g17.test</td>\n",
       "      <td>0002-10</td>\n",
       "      <td>month_1</td>\n",
       "      <td>[hi, hs, snowfrac, Tsfc, aice, uvel, vvel, uat...</td>\n",
       "      <td>/glade/work/mgrover/cesm_test_data/b.e20.B1850...</td>\n",
       "    </tr>\n",
       "    <tr>\n",
       "      <th>263</th>\n",
       "      <td>ice</td>\n",
       "      <td>cice.h</td>\n",
       "      <td>b.e20.B1850.f19_g17.test</td>\n",
       "      <td>0003-12</td>\n",
       "      <td>month_1</td>\n",
       "      <td>[hi, hs, snowfrac, Tsfc, aice, uvel, vvel, uat...</td>\n",
       "      <td>/glade/work/mgrover/cesm_test_data/b.e20.B1850...</td>\n",
       "    </tr>\n",
       "  </tbody>\n",
       "</table>\n",
       "<p>259 rows × 7 columns</p>\n",
       "</div>"
      ],
      "text/plain": [
       "    component  stream                      case     date frequency  \\\n",
       "0         atm  cam.h0  b.e20.B1850.f19_g17.test  0002-08   month_1   \n",
       "1         atm  cam.h0  b.e20.B1850.f19_g17.test  0001-09   month_1   \n",
       "2         atm  cam.h0  b.e20.B1850.f19_g17.test  0002-07   month_1   \n",
       "3         atm  cam.h0  b.e20.B1850.f19_g17.test  0003-05   month_1   \n",
       "4         atm  cam.h0  b.e20.B1850.f19_g17.test  0002-01   month_1   \n",
       "..        ...     ...                       ...      ...       ...   \n",
       "259       ice  cice.h  b.e20.B1850.f19_g17.test  0001-08   month_1   \n",
       "260       ice  cice.h  b.e20.B1850.f19_g17.test  0001-03   month_1   \n",
       "261       ice  cice.h  b.e20.B1850.f19_g17.test  0002-11   month_1   \n",
       "262       ice  cice.h  b.e20.B1850.f19_g17.test  0002-10   month_1   \n",
       "263       ice  cice.h  b.e20.B1850.f19_g17.test  0003-12   month_1   \n",
       "\n",
       "                                             variables  \\\n",
       "0    [date, datesec, date_written, time_written, nd...   \n",
       "1    [date, datesec, date_written, time_written, nd...   \n",
       "2    [date, datesec, date_written, time_written, nd...   \n",
       "3    [date, datesec, date_written, time_written, nd...   \n",
       "4    [date, datesec, date_written, time_written, nd...   \n",
       "..                                                 ...   \n",
       "259  [hi, hs, snowfrac, Tsfc, aice, uvel, vvel, uat...   \n",
       "260  [hi, hs, snowfrac, Tsfc, aice, uvel, vvel, uat...   \n",
       "261  [hi, hs, snowfrac, Tsfc, aice, uvel, vvel, uat...   \n",
       "262  [hi, hs, snowfrac, Tsfc, aice, uvel, vvel, uat...   \n",
       "263  [hi, hs, snowfrac, Tsfc, aice, uvel, vvel, uat...   \n",
       "\n",
       "                                                  path  \n",
       "0    /glade/work/mgrover/cesm_test_data/b.e20.B1850...  \n",
       "1    /glade/work/mgrover/cesm_test_data/b.e20.B1850...  \n",
       "2    /glade/work/mgrover/cesm_test_data/b.e20.B1850...  \n",
       "3    /glade/work/mgrover/cesm_test_data/b.e20.B1850...  \n",
       "4    /glade/work/mgrover/cesm_test_data/b.e20.B1850...  \n",
       "..                                                 ...  \n",
       "259  /glade/work/mgrover/cesm_test_data/b.e20.B1850...  \n",
       "260  /glade/work/mgrover/cesm_test_data/b.e20.B1850...  \n",
       "261  /glade/work/mgrover/cesm_test_data/b.e20.B1850...  \n",
       "262  /glade/work/mgrover/cesm_test_data/b.e20.B1850...  \n",
       "263  /glade/work/mgrover/cesm_test_data/b.e20.B1850...  \n",
       "\n",
       "[259 rows x 7 columns]"
      ]
     },
     "execution_count": 16,
     "metadata": {},
     "output_type": "execute_result"
    }
   ],
   "source": [
    "b.df"
   ]
  },
  {
   "cell_type": "markdown",
   "id": "charitable-drunk",
   "metadata": {},
   "source": [
    "It appears that one of the invalid assets is a `pop.hv` stream, which is a time-invariant dataset we would not neccessarily be interested in looking at. If there is a file you think ***should*** be included in the resultant catalog but isn't, be sure to add it to the `_STREAMS_DICT` used in the [parsing tool](https://github.com/NCAR/ecgtools/blob/main/ecgtools/parsers/cesm.py)! "
   ]
  },
  {
   "cell_type": "markdown",
   "id": "single-storm",
   "metadata": {},
   "source": [
    "## Save the Catalog"
   ]
  },
  {
   "cell_type": "code",
   "execution_count": 17,
   "id": "center-desert",
   "metadata": {},
   "outputs": [
    {
     "name": "stdout",
     "output_type": "stream",
     "text": [
      "Saved catalog location: /glade/work/mgrover/cesm-hist-test.json and /glade/work/mgrover/cesm-hist-test.csv\n"
     ]
    },
    {
     "name": "stderr",
     "output_type": "stream",
     "text": [
      "/glade/u/home/mgrover/miniconda3/envs/hires-marbl/lib/python3.7/site-packages/ipykernel_launcher.py:17: UserWarning: Unable to parse 5 assets/files. A list of these assets can be found in /glade/work/mgrover/invalid_assets_cesm-hist-test.csv.\n"
     ]
    }
   ],
   "source": [
    "b.save(\n",
    "    # File path - could save as .csv (uncompressed csv) or .csv.gz (compressed csv)\n",
    "    \"/glade/work/mgrover/cesm-hist-test.csv\",\n",
    "    # Column name including filepath\n",
    "    path_column_name='path',\n",
    "    # Column name including variables\n",
    "    variable_column_name='variables',\n",
    "    # Data file format - could be netcdf or zarr (in this case, netcdf)\n",
    "    data_format=\"netcdf\",\n",
    "    # Which attributes to groupby when reading in variables using intake-esm\n",
    "    groupby_attrs=[\"component\", \"stream\", \"case\"],\n",
    "    # Aggregations which are fed into xarray when reading in data using intake\n",
    "    aggregations=[\n",
    "        {\n",
    "            \"type\": \"join_existing\",\n",
    "            \"attribute_name\": \"date\",\n",
    "            \"options\": {\"dim\": \"time\", \"coords\": \"minimal\", \"compat\": \"override\"},\n",
    "        }\n",
    "    ],\n",
    ")"
   ]
  },
  {
   "cell_type": "markdown",
   "id": "healthy-shower",
   "metadata": {},
   "source": [
    "## Using the Catalog"
   ]
  },
  {
   "cell_type": "markdown",
   "id": "talented-cooperative",
   "metadata": {},
   "source": [
    "You'll notice the resultant filepaths are output when calling `.save` - which you could use within your intake-esm `open_esm_datastore` function.\n",
    "\n",
    "### Additional Imports"
   ]
  },
  {
   "cell_type": "code",
   "execution_count": 18,
   "id": "respected-flood",
   "metadata": {},
   "outputs": [],
   "source": [
    "# Import ast which helps with parsing the list of variables\n",
    "import ast\n",
    "\n",
    "# Import intake-esm\n",
    "import intake"
   ]
  },
  {
   "cell_type": "markdown",
   "id": "naval-external",
   "metadata": {},
   "source": [
    "### Use the catalog to read in data"
   ]
  },
  {
   "cell_type": "code",
   "execution_count": 19,
   "id": "equal-ordering",
   "metadata": {},
   "outputs": [
    {
     "data": {
      "text/html": [
       "<p><strong>None catalog with 9 dataset(s) from 259 asset(s)</strong>:</p> <div>\n",
       "<style scoped>\n",
       "    .dataframe tbody tr th:only-of-type {\n",
       "        vertical-align: middle;\n",
       "    }\n",
       "\n",
       "    .dataframe tbody tr th {\n",
       "        vertical-align: top;\n",
       "    }\n",
       "\n",
       "    .dataframe thead th {\n",
       "        text-align: right;\n",
       "    }\n",
       "</style>\n",
       "<table border=\"1\" class=\"dataframe\">\n",
       "  <thead>\n",
       "    <tr style=\"text-align: right;\">\n",
       "      <th></th>\n",
       "      <th>unique</th>\n",
       "    </tr>\n",
       "  </thead>\n",
       "  <tbody>\n",
       "    <tr>\n",
       "      <th>component</th>\n",
       "      <td>6</td>\n",
       "    </tr>\n",
       "    <tr>\n",
       "      <th>stream</th>\n",
       "      <td>9</td>\n",
       "    </tr>\n",
       "    <tr>\n",
       "      <th>case</th>\n",
       "      <td>1</td>\n",
       "    </tr>\n",
       "    <tr>\n",
       "      <th>date</th>\n",
       "      <td>79</td>\n",
       "    </tr>\n",
       "    <tr>\n",
       "      <th>frequency</th>\n",
       "      <td>4</td>\n",
       "    </tr>\n",
       "    <tr>\n",
       "      <th>variables</th>\n",
       "      <td>1447</td>\n",
       "    </tr>\n",
       "    <tr>\n",
       "      <th>path</th>\n",
       "      <td>259</td>\n",
       "    </tr>\n",
       "  </tbody>\n",
       "</table>\n",
       "</div>"
      ],
      "text/plain": [
       "<IPython.core.display.HTML object>"
      ]
     },
     "metadata": {},
     "output_type": "display_data"
    }
   ],
   "source": [
    "col = intake.open_esm_datastore(\n",
    "    \"/glade/work/mgrover/cesm-hist-test.json\",\n",
    "    csv_kwargs={\"converters\": {\"variables\": ast.literal_eval}},\n",
    "    sep=\"/\",\n",
    ")\n",
    "col"
   ]
  },
  {
   "cell_type": "code",
   "execution_count": 20,
   "id": "beginning-regard",
   "metadata": {},
   "outputs": [
    {
     "data": {
      "text/html": [
       "<p><strong>None catalog with 1 dataset(s) from 36 asset(s)</strong>:</p> <div>\n",
       "<style scoped>\n",
       "    .dataframe tbody tr th:only-of-type {\n",
       "        vertical-align: middle;\n",
       "    }\n",
       "\n",
       "    .dataframe tbody tr th {\n",
       "        vertical-align: top;\n",
       "    }\n",
       "\n",
       "    .dataframe thead th {\n",
       "        text-align: right;\n",
       "    }\n",
       "</style>\n",
       "<table border=\"1\" class=\"dataframe\">\n",
       "  <thead>\n",
       "    <tr style=\"text-align: right;\">\n",
       "      <th></th>\n",
       "      <th>unique</th>\n",
       "    </tr>\n",
       "  </thead>\n",
       "  <tbody>\n",
       "    <tr>\n",
       "      <th>component</th>\n",
       "      <td>1</td>\n",
       "    </tr>\n",
       "    <tr>\n",
       "      <th>stream</th>\n",
       "      <td>1</td>\n",
       "    </tr>\n",
       "    <tr>\n",
       "      <th>case</th>\n",
       "      <td>1</td>\n",
       "    </tr>\n",
       "    <tr>\n",
       "      <th>date</th>\n",
       "      <td>36</td>\n",
       "    </tr>\n",
       "    <tr>\n",
       "      <th>frequency</th>\n",
       "      <td>1</td>\n",
       "    </tr>\n",
       "    <tr>\n",
       "      <th>variables</th>\n",
       "      <td>434</td>\n",
       "    </tr>\n",
       "    <tr>\n",
       "      <th>path</th>\n",
       "      <td>36</td>\n",
       "    </tr>\n",
       "  </tbody>\n",
       "</table>\n",
       "</div>"
      ],
      "text/plain": [
       "<IPython.core.display.HTML object>"
      ]
     },
     "metadata": {},
     "output_type": "display_data"
    }
   ],
   "source": [
    "cat = col.search(\n",
    "    variables='TEMP',\n",
    ")\n",
    "cat"
   ]
  },
  {
   "cell_type": "code",
   "execution_count": 21,
   "id": "insured-conviction",
   "metadata": {},
   "outputs": [
    {
     "name": "stdout",
     "output_type": "stream",
     "text": [
      "\n",
      "--> The keys in the returned dictionary of datasets are constructed as follows:\n",
      "\t'component/stream/case'\n"
     ]
    },
    {
     "data": {
      "text/html": [
       "\n",
       "    <div>\n",
       "        <style>\n",
       "            /* Turns off some styling */\n",
       "            progress {\n",
       "                /* gets rid of default border in Firefox and Opera. */\n",
       "                border: none;\n",
       "                /* Needs to be in here for Safari polyfill so background images work as expected. */\n",
       "                background-size: auto;\n",
       "            }\n",
       "            .progress-bar-interrupted, .progress-bar-interrupted::-webkit-progress-bar {\n",
       "                background: #F44336;\n",
       "            }\n",
       "        </style>\n",
       "      <progress value='1' class='' max='1' style='width:300px; height:20px; vertical-align: middle;'></progress>\n",
       "      100.00% [1/1 00:00<00:00]\n",
       "    </div>\n",
       "    "
      ],
      "text/plain": [
       "<IPython.core.display.HTML object>"
      ]
     },
     "metadata": {},
     "output_type": "display_data"
    }
   ],
   "source": [
    "dsets = cat.to_dataset_dict(cdf_kwargs={'use_cftime': True, 'chunks': {'time': 10}})"
   ]
  },
  {
   "cell_type": "code",
   "execution_count": 23,
   "id": "meaningful-journalism",
   "metadata": {},
   "outputs": [
    {
     "data": {
      "text/plain": [
       "{'ocn/pop.h/b.e20.B1850.f19_g17.test': <xarray.Dataset>\n",
       " Dimensions:  (nlat: 384, nlon: 320, time: 36, z_t: 60)\n",
       " Coordinates:\n",
       "   * time     (time) object 0004-01-01 00:00:00 ... 0002-03-01 00:00:00\n",
       "   * z_t      (z_t) float32 500.0 1.5e+03 2.5e+03 ... 5.125e+05 5.375e+05\n",
       "     ULONG    (nlat, nlon) float64 dask.array<chunksize=(384, 320), meta=np.ndarray>\n",
       "     ULAT     (nlat, nlon) float64 dask.array<chunksize=(384, 320), meta=np.ndarray>\n",
       "     TLONG    (nlat, nlon) float64 dask.array<chunksize=(384, 320), meta=np.ndarray>\n",
       "     TLAT     (nlat, nlon) float64 dask.array<chunksize=(384, 320), meta=np.ndarray>\n",
       " Dimensions without coordinates: nlat, nlon\n",
       " Data variables:\n",
       "     TEMP     (time, z_t, nlat, nlon) float32 dask.array<chunksize=(1, 60, 384, 320), meta=np.ndarray>\n",
       " Attributes:\n",
       "     intake_esm_varname:      ['TEMP']\n",
       "     source:                  CCSM POP2, the CCSM Ocean Component\n",
       "     time_period_freq:        month_1\n",
       "     calendar:                All years have exactly  365 days.\n",
       "     revision:                $Id$\n",
       "     history:                 none\n",
       "     model_doi_url:           https://doi.org/10.5065/D67H1H0V\n",
       "     contents:                Diagnostic and Prognostic Variables\n",
       "     cell_methods:            cell_methods = time: mean ==> the variable value...\n",
       "     Conventions:             CF-1.0; http://www.cgd.ucar.edu/cms/eaton/netcdf...\n",
       "     title:                   b.e20.B1850.f19_g17.test\n",
       "     intake_esm_dataset_key:  ocn/pop.h/b.e20.B1850.f19_g17.test}"
      ]
     },
     "execution_count": 23,
     "metadata": {},
     "output_type": "execute_result"
    }
   ],
   "source": [
    "dsets"
   ]
  },
  {
   "cell_type": "markdown",
   "id": "center-orbit",
   "metadata": {},
   "source": [
    "Let's plot a quick figure from the dataset!"
   ]
  },
  {
   "cell_type": "code",
   "execution_count": 24,
   "id": "comic-hampshire",
   "metadata": {},
   "outputs": [
    {
     "data": {
      "image/png": "[encoded data removed]",
      "text/plain": [
       "<Figure size 432x288 with 2 Axes>"
      ]
     },
     "metadata": {
      "needs_background": "light"
     },
     "output_type": "display_data"
    }
   ],
   "source": [
    "dsets['ocn/pop.h/b.e20.B1850.f19_g17.test'].TEMP.isel(time=0, z_t=0).plot();"
   ]
  },
  {
   "cell_type": "markdown",
   "id": "facial-picking",
   "metadata": {},
   "source": [
    "## Conclusion\n",
    "Having the ability to easily create intake-esm catalogs from history files can be a powerful tool in your analysis toolkit. These data can be read in relatively quickly, easing the ability to quickly take a look at model output or even share your data with others! For more updates on [ecgtools](https://github.com/NCAR/ecgtools), be sure to follow [the ecgtools repository](https://github.com/NCAR/ecgtools) on Github! Have an idea for another helpful parser? Submit an issue!"
   ]
  },
  {
   "cell_type": "code",
   "execution_count": null,
   "id": "documentary-cable",
   "metadata": {},
   "outputs": [],
   "source": []
  }
 ],
 "metadata": {
  "author": "Max Grover",
  "date": "2021-06-04",
  "kernelspec": {
   "display_name": "Python [conda env:miniconda3-hires-marbl]",
   "language": "python",
   "name": "conda-env-miniconda3-hires-marbl-py"
  },
  "language_info": {
   "codemirror_mode": {
    "name": "ipython",
    "version": 3
   },
   "file_extension": ".py",
   "mimetype": "text/x-python",
   "name": "python",
   "nbconvert_exporter": "python",
   "pygments_lexer": "ipython3",
   "version": "3.7.10"
  },
  "tags": "intake,cesm",
  "title": "Building an Intake-esm catalog from CESM2 History Files"
 },
 "nbformat": 4,
 "nbformat_minor": 5
}
