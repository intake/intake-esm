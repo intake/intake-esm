{
 "cells": [
  {
   "cell_type": "markdown",
   "metadata": {},
   "source": [
    "# Working with multi-variable assets\n",
    "\n",
    "In addition to catalogs of data assets (files) in time-series (single-variable)\n",
    "format, intake-esm supports catalogs with data assets in time-slice (history)\n",
    "format and/or files with multiple variables. For intake-esm to properly work\n",
    "with multi-variable assets,\n",
    "\n",
    "- the `variable_column` of the catalog must contain iterables (list, tuple, set)\n",
    "  of values.\n",
    "- the user must specifiy a dictionary of functions for converting values in\n",
    "  certain columns into iterables. This is done via the `csv_kwargs` argument.\n",
    "\n",
    "In the example below, we are are going to use the following catalog to\n",
    "demonstrate how to work with multi-variable assets:\n"
   ]
  },
  {
   "cell_type": "code",
   "execution_count": 23,
   "metadata": {},
   "outputs": [
    {
     "name": "stdout",
     "output_type": "stream",
     "text": [
      "experiment,case,component,stream,variable,member_id,path,time_range\n",
      "CTRL,b.e11.B1850C5CN.f09_g16.005,ocn,pop.h,\"['SHF', 'REGION_MASK', 'ANGLE', 'DXU', 'KMT', 'NO2', 'O2']\",5,../../../tests/sample_data/cesm-multi-variables/b.e11.B1850C5CN.f09_g16.005.pop.h.SHF-NO2-O2.050001-050012.nc,050001-050012\n",
      "CTRL,b.e11.B1850C5CN.f09_g16.005,ocn,pop.h,\"['SHF', 'REGION_MASK', 'ANGLE', 'DXU', 'KMT', 'NO2', 'O2']\",5,../../../tests/sample_data/cesm-multi-variables/b.e11.B1850C5CN.f09_g16.005.pop.h.SHF-NO2-O2.050101-050112.nc,050101-050112\n",
      "CTRL,b.e11.B1850C5CN.f09_g16.005,ocn,pop.h,\"['SHF', 'REGION_MASK', 'ANGLE', 'DXU', 'KMT', 'NO2', 'PO4']\",5,../../../tests/sample_data/cesm-multi-variables/b.e11.B1850C5CN.f09_g16.005.pop.h.SHF-NO2-PO4.050001-050012.nc,050001-050012\n",
      "CTRL,b.e11.B1850C5CN.f09_g16.005,ocn,pop.h,\"['SHF', 'REGION_MASK', 'ANGLE', 'DXU', 'KMT', 'NO2', 'PO4']\",5,../../../tests/sample_data/cesm-multi-variables/b.e11.B1850C5CN.f09_g16.005.pop.h.SHF-NO2-PO4.050101-050112.nc,050101-050112\n",
      "CTRL,b.e11.B1850C5CN.f09_g16.005,ocn,pop.h,\"['SHF', 'REGION_MASK', 'ANGLE', 'DXU', 'KMT', 'TEMP', 'SiO3']\",5,../../../tests/sample_data/cesm-multi-variables/b.e11.B1850C5CN.f09_g16.005.pop.h.SHF-TEMP-SiO3.050001-050012.nc,050001-050012\n"
     ]
    }
   ],
   "source": [
    "# Look at the catalog on disk\n",
    "!cat multi-variable-catalog.csv"
   ]
  },
  {
   "cell_type": "markdown",
   "metadata": {},
   "source": [
    "As you can see, the variable column contains a list of varibles, and this list\n",
    "was serialized as a string:\n",
    "`\"['SHF', 'REGION_MASK', 'ANGLE', 'DXU', 'KMT', 'NO2', 'O2']\"`.\n"
   ]
  },
  {
   "cell_type": "markdown",
   "metadata": {},
   "source": [
    "## Loading a catalog\n",
    "\n",
    "To load a catalog with multiple variable files, we must pass additional\n",
    "information to `open_esm_datastore` via the `csv_kwargs` argument. We are going\n",
    "to specify a dictionary of functions for converting values in `variable` column\n",
    "into iterables. We use the `literal_eval` function from the standard `ast`\n",
    "module:\n"
   ]
  },
  {
   "cell_type": "code",
   "execution_count": 28,
   "metadata": {},
   "outputs": [],
   "source": [
    "import ast\n",
    "\n",
    "import intake"
   ]
  },
  {
   "cell_type": "code",
   "execution_count": 29,
   "metadata": {},
   "outputs": [
    {
     "data": {
      "text/html": [
       "<p><strong>sample-multi-variable-cesm1-lens catalog with 1 dataset(s) from 5 asset(s)</strong>:</p> <div>\n",
       "<style scoped>\n",
       "    .dataframe tbody tr th:only-of-type {\n",
       "        vertical-align: middle;\n",
       "    }\n",
       "\n",
       "    .dataframe tbody tr th {\n",
       "        vertical-align: top;\n",
       "    }\n",
       "\n",
       "    .dataframe thead th {\n",
       "        text-align: right;\n",
       "    }\n",
       "</style>\n",
       "<table border=\"1\" class=\"dataframe\">\n",
       "  <thead>\n",
       "    <tr style=\"text-align: right;\">\n",
       "      <th></th>\n",
       "      <th>unique</th>\n",
       "    </tr>\n",
       "  </thead>\n",
       "  <tbody>\n",
       "    <tr>\n",
       "      <th>experiment</th>\n",
       "      <td>1</td>\n",
       "    </tr>\n",
       "    <tr>\n",
       "      <th>case</th>\n",
       "      <td>1</td>\n",
       "    </tr>\n",
       "    <tr>\n",
       "      <th>component</th>\n",
       "      <td>1</td>\n",
       "    </tr>\n",
       "    <tr>\n",
       "      <th>stream</th>\n",
       "      <td>1</td>\n",
       "    </tr>\n",
       "    <tr>\n",
       "      <th>variable</th>\n",
       "      <td>10</td>\n",
       "    </tr>\n",
       "    <tr>\n",
       "      <th>member_id</th>\n",
       "      <td>1</td>\n",
       "    </tr>\n",
       "    <tr>\n",
       "      <th>path</th>\n",
       "      <td>5</td>\n",
       "    </tr>\n",
       "    <tr>\n",
       "      <th>time_range</th>\n",
       "      <td>2</td>\n",
       "    </tr>\n",
       "  </tbody>\n",
       "</table>\n",
       "</div>"
      ],
      "text/plain": [
       "<IPython.core.display.HTML object>"
      ]
     },
     "metadata": {},
     "output_type": "display_data"
    }
   ],
   "source": [
    "col = intake.open_esm_datastore(\n",
    "    \"multi-variable-collection.json\",\n",
    "    csv_kwargs={\"converters\": {\"variable\": ast.literal_eval}},\n",
    ")\n",
    "col"
   ]
  },
  {
   "cell_type": "code",
   "execution_count": 30,
   "metadata": {},
   "outputs": [
    {
     "data": {
      "text/html": [
       "<div>\n",
       "<style scoped>\n",
       "    .dataframe tbody tr th:only-of-type {\n",
       "        vertical-align: middle;\n",
       "    }\n",
       "\n",
       "    .dataframe tbody tr th {\n",
       "        vertical-align: top;\n",
       "    }\n",
       "\n",
       "    .dataframe thead th {\n",
       "        text-align: right;\n",
       "    }\n",
       "</style>\n",
       "<table border=\"1\" class=\"dataframe\">\n",
       "  <thead>\n",
       "    <tr style=\"text-align: right;\">\n",
       "      <th></th>\n",
       "      <th>experiment</th>\n",
       "      <th>case</th>\n",
       "      <th>component</th>\n",
       "      <th>stream</th>\n",
       "      <th>variable</th>\n",
       "      <th>member_id</th>\n",
       "      <th>path</th>\n",
       "      <th>time_range</th>\n",
       "    </tr>\n",
       "  </thead>\n",
       "  <tbody>\n",
       "    <tr>\n",
       "      <th>0</th>\n",
       "      <td>CTRL</td>\n",
       "      <td>b.e11.B1850C5CN.f09_g16.005</td>\n",
       "      <td>ocn</td>\n",
       "      <td>pop.h</td>\n",
       "      <td>(SHF, REGION_MASK, ANGLE, DXU, KMT, NO2, O2)</td>\n",
       "      <td>5</td>\n",
       "      <td>../../../tests/sample_data/cesm-multi-variable...</td>\n",
       "      <td>050001-050012</td>\n",
       "    </tr>\n",
       "    <tr>\n",
       "      <th>1</th>\n",
       "      <td>CTRL</td>\n",
       "      <td>b.e11.B1850C5CN.f09_g16.005</td>\n",
       "      <td>ocn</td>\n",
       "      <td>pop.h</td>\n",
       "      <td>(SHF, REGION_MASK, ANGLE, DXU, KMT, NO2, O2)</td>\n",
       "      <td>5</td>\n",
       "      <td>../../../tests/sample_data/cesm-multi-variable...</td>\n",
       "      <td>050101-050112</td>\n",
       "    </tr>\n",
       "    <tr>\n",
       "      <th>2</th>\n",
       "      <td>CTRL</td>\n",
       "      <td>b.e11.B1850C5CN.f09_g16.005</td>\n",
       "      <td>ocn</td>\n",
       "      <td>pop.h</td>\n",
       "      <td>(SHF, REGION_MASK, ANGLE, DXU, KMT, NO2, PO4)</td>\n",
       "      <td>5</td>\n",
       "      <td>../../../tests/sample_data/cesm-multi-variable...</td>\n",
       "      <td>050001-050012</td>\n",
       "    </tr>\n",
       "    <tr>\n",
       "      <th>3</th>\n",
       "      <td>CTRL</td>\n",
       "      <td>b.e11.B1850C5CN.f09_g16.005</td>\n",
       "      <td>ocn</td>\n",
       "      <td>pop.h</td>\n",
       "      <td>(SHF, REGION_MASK, ANGLE, DXU, KMT, NO2, PO4)</td>\n",
       "      <td>5</td>\n",
       "      <td>../../../tests/sample_data/cesm-multi-variable...</td>\n",
       "      <td>050101-050112</td>\n",
       "    </tr>\n",
       "    <tr>\n",
       "      <th>4</th>\n",
       "      <td>CTRL</td>\n",
       "      <td>b.e11.B1850C5CN.f09_g16.005</td>\n",
       "      <td>ocn</td>\n",
       "      <td>pop.h</td>\n",
       "      <td>(SHF, REGION_MASK, ANGLE, DXU, KMT, TEMP, SiO3)</td>\n",
       "      <td>5</td>\n",
       "      <td>../../../tests/sample_data/cesm-multi-variable...</td>\n",
       "      <td>050001-050012</td>\n",
       "    </tr>\n",
       "  </tbody>\n",
       "</table>\n",
       "</div>"
      ],
      "text/plain": [
       "  experiment                         case component stream  \\\n",
       "0       CTRL  b.e11.B1850C5CN.f09_g16.005       ocn  pop.h   \n",
       "1       CTRL  b.e11.B1850C5CN.f09_g16.005       ocn  pop.h   \n",
       "2       CTRL  b.e11.B1850C5CN.f09_g16.005       ocn  pop.h   \n",
       "3       CTRL  b.e11.B1850C5CN.f09_g16.005       ocn  pop.h   \n",
       "4       CTRL  b.e11.B1850C5CN.f09_g16.005       ocn  pop.h   \n",
       "\n",
       "                                          variable  member_id  \\\n",
       "0     (SHF, REGION_MASK, ANGLE, DXU, KMT, NO2, O2)          5   \n",
       "1     (SHF, REGION_MASK, ANGLE, DXU, KMT, NO2, O2)          5   \n",
       "2    (SHF, REGION_MASK, ANGLE, DXU, KMT, NO2, PO4)          5   \n",
       "3    (SHF, REGION_MASK, ANGLE, DXU, KMT, NO2, PO4)          5   \n",
       "4  (SHF, REGION_MASK, ANGLE, DXU, KMT, TEMP, SiO3)          5   \n",
       "\n",
       "                                                path     time_range  \n",
       "0  ../../../tests/sample_data/cesm-multi-variable...  050001-050012  \n",
       "1  ../../../tests/sample_data/cesm-multi-variable...  050101-050112  \n",
       "2  ../../../tests/sample_data/cesm-multi-variable...  050001-050012  \n",
       "3  ../../../tests/sample_data/cesm-multi-variable...  050101-050112  \n",
       "4  ../../../tests/sample_data/cesm-multi-variable...  050001-050012  "
      ]
     },
     "execution_count": 30,
     "metadata": {},
     "output_type": "execute_result"
    }
   ],
   "source": [
    "col.df.head()"
   ]
  },
  {
   "cell_type": "markdown",
   "metadata": {},
   "source": [
    "The in-memory representation of the catalog contains `variable` with tuple of\n",
    "values. To confirm that intake-esm has registered this catalog with multiple\n",
    "variable assets, we can the `._multiple_variable_assets` property:\n"
   ]
  },
  {
   "cell_type": "code",
   "execution_count": 32,
   "metadata": {},
   "outputs": [
    {
     "data": {
      "text/plain": [
       "True"
      ]
     },
     "execution_count": 32,
     "metadata": {},
     "output_type": "execute_result"
    }
   ],
   "source": [
    "col._multiple_variable_assets"
   ]
  },
  {
   "cell_type": "markdown",
   "metadata": {},
   "source": [
    "## Searching\n",
    "\n",
    "The search functionatilty works in the same way:\n"
   ]
  },
  {
   "cell_type": "code",
   "execution_count": 37,
   "metadata": {},
   "outputs": [
    {
     "data": {
      "text/html": [
       "<div>\n",
       "<style scoped>\n",
       "    .dataframe tbody tr th:only-of-type {\n",
       "        vertical-align: middle;\n",
       "    }\n",
       "\n",
       "    .dataframe tbody tr th {\n",
       "        vertical-align: top;\n",
       "    }\n",
       "\n",
       "    .dataframe thead th {\n",
       "        text-align: right;\n",
       "    }\n",
       "</style>\n",
       "<table border=\"1\" class=\"dataframe\">\n",
       "  <thead>\n",
       "    <tr style=\"text-align: right;\">\n",
       "      <th></th>\n",
       "      <th>experiment</th>\n",
       "      <th>case</th>\n",
       "      <th>component</th>\n",
       "      <th>stream</th>\n",
       "      <th>variable</th>\n",
       "      <th>member_id</th>\n",
       "      <th>path</th>\n",
       "      <th>time_range</th>\n",
       "    </tr>\n",
       "  </thead>\n",
       "  <tbody>\n",
       "    <tr>\n",
       "      <th>0</th>\n",
       "      <td>CTRL</td>\n",
       "      <td>b.e11.B1850C5CN.f09_g16.005</td>\n",
       "      <td>ocn</td>\n",
       "      <td>pop.h</td>\n",
       "      <td>(SHF, REGION_MASK, ANGLE, DXU, KMT, NO2, O2)</td>\n",
       "      <td>5</td>\n",
       "      <td>../../../tests/sample_data/cesm-multi-variable...</td>\n",
       "      <td>050001-050012</td>\n",
       "    </tr>\n",
       "    <tr>\n",
       "      <th>1</th>\n",
       "      <td>CTRL</td>\n",
       "      <td>b.e11.B1850C5CN.f09_g16.005</td>\n",
       "      <td>ocn</td>\n",
       "      <td>pop.h</td>\n",
       "      <td>(SHF, REGION_MASK, ANGLE, DXU, KMT, NO2, O2)</td>\n",
       "      <td>5</td>\n",
       "      <td>../../../tests/sample_data/cesm-multi-variable...</td>\n",
       "      <td>050101-050112</td>\n",
       "    </tr>\n",
       "    <tr>\n",
       "      <th>2</th>\n",
       "      <td>CTRL</td>\n",
       "      <td>b.e11.B1850C5CN.f09_g16.005</td>\n",
       "      <td>ocn</td>\n",
       "      <td>pop.h</td>\n",
       "      <td>(SHF, REGION_MASK, ANGLE, DXU, KMT, TEMP, SiO3)</td>\n",
       "      <td>5</td>\n",
       "      <td>../../../tests/sample_data/cesm-multi-variable...</td>\n",
       "      <td>050001-050012</td>\n",
       "    </tr>\n",
       "  </tbody>\n",
       "</table>\n",
       "</div>"
      ],
      "text/plain": [
       "  experiment                         case component stream  \\\n",
       "0       CTRL  b.e11.B1850C5CN.f09_g16.005       ocn  pop.h   \n",
       "1       CTRL  b.e11.B1850C5CN.f09_g16.005       ocn  pop.h   \n",
       "2       CTRL  b.e11.B1850C5CN.f09_g16.005       ocn  pop.h   \n",
       "\n",
       "                                          variable  member_id  \\\n",
       "0     (SHF, REGION_MASK, ANGLE, DXU, KMT, NO2, O2)          5   \n",
       "1     (SHF, REGION_MASK, ANGLE, DXU, KMT, NO2, O2)          5   \n",
       "2  (SHF, REGION_MASK, ANGLE, DXU, KMT, TEMP, SiO3)          5   \n",
       "\n",
       "                                                path     time_range  \n",
       "0  ../../../tests/sample_data/cesm-multi-variable...  050001-050012  \n",
       "1  ../../../tests/sample_data/cesm-multi-variable...  050101-050112  \n",
       "2  ../../../tests/sample_data/cesm-multi-variable...  050001-050012  "
      ]
     },
     "execution_count": 37,
     "metadata": {},
     "output_type": "execute_result"
    }
   ],
   "source": [
    "col_subset = col.search(variable=[\"O2\", \"SiO3\"])\n",
    "col_subset.df"
   ]
  },
  {
   "cell_type": "markdown",
   "metadata": {},
   "source": [
    "## Loading assets into xarray datasets\n",
    "\n",
    "Loading data assets into xarray datasets works in the same way too:\n"
   ]
  },
  {
   "cell_type": "code",
   "execution_count": 38,
   "metadata": {},
   "outputs": [
    {
     "name": "stdout",
     "output_type": "stream",
     "text": [
      "\n",
      "--> The keys in the returned dictionary of datasets are constructed as follows:\n",
      "\t'component.experiment.stream'\n"
     ]
    },
    {
     "data": {
      "text/html": [
       "\n",
       "    <div>\n",
       "        <style>\n",
       "            /* Turns off some styling */\n",
       "            progress {\n",
       "                /* gets rid of default border in Firefox and Opera. */\n",
       "                border: none;\n",
       "                /* Needs to be in here for Safari polyfill so background images work as expected. */\n",
       "                background-size: auto;\n",
       "            }\n",
       "            .progress-bar-interrupted, .progress-bar-interrupted::-webkit-progress-bar {\n",
       "                background: #F44336;\n",
       "            }\n",
       "        </style>\n",
       "      <progress value='1' class='' max='1' style='width:300px; height:20px; vertical-align: middle;'></progress>\n",
       "      100.00% [1/1 00:00<00:00]\n",
       "    </div>\n",
       "    "
      ],
      "text/plain": [
       "<IPython.core.display.HTML object>"
      ]
     },
     "metadata": {},
     "output_type": "display_data"
    },
    {
     "data": {
      "text/plain": [
       "{'ocn.CTRL.pop.h': <xarray.Dataset>\n",
       " Dimensions:    (member_id: 1, nlat: 2, nlon: 2, time: 24)\n",
       " Coordinates:\n",
       "   * time       (time) object 0500-02-01 00:00:00 ... 0502-02-01 00:00:00\n",
       "     TLAT       (nlat, nlon) float64 dask.array<chunksize=(2, 2), meta=np.ndarray>\n",
       "     TLONG      (nlat, nlon) float64 dask.array<chunksize=(2, 2), meta=np.ndarray>\n",
       "     ULAT       (nlat, nlon) float64 dask.array<chunksize=(2, 2), meta=np.ndarray>\n",
       "     ULONG      (nlat, nlon) float64 dask.array<chunksize=(2, 2), meta=np.ndarray>\n",
       "   * member_id  (member_id) int64 5\n",
       " Dimensions without coordinates: nlat, nlon\n",
       " Data variables:\n",
       "     O2         (member_id, time, nlat, nlon) float32 dask.array<chunksize=(1, 12, 2, 2), meta=np.ndarray>\n",
       "     SiO3       (member_id, time, nlat, nlon) float32 dask.array<chunksize=(1, 24, 2, 2), meta=np.ndarray>\n",
       " Attributes:\n",
       "     cell_methods:              cell_methods = time: mean ==> the variable val...\n",
       "     NCO:                       4.3.4\n",
       "     source:                    CCSM POP2, the CCSM Ocean Component\n",
       "     start_time:                This dataset was created on 2013-05-28 at 02:4...\n",
       "     calendar:                  All years have exactly  365 days.\n",
       "     nsteps_total:              1953500\n",
       "     history:                   Fri Oct 11 01:05:51 2013: /glade/apps/opt/nco/...\n",
       "     contents:                  Diagnostic and Prognostic Variables\n",
       "     tavg_sum_qflux:            2678400.0\n",
       "     revision:                  $Id: tavg.F90 41939 2012-11-14 16:37:23Z mlevy...\n",
       "     tavg_sum:                  2678400.0\n",
       "     Conventions:               CF-1.0; http://www.cgd.ucar.edu/cms/eaton/netc...\n",
       "     title:                     b.e11.B1850C5CN.f09_g16.005\n",
       "     intake_esm_varname:        O2\\nSiO3\n",
       "     nco_openmp_thread_number:  1\n",
       "     intake_esm_dataset_key:    ocn.CTRL.pop.h}"
      ]
     },
     "execution_count": 38,
     "metadata": {},
     "output_type": "execute_result"
    }
   ],
   "source": [
    "col_subset.to_dataset_dict(cdf_kwargs={})"
   ]
  }
 ],
 "metadata": {
  "kernelspec": {
   "display_name": "Python 3",
   "language": "python",
   "name": "python3"
  },
  "language_info": {
   "codemirror_mode": {
    "name": "ipython",
    "version": 3
   },
   "file_extension": ".py",
   "mimetype": "text/x-python",
   "name": "python",
   "nbconvert_exporter": "python",
   "pygments_lexer": "ipython3",
   "version": "3.8.3"
  }
 },
 "nbformat": 4,
 "nbformat_minor": 4
}
